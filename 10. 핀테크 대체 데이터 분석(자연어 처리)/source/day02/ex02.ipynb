{
 "cells": [
  {
   "cell_type": "code",
   "execution_count": 9,
   "id": "4b32f206",
   "metadata": {},
   "outputs": [],
   "source": [
    "from transformers import pipeline"
   ]
  },
  {
   "cell_type": "code",
   "execution_count": 11,
   "id": "8ab24afd",
   "metadata": {},
   "outputs": [
    {
     "name": "stderr",
     "output_type": "stream",
     "text": [
      "Device set to use cpu\n"
     ]
    }
   ],
   "source": [
    "pipe = pipeline(task='summarization', model='sshleifer/distilbart-cnn-12-6')"
   ]
  },
  {
   "cell_type": "code",
   "execution_count": 13,
   "id": "5982ff54",
   "metadata": {},
   "outputs": [
    {
     "data": {
      "text/plain": [
       "[{'summary_text': ' Elit at imperdiet dui accumsan sit. Quis hendrerit dolor magna eget est lorem ipsum dolor sit amet, consectetur adipiscing elit, sed do eiusmod tempor incididunt ut labore .'}]"
      ]
     },
     "execution_count": 13,
     "metadata": {},
     "output_type": "execute_result"
    }
   ],
   "source": [
    "sample_text  = '''\n",
    "Lorem ipsum dolor sit amet, consectetur adipiscing elit, sed do eiusmod tempor incididunt ut labore et dolore magna aliqua. Nisl tincidunt eget nullam non. Quis hendrerit dolor magna eget est lorem ipsum dolor sit. Volutpat odio facilisis mauris sit amet massa. Commodo odio aenean sed adipiscing diam donec adipiscing tristique. Mi eget mauris pharetra et. Non tellus orci ac auctor augue. Elit at imperdiet dui accumsan sit. Ornare arcu dui vivamus arcu felis. Egestas integer eget aliquet nibh praesent. In hac habitasse platea dictumst quisque sagittis purus. Pulvinar elementum integer enim neque volutpat ac.\n",
    "\n",
    "Senectus et netus et malesuada. Nunc pulvinar sapien et ligula ullamcorper malesuada proin. Neque convallis a cras semper auctor. Libero id faucibus nisl tincidunt eget. Leo a diam sollicitudin tempor id. A lacus vestibulum sed arcu non odio euismod lacinia. In tellus integer feugiat scelerisque. Feugiat in fermentum posuere urna nec tincidunt praesent. Porttitor rhoncus dolor purus non enim praesent elementum facilisis. Nisi scelerisque eu ultrices vitae auctor eu augue ut lectus. Ipsum faucibus vitae aliquet nec ullamcorper sit amet risus. Et malesuada fames ac turpis egestas sed. Sit amet nisl suscipit adipiscing bibendum est ultricies. Arcu ac tortor dignissim convallis aenean et tortor at. Pretium viverra suspendisse potenti nullam ac tortor vitae purus. Eros donec ac odio tempor orci dapibus ultrices. Elementum nibh tellus molestie nunc. Et magnis dis parturient montes nascetur. Est placerat in egestas erat imperdiet. Consequat interdum varius sit amet mattis vulputate enim.\n",
    "'''\n",
    "pipe(sample_text)"
   ]
  },
  {
   "cell_type": "code",
   "execution_count": 16,
   "id": "352c81dd",
   "metadata": {},
   "outputs": [
    {
     "name": "stderr",
     "output_type": "stream",
     "text": [
      "c:\\김용준\\10. 핀테크 대체 데이터 분석(자연어 처리)\\source\\.venv\\Lib\\site-packages\\huggingface_hub\\file_download.py:143: UserWarning: `huggingface_hub` cache-system uses symlinks by default to efficiently store duplicated files but your machine does not support them in C:\\Users\\admin\\.cache\\huggingface\\hub\\models--EbanLee--kobart-summary-v3. Caching files will still work but in a degraded version that might require more space on your disk. This warning can be disabled by setting the `HF_HUB_DISABLE_SYMLINKS_WARNING` environment variable. For more details, see https://huggingface.co/docs/huggingface_hub/how-to-cache#limitations.\n",
      "To support symlinks on Windows, you either need to activate Developer Mode or to run Python as an administrator. In order to activate developer mode, see this article: https://docs.microsoft.com/en-us/windows/apps/get-started/enable-your-device-for-development\n",
      "  warnings.warn(message)\n",
      "You passed along `num_labels=3` with an incompatible id to label map: {'0': 'NEGATIVE', '1': 'POSITIVE'}. The number of labels will be overwritten to 2.\n",
      "You passed along `num_labels=3` with an incompatible id to label map: {'0': 'NEGATIVE', '1': 'POSITIVE'}. The number of labels will be overwritten to 2.\n",
      "Device set to use cpu\n"
     ]
    }
   ],
   "source": [
    "pipe = pipeline(task='summarization', model='EbanLee/kobart-summary-v3')"
   ]
  },
  {
   "cell_type": "code",
   "execution_count": 17,
   "id": "e2b4fefd",
   "metadata": {},
   "outputs": [
    {
     "data": {
      "text/plain": [
       "[{'summary_text': \"구글클라우드는 서울 리전 가동 5주년을 맞아 한국시장 공략을 강화하며 공공·금융 등 규제산업 분야에 유연한 선택지를 제공하고, 민간분야에선 구글 자체 인공지능(AI) 모델 '제미나이'를 앞세워 고객층을 넓힌다는 전략이다.\"}]"
      ]
     },
     "execution_count": 17,
     "metadata": {},
     "output_type": "execute_result"
    }
   ],
   "source": [
    "sample_text  = '''구글클라우드가 서울 리전(서버지역) 가동 5주년을 맞아 한국시장 공략을 강화한다. 공공·금융 등 규제산업 분야에 유연한 선택지를 제공하고, 민간분야에선 구글 자체 인공지능(AI) 모델 '제미나이'를 앞세워 고객층을 넓힌다는 전략이다.\n",
    "지기성 구글클라우드코리아 사장은 8일 서울 강남구 코엑스에서 열린 '구글 클라우드 데이 서울' 기자간담회에서 \"고객으로부터 가장 많이 받는 질문은 '기존 시스템에 추가 투자 없이 AI를 적용할 수 있냐'·'데이터는 어떻게 보호받냐'는 것\"이라며 \"구글 클라우드는 답이 있다\" 말했다.\n",
    "이날 구글클라우드는 서울 리전의 '데이터 레지던시' 옵션을 '저장 상태(At-rest) 데이터'에서 '머신러닝(ML) 작업 상태 데이터'로 확대한다고 밝혔다. 그간 구글클라우드플랫폼(GCP) 고객은 데이터가 저장되는 위치를 국내로 고정할 수 있었는데, 앞으로는 데이터를 꺼내 ML 연산을 수행하는 서버의 위치까지 국내로 고정할 수 있도록 선택권을 준다는 취지다.\n",
    "AI 활용을 원하면서도 데이터 국외이전 규제나 소버린 클라우드 논의 탓에 외산 클라우드 도입이 더딘 기업·기관을 겨냥한 것으로 풀이된다.\n",
    "GCP 고객은 암호화 키를 구글의 인프라 바깥에서 저장·관리할 수도 있다. 구글클라우드는 \"특히 규제준수가 필요한 기업이 '제미나이 2.5 플래시'를 국내에서 활용할 수 있도록 지원한다\"고 밝혔다.\n",
    "국내외 클라우드 시장은 인터넷에 연결된 '퍼블릭 클라우드'가 중심이지만, 망분리 규제를 받는 공공·금융분야와 반도체·배터리·방산 등 산업군에선 주요 서버를 인터넷에 연결하기 어렵다. 구글클라우드는 이를 해결하기 위해 '구글 분산형 클라우드 에어갭(GDC Air-gapped)'을 한국에서도 제공한다고 밝혔다.\n",
    "GCP 서비스를 폐쇄된 통신망에서도 활용할 수 있도록 구글클라우드가 서버 장비를 기업·기관 내 데이터센터로 납품하는 상품이다. 구글클라우드는 \"오직 고객이 선택한 환경에서만 작동하기 때문에 구글 리전이나 공용 인터넷에 연결할 필요가 없다\"며 \"인터넷 연결 없는 운영을 보장할 수 있다\"고 밝혔다.\n",
    "이 밖에 구글클라우드는 제미나이의 경쟁력에 대해 자신감을 드러냈다. 지 사장은 \"100만 토큰 입력당 가격이 0.15달러인 제미나이 2.5 플래시는 같은 기준 가격이 1.1달러인 오픈AI GPT-4o 대비 약 24배의 비용 효율성을 자랑한다\"고 말했다\n",
    "국내에서 제미나이를 전면 도입한 사례로는 뤼튼을 꼽았다. 유영준 뤼튼테크놀로지스 최고운영책임자(COO)는 \"여러 모델 중 제미나이가 가장 좋은 사용자 반응을 얻어서 전격 도입했다\"며 \"특히 제미나이 2.5 시리즈는 기존 대비 향상된 가격 대 성능비를 바탕으로 적용 범위를 확대했다\"고 말했다.\n",
    "제미나이뿐만 아니라 AI 개발·배포 플랫폼 '버텍스 AI'를 통해 클로드·라마·딥시크 등 타사 모델 200여종을 폭넓게 지원하는 것도 GCP의 강점이라고 구글클라우드는 설명했다. 지 사장은 \"반도체에서 서비스형소프트웨어(SaaS)까지 풀 스택(Full-stack)을 가진 회사는 구글클라우드가 유일하다\"고 강조했다.\n",
    "한편 구글클라우드는 AI 체험공간 '제미나이 플레이그라운드'를 개장해 동영상 생성 AI 모델 '비오3'와 AI 업무도구 '노트북LM' 등을 전시했다. 이 공간엔 LG유플러스·카카오모빌리티·NC AI·놀유니버스·매스프레소도 참여해 제미나이·GCP를 응용한 서비스를 소개했다.'''\n",
    "\n",
    "pipe(sample_text)"
   ]
  },
  {
   "cell_type": "code",
   "execution_count": null,
   "id": "33cc4f9a",
   "metadata": {},
   "outputs": [],
   "source": []
  }
 ],
 "metadata": {
  "kernelspec": {
   "display_name": ".venv",
   "language": "python",
   "name": "python3"
  },
  "language_info": {
   "codemirror_mode": {
    "name": "ipython",
    "version": 3
   },
   "file_extension": ".py",
   "mimetype": "text/x-python",
   "name": "python",
   "nbconvert_exporter": "python",
   "pygments_lexer": "ipython3",
   "version": "3.12.10"
  }
 },
 "nbformat": 4,
 "nbformat_minor": 5
}
