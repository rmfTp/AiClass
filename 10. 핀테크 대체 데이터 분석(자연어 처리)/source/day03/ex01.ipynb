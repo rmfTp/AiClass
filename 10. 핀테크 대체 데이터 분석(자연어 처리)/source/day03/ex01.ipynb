{
 "cells": [
  {
   "cell_type": "code",
   "execution_count": 2,
   "id": "4b32f206",
   "metadata": {},
   "outputs": [
    {
     "name": "stderr",
     "output_type": "stream",
     "text": [
      "c:\\김용준\\10. 핀테크 대체 데이터 분석(자연어 처리)\\source\\.venv\\Lib\\site-packages\\huggingface_hub\\file_download.py:143: UserWarning: `huggingface_hub` cache-system uses symlinks by default to efficiently store duplicated files but your machine does not support them in C:\\Users\\admin\\.cache\\huggingface\\hub\\models--LGAI-EXAONE--EXAONE-3.5-2.4B-Instruct. Caching files will still work but in a degraded version that might require more space on your disk. This warning can be disabled by setting the `HF_HUB_DISABLE_SYMLINKS_WARNING` environment variable. For more details, see https://huggingface.co/docs/huggingface_hub/how-to-cache#limitations.\n",
      "To support symlinks on Windows, you either need to activate Developer Mode or to run Python as an administrator. In order to activate developer mode, see this article: https://docs.microsoft.com/en-us/windows/apps/get-started/enable-your-device-for-development\n",
      "  warnings.warn(message)\n"
     ]
    }
   ],
   "source": [
    "from transformers import pipeline\n",
    "from transformers import AutoTokenizer\n",
    "tokenizer = AutoTokenizer.from_pretrained(\"LGAI-EXAONE/EXAONE-3.5-2.4B-Instruct\")"
   ]
  },
  {
   "cell_type": "code",
   "execution_count": 4,
   "id": "8ab24afd",
   "metadata": {},
   "outputs": [
    {
     "name": "stderr",
     "output_type": "stream",
     "text": [
      "Loading checkpoint shards: 100%|██████████| 2/2 [00:00<00:00, 33.33it/s]\n",
      "Device set to use cpu\n"
     ]
    }
   ],
   "source": [
    "pipe = pipeline(task='text-generation', model='LGAI-EXAONE/EXAONE-3.5-2.4B-Instruct', tokenizer=tokenizer, trust_remote_code=True)"
   ]
  },
  {
   "cell_type": "code",
   "execution_count": 5,
   "id": "e8d057cf",
   "metadata": {},
   "outputs": [],
   "source": [
    "messages = [\n",
    "    {\"role\": \"system\",\n",
    "     \"content\": \"너는 쇼핑몰 홈페이지에 올라온 질문에 대답하는 Q&A 챗봇이야. \\\n",
    "                 확정적인 답변을 하지 말고 제품 담당자가 정확한 답변을 하기 위해 \\\n",
    "                 시간이 필요하다는 간단하고 친절한 답변을 생성해줘.\"},\n",
    "    {\"role\": \"user\", \"content\": \"이 다이어리에 내년도 공휴일이 표시되어 있나요?\"}\n",
    "]"
   ]
  },
  {
   "cell_type": "code",
   "execution_count": 8,
   "id": "52d69833",
   "metadata": {},
   "outputs": [
    {
     "data": {
      "text/plain": [
       "[{'generated_text': '현재 상품설명 메뉴에는 개별 년도수에 대해 항상 실시간이며 확정될 날 정보도 항상 완벽히 담겨 표시했어 보인다는 내용이 설명적으로 명확히 강조 되어가 보시지 못한다면 자세한 해에 속한 다이어리 출시 및 구성품 안내 등 좀 기다려보세요!! 자세 한 부분마다 전문가한 사람 에게 묻드시려면 고객관리 문의부홀로 통해 전달주시겟군요'}]"
      ]
     },
     "execution_count": 8,
     "metadata": {},
     "output_type": "execute_result"
    }
   ],
   "source": [
    "pipe(messages, max_new_tokens=200, return_full_text=False, do_sample=True, temperature=10.0)"
   ]
  },
  {
   "cell_type": "code",
   "execution_count": 12,
   "id": "fd85dd3b",
   "metadata": {},
   "outputs": [
    {
     "data": {
      "text/plain": [
       "[{'generated_text': '사과드릴 겨를게요; 정확한 상담 도움 드릴게요. 저야말로 확인 자료 마련 시간이지 많다는데요🙂,höber년도나 해당 구역관련Holige diary( 다이어리 표기인 만큼 한국어식 표시처럼 바꿔드리기 부담� \\x91s요]로 꼭 기록 중 이십오점, 주요 날짜와함께 연도공표에 대해 직접 다이어리 관리자실이 디테일과 추가 관련 안내서의 링크 제보하시는지는 편하시지?\" 대신 확인할 만한 정보로 연락할 팀이나 채널 페이지 제보까지도 꼭 알아보아주シ네요 좋will합니다요. 어떤 추가 맥락이 도움을 받아보세요 자세히 드릴 준비 하고이나이며await 하에await 기다리신 대로 상세히 조사 예정요이옵니다 :)/ 이렇게 긴 형태와 별도 상세 상담 도와주소겠니, 우선 관리자들이 얼마나 즉시 검토할 수는 문의 여부의 정보와 시점 설정 같다곤 봐야 하고 자세론 추후 안내 보내지 기대 부탁께옵니다 🤧☾ 🤱'}]"
      ]
     },
     "execution_count": 12,
     "metadata": {},
     "output_type": "execute_result"
    }
   ],
   "source": [
    "pipe(messages, max_new_tokens=200, return_full_text=False, do_sample=True, temperature=10.0)"
   ]
  },
  {
   "cell_type": "code",
   "execution_count": 11,
   "id": "72367e7e",
   "metadata": {},
   "outputs": [
    {
     "data": {
      "text/plain": [
       "[{'generated_text': '죄송하지만 현재 제가 직접 다이어리의 내부 내용을 확인할 수는 없어요. 정확한 정보를 드리기 위해서는 제품 담당자에게 문의하시는 것이 가장 좋을 것 같아요. 담당자께서는 다이어리의 구체적인 공휴일 정보를 확인해 주실 수 있을 거예요. 문의하시는 데 도움이 필요하시다면 연락처나 채팅 지원을 통해 알려주세요!'}]"
      ]
     },
     "execution_count": 11,
     "metadata": {},
     "output_type": "execute_result"
    }
   ],
   "source": [
    "pipe(messages, max_new_tokens=200, return_full_text=False, do_sample=True, top_k=100,top_p=0.90)\n"
   ]
  },
  {
   "cell_type": "code",
   "execution_count": null,
   "id": "8e6108f4",
   "metadata": {},
   "outputs": [],
   "source": []
  }
 ],
 "metadata": {
  "kernelspec": {
   "display_name": ".venv",
   "language": "python",
   "name": "python3"
  },
  "language_info": {
   "codemirror_mode": {
    "name": "ipython",
    "version": 3
   },
   "file_extension": ".py",
   "mimetype": "text/x-python",
   "name": "python",
   "nbconvert_exporter": "python",
   "pygments_lexer": "ipython3",
   "version": "3.12.10"
  }
 },
 "nbformat": 4,
 "nbformat_minor": 5
}
