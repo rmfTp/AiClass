{
 "cells": [
  {
   "cell_type": "code",
   "execution_count": 1,
   "id": "7adbe724",
   "metadata": {},
   "outputs": [],
   "source": [
    "import torch\n",
    "import keras\n",
    "from sklearn.model_selection import train_test_split\n",
    "\n",
    "(train_input, train_target),(test_input, test_target) = keras.datasets.imdb.load_data(num_words=500)\n",
    "train_input, val_input, train_target, val_target = train_test_split(\n",
    "    train_input,train_target\n",
    ")"
   ]
  },
  {
   "cell_type": "code",
   "execution_count": 2,
   "id": "06eb1165",
   "metadata": {},
   "outputs": [],
   "source": [
    "from keras.preprocessing.sequence import pad_sequences\n",
    "train_seq = pad_sequences(train_input, maxlen=100)\n",
    "val_seq = pad_sequences(val_input, maxlen=100)"
   ]
  },
  {
   "cell_type": "code",
   "execution_count": 3,
   "id": "bdf42153",
   "metadata": {},
   "outputs": [],
   "source": [
    "train_seq = torch.tensor(train_seq)\n",
    "val_seq = torch.tensor(val_seq)"
   ]
  },
  {
   "cell_type": "code",
   "execution_count": 4,
   "id": "2df27574",
   "metadata": {},
   "outputs": [],
   "source": [
    "train_target = torch.tensor(train_target, dtype=torch.float32)\n",
    "val_target = torch.tensor(val_target, dtype=torch.float32)"
   ]
  },
  {
   "cell_type": "code",
   "execution_count": 5,
   "id": "44b1ef83",
   "metadata": {},
   "outputs": [],
   "source": [
    "from torch.utils.data import TensorDataset, DataLoader\n",
    "train_dataset = TensorDataset(train_seq,train_target)\n",
    "val_dataset = TensorDataset(val_seq,val_target)\n",
    "\n",
    "train_loader = DataLoader(train_dataset, batch_size=32, shuffle=True)\n",
    "val_loader = DataLoader(val_dataset, batch_size=32, shuffle=False)"
   ]
  },
  {
   "cell_type": "code",
   "execution_count": 6,
   "id": "e9890b0f",
   "metadata": {},
   "outputs": [],
   "source": [
    "import torch.nn as nn\n",
    "class IMDBRnnm(nn.Module):\n",
    "    def __init__(self):\n",
    "        super().__init__()\n",
    "        self.embedding = nn.Embedding(500,16)\n",
    "        self.rnn = nn.RNN(16,8,batch_first=True)\n",
    "        self.dense = nn.Linear(8,1) \n",
    "        self.sigmoid = nn.Sigmoid()\n",
    "    def forward(self, x):\n",
    "        x = self.embedding(x)\n",
    "        _, hidden = self.rnn(x)\n",
    "        outputs = self.dense(hidden[-1])\n",
    "        return self.sigmoid(outputs)"
   ]
  },
  {
   "cell_type": "code",
   "execution_count": null,
   "id": "f6055231",
   "metadata": {},
   "outputs": [
    {
     "data": {
      "text/plain": [
       "=================================================================\n",
       "Layer (type:depth-idx)                   Param #\n",
       "=================================================================\n",
       "IMDBRnnm                                 --\n",
       "├─Embedding: 1-1                         8,000\n",
       "├─RNN: 1-2                               208\n",
       "├─Linear: 1-3                            9\n",
       "├─Sigmoid: 1-4                           --\n",
       "=================================================================\n",
       "Total params: 8,217\n",
       "Trainable params: 8,217\n",
       "Non-trainable params: 0\n",
       "================================================================="
      ]
     },
     "execution_count": 7,
     "metadata": {},
     "output_type": "execute_result"
    }
   ],
   "source": [
    "from torchinfo import summary\n",
    "model = IMDBRnnm()\n",
    "summary(model)"
   ]
  },
  {
   "cell_type": "code",
   "execution_count": 8,
   "id": "4004e6e6",
   "metadata": {},
   "outputs": [
    {
     "data": {
      "text/plain": [
       "IMDBRnnm(\n",
       "  (embedding): Embedding(500, 16)\n",
       "  (rnn): RNN(16, 8, batch_first=True)\n",
       "  (dense): Linear(in_features=8, out_features=1, bias=True)\n",
       "  (sigmoid): Sigmoid()\n",
       ")"
      ]
     },
     "execution_count": 8,
     "metadata": {},
     "output_type": "execute_result"
    }
   ],
   "source": [
    "device = torch.device('cuda' if torch.cuda.is_available() else 'cpu')\n",
    "model.to(device)"
   ]
  },
  {
   "cell_type": "code",
   "execution_count": 9,
   "id": "ae3e3902",
   "metadata": {},
   "outputs": [],
   "source": [
    "import torch.optim as optim\n",
    "\n",
    "criterion = nn.BCELoss()\n",
    "optimizer = optim.Adam(model.parameters())"
   ]
  },
  {
   "cell_type": "code",
   "execution_count": 10,
   "id": "d6eeb338",
   "metadata": {},
   "outputs": [
    {
     "name": "stdout",
     "output_type": "stream",
     "text": [
      "에포크1 - 훈련손실:0.691845143207511, 검증손실:0.6851465802411644\n",
      "에포크2 - 훈련손실:0.6740702141470469, 검증손실:0.6677009013234353\n",
      "에포크3 - 훈련손실:0.649729084948224, 검증손실:0.6435546333692512\n",
      "에포크4 - 훈련손실:0.6378873845517838, 검증손실:0.6365152466662076\n",
      "에포크5 - 훈련손실:0.626014795319619, 검증손실:0.629849486509148\n",
      "에포크6 - 훈련손실:0.6130637909975475, 검증손실:0.6178511285356113\n",
      "에포크7 - 훈련손실:0.617748387539346, 검증손실:0.6129602510101941\n",
      "에포크8 - 훈련손실:0.594989248052392, 검증손실:0.6040413125741239\n",
      "에포크9 - 훈련손실:0.594852933043506, 검증손실:0.6043006954144459\n",
      "에포크10 - 훈련손실:0.5846030503613143, 검증손실:0.5894299677135993\n",
      "에포크11 - 훈련손실:0.5858515708519737, 검증손실:0.5852926738408147\n",
      "에포크12 - 훈련손실:0.5748445123128924, 검증손실:0.5857146044774931\n",
      "에포크13 - 훈련손실:0.6650177007445703, 검증손실:0.6634817524832122\n",
      "에포크14 - 훈련손실:0.6366410192369194, 검증손실:0.6303362210794371\n",
      "14에서 조기종료!\n"
     ]
    }
   ],
   "source": [
    "train_hist = []\n",
    "val_hist = []\n",
    "patience = 3\n",
    "best_loss = -1\n",
    "early_stopping_counter = 0\n",
    "epochs = 100\n",
    "best_loss = 0\n",
    "\n",
    "for epoch in range(epochs):\n",
    "    model.train()\n",
    "    train_loss = 0\n",
    "    for inputs, targets in train_loader:\n",
    "        inputs, targets = inputs.to(device), targets.to(device)\n",
    "        optimizer.zero_grad()\n",
    "        outputs = model(inputs)\n",
    "        loss = criterion(outputs.squeeze(),targets)\n",
    "\n",
    "        loss.backward()\n",
    "        optimizer.step()\n",
    "        \n",
    "        train_loss += loss.item()\n",
    "    \n",
    "    model.eval()\n",
    "    val_loss = 0\n",
    "    with torch.no_grad():\n",
    "        for inputs, targets in val_loader:\n",
    "            inputs, targets = inputs.to(device), targets.to(device)\n",
    "            outputs = model(inputs)\n",
    "            loss = criterion(outputs.squeeze(),targets)\n",
    "            \n",
    "            val_loss += loss.item()\n",
    "        \n",
    "    train_loss /= len(train_loader)\n",
    "    val_loss /= len(val_loader)\n",
    "    train_hist.append(train_loss)\n",
    "    val_hist.append(val_loss)\n",
    "    print(f\"에포크{epoch+1} - 훈련손실:{train_loss}, 검증손실:{val_loss}\")\n",
    "    if best_loss == 0 or val_loss < best_loss:\n",
    "        best_loss = val_loss\n",
    "        early_stopping_counter = 0\n",
    "        torch.save(model.state_dict(), \"best_rnn_model.pt\")\n",
    "    else:\n",
    "        early_stopping_counter += 1\n",
    "        if early_stopping_counter >= patience:\n",
    "            print(f\"{epoch+1}에서 조기종료!\")\n",
    "            break"
   ]
  },
  {
   "cell_type": "code",
   "execution_count": 11,
   "id": "5c246d5c",
   "metadata": {},
   "outputs": [
    {
     "data": {
      "image/png": "[encoded data removed]",
      "text/plain": [
       "<Figure size 640x480 with 1 Axes>"
      ]
     },
     "metadata": {},
     "output_type": "display_data"
    }
   ],
   "source": [
    "import matplotlib.pyplot as plt\n",
    "\n",
    "plt.plot(train_hist, label='Train')\n",
    "plt.plot(val_hist, label='Val')\n",
    "plt.xlabel('Epochs')\n",
    "plt.ylabel('Loss')\n",
    "plt.legend()\n",
    "plt.show()"
   ]
  },
  {
   "cell_type": "code",
   "execution_count": 12,
   "id": "0d9486e2",
   "metadata": {},
   "outputs": [
    {
     "data": {
      "text/plain": [
       "<All keys matched successfully>"
      ]
     },
     "execution_count": 12,
     "metadata": {},
     "output_type": "execute_result"
    }
   ],
   "source": [
    "model.load_state_dict(torch.load('best_rnn_model.pt',weights_only=True))"
   ]
  },
  {
   "cell_type": "code",
   "execution_count": 14,
   "id": "f7f7d7ae",
   "metadata": {},
   "outputs": [
    {
     "name": "stdout",
     "output_type": "stream",
     "text": [
      "정확도 = 0.70976\n"
     ]
    }
   ],
   "source": [
    "model.eval()\n",
    "correct = 0\n",
    "with torch.no_grad(): \n",
    "    for inputs, targets in val_loader:\n",
    "        inputs, targets = inputs.to(device), targets.to(device)\n",
    "        outputs = model(inputs)\n",
    "        predicts = outputs.squeeze()>0.5\n",
    "        correct += (predicts == targets).sum().item()\n",
    "\n",
    "accuracy = correct / len(val_dataset)\n",
    "print('정확도 =',accuracy)"
   ]
  }
 ],
 "metadata": {
  "kernelspec": {
   "display_name": ".venv",
   "language": "python",
   "name": "python3"
  },
  "language_info": {
   "codemirror_mode": {
    "name": "ipython",
    "version": 3
   },
   "file_extension": ".py",
   "mimetype": "text/x-python",
   "name": "python",
   "nbconvert_exporter": "python",
   "pygments_lexer": "ipython3",
   "version": "3.12.10"
  }
 },
 "nbformat": 4,
 "nbformat_minor": 5
}
