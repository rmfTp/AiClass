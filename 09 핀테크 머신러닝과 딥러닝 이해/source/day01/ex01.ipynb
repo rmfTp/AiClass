{
 "cells": [
  {
   "cell_type": "code",
   "execution_count": 20,
   "id": "301120cf",
   "metadata": {},
   "outputs": [],
   "source": [
    "from selenium import webdriver\n",
    "from selenium.webdriver.common.by import By\n",
    "from selenium.webdriver.common.keys import Keys\n",
    "import time\n",
    "\n",
    "driver = webdriver.Chrome()\n",
    "driver.get('https://www.naver.com')\n",
    "\n",
    "time.sleep(3)"
   ]
  },
  {
   "cell_type": "code",
   "execution_count": 21,
   "id": "13cd744d",
   "metadata": {},
   "outputs": [
    {
     "name": "stdout",
     "output_type": "stream",
     "text": [
      "<selenium.webdriver.remote.webelement.WebElement (session=\"20fc9af116b586d6060b075ad6560272\", element=\"f.1358B521C17D15132E0784528CD40AF7.d.280B7FC5C35EE8BF079D8420CC984B75.e.5\")>\n"
     ]
    }
   ],
   "source": [
    "# search_box = driver.find_element(By.ID,'query')\n",
    "search_box = driver.find_element(By.XPATH,'//form[@id=\"sform\"]/fieldset/div/input')\n",
    "print(search_box)"
   ]
  },
  {
   "cell_type": "code",
   "execution_count": 22,
   "id": "b27a6fba",
   "metadata": {},
   "outputs": [],
   "source": [
    "search_box.send_keys('블로그') # 호환성 때문에 \\n은 권장되지 않음"
   ]
  },
  {
   "cell_type": "code",
   "execution_count": null,
   "id": "e6e9c214",
   "metadata": {},
   "outputs": [],
   "source": [
    "# search_btn = driver.find_element(By.CLASS_NAME,'btn_search')\n",
    "# search_btn.click()\n",
    "\n",
    "search_btn = search_box.send_keys(Keys.ENTER)"
   ]
  }
 ],
 "metadata": {
  "kernelspec": {
   "display_name": ".venv",
   "language": "python",
   "name": "python3"
  },
  "language_info": {
   "codemirror_mode": {
    "name": "ipython",
    "version": 3
   },
   "file_extension": ".py",
   "mimetype": "text/x-python",
   "name": "python",
   "nbconvert_exporter": "python",
   "pygments_lexer": "ipython3",
   "version": "3.12.10"
  }
 },
 "nbformat": 4,
 "nbformat_minor": 5
}
