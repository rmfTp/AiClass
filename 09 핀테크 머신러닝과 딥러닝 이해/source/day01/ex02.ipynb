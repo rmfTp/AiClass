{
 "cells": [
  {
   "cell_type": "code",
   "execution_count": 9,
   "id": "301120cf",
   "metadata": {},
   "outputs": [],
   "source": [
    "from selenium import webdriver\n",
    "from selenium.webdriver.common.by import By\n",
    "from selenium.webdriver.common.keys import Keys\n",
    "import time\n",
    "\n",
    "driver = webdriver.Chrome()\n",
    "driver.get('https://news.naver.com/section/105')\n",
    "\n",
    "time.sleep(3)"
   ]
  },
  {
   "cell_type": "markdown",
   "id": "420c0878",
   "metadata": {},
   "source": []
  },
  {
   "cell_type": "code",
   "execution_count": 10,
   "id": "13cd744d",
   "metadata": {},
   "outputs": [
    {
     "name": "stdout",
     "output_type": "stream",
     "text": [
      "<selenium.webdriver.remote.webelement.WebElement (session=\"926230b4b95c1e9bdc305f447a507399\", element=\"f.0AA2DDABD8C8F8F0E8A55C0225D4C198.d.6592B384E2DB2B598EDF51536F611F8F.e.81\")>\n"
     ]
    }
   ],
   "source": [
    "# search_box = driver.find_element(By.ID,'query')\n",
    "headline_section = driver.find_element(By.CLASS_NAME,'as_headline')\n",
    "print(headline_section)"
   ]
  },
  {
   "cell_type": "code",
   "execution_count": 11,
   "id": "b27a6fba",
   "metadata": {},
   "outputs": [
    {
     "data": {
      "text/plain": [
       "[<selenium.webdriver.remote.webelement.WebElement (session=\"926230b4b95c1e9bdc305f447a507399\", element=\"f.0AA2DDABD8C8F8F0E8A55C0225D4C198.d.6592B384E2DB2B598EDF51536F611F8F.e.82\")>,\n",
       " <selenium.webdriver.remote.webelement.WebElement (session=\"926230b4b95c1e9bdc305f447a507399\", element=\"f.0AA2DDABD8C8F8F0E8A55C0225D4C198.d.6592B384E2DB2B598EDF51536F611F8F.e.83\")>,\n",
       " <selenium.webdriver.remote.webelement.WebElement (session=\"926230b4b95c1e9bdc305f447a507399\", element=\"f.0AA2DDABD8C8F8F0E8A55C0225D4C198.d.6592B384E2DB2B598EDF51536F611F8F.e.84\")>,\n",
       " <selenium.webdriver.remote.webelement.WebElement (session=\"926230b4b95c1e9bdc305f447a507399\", element=\"f.0AA2DDABD8C8F8F0E8A55C0225D4C198.d.6592B384E2DB2B598EDF51536F611F8F.e.85\")>,\n",
       " <selenium.webdriver.remote.webelement.WebElement (session=\"926230b4b95c1e9bdc305f447a507399\", element=\"f.0AA2DDABD8C8F8F0E8A55C0225D4C198.d.6592B384E2DB2B598EDF51536F611F8F.e.86\")>,\n",
       " <selenium.webdriver.remote.webelement.WebElement (session=\"926230b4b95c1e9bdc305f447a507399\", element=\"f.0AA2DDABD8C8F8F0E8A55C0225D4C198.d.6592B384E2DB2B598EDF51536F611F8F.e.87\")>,\n",
       " <selenium.webdriver.remote.webelement.WebElement (session=\"926230b4b95c1e9bdc305f447a507399\", element=\"f.0AA2DDABD8C8F8F0E8A55C0225D4C198.d.6592B384E2DB2B598EDF51536F611F8F.e.88\")>,\n",
       " <selenium.webdriver.remote.webelement.WebElement (session=\"926230b4b95c1e9bdc305f447a507399\", element=\"f.0AA2DDABD8C8F8F0E8A55C0225D4C198.d.6592B384E2DB2B598EDF51536F611F8F.e.89\")>]"
      ]
     },
     "execution_count": 11,
     "metadata": {},
     "output_type": "execute_result"
    }
   ],
   "source": [
    "items = headline_section.find_elements(By.CLASS_NAME, 'sa_text_strong')\n",
    "items"
   ]
  },
  {
   "cell_type": "code",
   "execution_count": 12,
   "id": "e6e9c214",
   "metadata": {},
   "outputs": [
    {
     "name": "stdout",
     "output_type": "stream",
     "text": [
      "애플, 12년만에 `리퀴드 글래스`로 iOS 디자인 혁신…AI는 `글쎄`\n",
      "크래프톤, '인조이' 애플 맥 버전 사전 예약 시작\n",
      "\"석탄발전소가 채소 키우고 탄산수 만든다\"...CCU의 마법[르포]\n",
      "프렌들리AI, 글로벌 시장 공략 가속… “세계가 주목한 AI 추론 가속화 기술”\n",
      "LGU+, 안전한 AI 개발·운용 글로벌 인증…AI 경쟁력 강화\n",
      "\"더 얇고 가볍고 강하다\" 삼성, 갤럭시 Z 폴드 7 2차 티저 공개\n",
      "아토리서치, 클라우드 솔루션 '클라우드앤라이트' 출시…\"신시장 개척\"\n",
      "스노우플레이크, 크런치데이터 인수…'통합 포스트그레스' 출시\n"
     ]
    }
   ],
   "source": [
    "for item in items:\n",
    "    print(item.text)"
   ]
  },
  {
   "cell_type": "code",
   "execution_count": 13,
   "id": "2aba684a",
   "metadata": {},
   "outputs": [
    {
     "data": {
      "text/plain": [
       "[<selenium.webdriver.remote.webelement.WebElement (session=\"926230b4b95c1e9bdc305f447a507399\", element=\"f.0AA2DDABD8C8F8F0E8A55C0225D4C198.d.6592B384E2DB2B598EDF51536F611F8F.e.19\")>,\n",
       " <selenium.webdriver.remote.webelement.WebElement (session=\"926230b4b95c1e9bdc305f447a507399\", element=\"f.0AA2DDABD8C8F8F0E8A55C0225D4C198.d.6592B384E2DB2B598EDF51536F611F8F.e.20\")>,\n",
       " <selenium.webdriver.remote.webelement.WebElement (session=\"926230b4b95c1e9bdc305f447a507399\", element=\"f.0AA2DDABD8C8F8F0E8A55C0225D4C198.d.6592B384E2DB2B598EDF51536F611F8F.e.21\")>,\n",
       " <selenium.webdriver.remote.webelement.WebElement (session=\"926230b4b95c1e9bdc305f447a507399\", element=\"f.0AA2DDABD8C8F8F0E8A55C0225D4C198.d.6592B384E2DB2B598EDF51536F611F8F.e.22\")>,\n",
       " <selenium.webdriver.remote.webelement.WebElement (session=\"926230b4b95c1e9bdc305f447a507399\", element=\"f.0AA2DDABD8C8F8F0E8A55C0225D4C198.d.6592B384E2DB2B598EDF51536F611F8F.e.23\")>,\n",
       " <selenium.webdriver.remote.webelement.WebElement (session=\"926230b4b95c1e9bdc305f447a507399\", element=\"f.0AA2DDABD8C8F8F0E8A55C0225D4C198.d.6592B384E2DB2B598EDF51536F611F8F.e.24\")>,\n",
       " <selenium.webdriver.remote.webelement.WebElement (session=\"926230b4b95c1e9bdc305f447a507399\", element=\"f.0AA2DDABD8C8F8F0E8A55C0225D4C198.d.6592B384E2DB2B598EDF51536F611F8F.e.25\")>,\n",
       " <selenium.webdriver.remote.webelement.WebElement (session=\"926230b4b95c1e9bdc305f447a507399\", element=\"f.0AA2DDABD8C8F8F0E8A55C0225D4C198.d.6592B384E2DB2B598EDF51536F611F8F.e.26\")>]"
      ]
     },
     "execution_count": 13,
     "metadata": {},
     "output_type": "execute_result"
    }
   ],
   "source": [
    "images = headline_section.find_elements(By.CSS_SELECTOR, '.as_headline .sa_thumb_link img')\n",
    "images"
   ]
  },
  {
   "cell_type": "code",
   "execution_count": 15,
   "id": "75d6cf39",
   "metadata": {},
   "outputs": [],
   "source": [
    "from urllib.request import urlretrieve\n",
    "for i, image in enumerate(images):\n",
    "    image_url = image.get_attribute('src')\n",
    "    urlretrieve(image_url, f\"C:/uploads/{i}.jpg\")"
   ]
  },
  {
   "cell_type": "code",
   "execution_count": 16,
   "id": "a22f5eb9",
   "metadata": {},
   "outputs": [],
   "source": [
    "from bs4 import BeautifulSoup as bs\n",
    "\n",
    "html = driver.page_source\n",
    "soup = bs(html, 'html.parser')"
   ]
  },
  {
   "cell_type": "code",
   "execution_count": 17,
   "id": "eadbf8e0",
   "metadata": {},
   "outputs": [],
   "source": [
    "driver.execute_script('alert(\"자바스크립트 실행\");')"
   ]
  },
  {
   "cell_type": "code",
   "execution_count": 25,
   "id": "5f385408",
   "metadata": {},
   "outputs": [
    {
     "data": {
      "text/plain": [
       "900"
      ]
     },
     "execution_count": 25,
     "metadata": {},
     "output_type": "execute_result"
    }
   ],
   "source": [
    "c=-600\n",
    "a=50\n",
    "x=30\n",
    "y=a*x+c\n",
    "y"
   ]
  },
  {
   "cell_type": "code",
   "execution_count": null,
   "id": "4312895a",
   "metadata": {},
   "outputs": [],
   "source": []
  }
 ],
 "metadata": {
  "kernelspec": {
   "display_name": ".venv",
   "language": "python",
   "name": "python3"
  },
  "language_info": {
   "codemirror_mode": {
    "name": "ipython",
    "version": 3
   },
   "file_extension": ".py",
   "mimetype": "text/x-python",
   "name": "python",
   "nbconvert_exporter": "python",
   "pygments_lexer": "ipython3",
   "version": "3.12.10"
  }
 },
 "nbformat": 4,
 "nbformat_minor": 5
}
