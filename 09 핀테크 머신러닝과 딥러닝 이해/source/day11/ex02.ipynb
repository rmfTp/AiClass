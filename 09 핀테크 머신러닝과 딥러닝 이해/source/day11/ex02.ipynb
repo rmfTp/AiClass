{
 "cells": [
  {
   "cell_type": "code",
   "execution_count": 32,
   "id": "0e04bbe6",
   "metadata": {},
   "outputs": [],
   "source": [
    "import torch\n",
    "from torchvision.datasets import FashionMNIST\n",
    "fm_train = FashionMNIST(root='.', train=True, download=True)\n",
    "fm_test = FashionMNIST(root='.', train=False, download=True)"
   ]
  },
  {
   "cell_type": "code",
   "execution_count": 33,
   "id": "726fb40d",
   "metadata": {},
   "outputs": [],
   "source": [
    "train_input = fm_train.data\n",
    "train_target = fm_train.targets\n",
    "test_input = fm_test.data\n",
    "test_target = fm_test.targets"
   ]
  },
  {
   "cell_type": "code",
   "execution_count": 34,
   "id": "2d9d880d",
   "metadata": {},
   "outputs": [],
   "source": [
    "train_input = train_input.reshape(-1,1,28,28)\n",
    "test_input = test_input.reshape(-1,1,28,28)\n",
    "train_scaled = train_input / 255.0\n",
    "test_scaled = test_input / 255.0"
   ]
  },
  {
   "cell_type": "code",
   "execution_count": 35,
   "id": "96a94f48",
   "metadata": {},
   "outputs": [],
   "source": [
    "from sklearn.model_selection import train_test_split\n",
    "train_scaled, val_scaled, train_target, val_target = train_test_split(\n",
    "    train_scaled, train_target\n",
    ")"
   ]
  },
  {
   "cell_type": "code",
   "execution_count": 36,
   "id": "19f2d1fc",
   "metadata": {},
   "outputs": [],
   "source": [
    "import torch.nn as nn\n",
    "model = nn.Sequential()\n",
    "model.add_module('conv1', nn.Conv2d(1,32,kernel_size=3, padding='same'))\n",
    "model.add_module('relu1', nn.ReLU())\n",
    "model.add_module('pool1', nn.MaxPool2d(kernel_size=2))\n",
    "model.add_module('conv2', nn.Conv2d(32,64,kernel_size=3, padding='same'))\n",
    "model.add_module('relu2', nn.ReLU())\n",
    "model.add_module('pool2', nn.MaxPool2d(kernel_size=2))\n",
    "model.add_module('flatten', nn.Flatten())"
   ]
  },
  {
   "cell_type": "code",
   "execution_count": 37,
   "id": "1d9e5977",
   "metadata": {},
   "outputs": [],
   "source": [
    "model.add_module('dense1', nn.Linear(3136,100))\n",
    "model.add_module('relu2', nn.ReLU())\n",
    "model.add_module('dropout', nn.Dropout(0.3))\n",
    "model.add_module('dense2', nn.Linear(100,10))"
   ]
  },
  {
   "cell_type": "code",
   "execution_count": 38,
   "id": "4994c2b4",
   "metadata": {},
   "outputs": [
    {
     "data": {
      "text/plain": [
       "Sequential(\n",
       "  (conv1): Conv2d(1, 32, kernel_size=(3, 3), stride=(1, 1), padding=same)\n",
       "  (relu1): ReLU()\n",
       "  (pool1): MaxPool2d(kernel_size=2, stride=2, padding=0, dilation=1, ceil_mode=False)\n",
       "  (conv2): Conv2d(32, 64, kernel_size=(3, 3), stride=(1, 1), padding=same)\n",
       "  (relu2): ReLU()\n",
       "  (pool2): MaxPool2d(kernel_size=2, stride=2, padding=0, dilation=1, ceil_mode=False)\n",
       "  (flatten): Flatten(start_dim=1, end_dim=-1)\n",
       "  (dense1): Linear(in_features=3136, out_features=100, bias=True)\n",
       "  (dropout): Dropout(p=0.3, inplace=False)\n",
       "  (dense2): Linear(in_features=100, out_features=10, bias=True)\n",
       ")"
      ]
     },
     "execution_count": 38,
     "metadata": {},
     "output_type": "execute_result"
    }
   ],
   "source": [
    "device = torch.device('cuda' if torch.cuda.is_available() else 'cpu')\n",
    "model.to(device)"
   ]
  },
  {
   "cell_type": "code",
   "execution_count": 39,
   "id": "7ba19908",
   "metadata": {},
   "outputs": [],
   "source": [
    "import torch.optim as optim\n",
    "criterion = nn.CrossEntropyLoss()\n",
    "optimizer = optim.Adam(model.parameters(), lr = 0.001)"
   ]
  },
  {
   "cell_type": "code",
   "execution_count": 40,
   "id": "5c6faacf",
   "metadata": {},
   "outputs": [],
   "source": [
    "from torch.utils.data import TensorDataset, DataLoader\n",
    "train_dataset = TensorDataset(train_scaled, train_target)\n",
    "val_dataset = TensorDataset(val_scaled, val_target)\n",
    "\n",
    "train_loader = DataLoader(train_dataset, batch_size=32, shuffle=True)\n",
    "val_loader = DataLoader(val_dataset, batch_size=32, shuffle=False)"
   ]
  },
  {
   "cell_type": "code",
   "execution_count": null,
   "id": "fcf6c79c",
   "metadata": {},
   "outputs": [
    {
     "name": "stdout",
     "output_type": "stream",
     "text": [
      "에포크 1/20, 훈련손실: 0.4552, 검증손실: 0.3109\n",
      "에포크 2/20, 훈련손실: 0.3015, 검증손실: 0.2826\n",
      "에포크 3/20, 훈련손실: 0.2597, 검증손실: 0.2821\n",
      "에포크 4/20, 훈련손실: 0.2305, 검증손실: 0.2502\n",
      "에포크 5/20, 훈련손실: 0.2096, 검증손실: 0.2475\n",
      "에포크 6/20, 훈련손실: 0.1889, 검증손실: 0.2563\n",
      "에포크 7/20, 훈련손실: 0.1746, 검증손실: 0.2476\n",
      "조기종료\n"
     ]
    },
    {
     "ename": "TypeError",
     "evalue": "save() got an unexpected keyword argument 'weights_only'",
     "output_type": "error",
     "traceback": [
      "\u001b[31m---------------------------------------------------------------------------\u001b[39m",
      "\u001b[31mTypeError\u001b[39m                                 Traceback (most recent call last)",
      "\u001b[36mCell\u001b[39m\u001b[36m \u001b[39m\u001b[32mIn[41]\u001b[39m\u001b[32m, line 43\u001b[39m\n\u001b[32m     41\u001b[39m             \u001b[38;5;28mprint\u001b[39m(\u001b[33m'\u001b[39m\u001b[33m조기종료\u001b[39m\u001b[33m'\u001b[39m)\n\u001b[32m     42\u001b[39m             \u001b[38;5;28;01mbreak\u001b[39;00m\n\u001b[32m---> \u001b[39m\u001b[32m43\u001b[39m \u001b[43mtorch\u001b[49m\u001b[43m.\u001b[49m\u001b[43msave\u001b[49m\u001b[43m(\u001b[49m\u001b[43mmodel\u001b[49m\u001b[43m.\u001b[49m\u001b[43mstate_dict\u001b[49m\u001b[43m(\u001b[49m\u001b[43m)\u001b[49m\u001b[43m,\u001b[49m\u001b[43m \u001b[49m\u001b[33;43m'\u001b[39;49m\u001b[33;43mbest_cnn_model.pt\u001b[39;49m\u001b[33;43m'\u001b[39;49m\u001b[43m,\u001b[49m\u001b[43m \u001b[49m\u001b[43mweights_only\u001b[49m\u001b[43m=\u001b[49m\u001b[38;5;28;43;01mTrue\u001b[39;49;00m\u001b[43m)\u001b[49m\n",
      "\u001b[31mTypeError\u001b[39m: save() got an unexpected keyword argument 'weights_only'"
     ]
    }
   ],
   "source": [
    "train_hist = []\n",
    "val_hist = []\n",
    "patience = 2\n",
    "best_loss = -1\n",
    "erly_stopping_count = 0\n",
    "epochs = 20\n",
    "for epoch in range(epochs):\n",
    "    model.train()\n",
    "    train_loss = 0\n",
    "    for inputs, targets in train_loader:\n",
    "        inputs, targets = inputs.to(device), targets.to(device)\n",
    "        optimizer.zero_grad()\n",
    "        outputs = model(inputs)\n",
    "        loss = criterion(outputs, targets)\n",
    "        loss.backward()\n",
    "        optimizer.step()\n",
    "\n",
    "        train_loss += loss.item()\n",
    "    \n",
    "    model.eval()\n",
    "    \n",
    "    val_loss = 0\n",
    "    with torch.no_grad():\n",
    "        for inputs, targets in val_loader:\n",
    "            inputs, targets = inputs.to(device), targets.to(device)\n",
    "            outputs = model(inputs)\n",
    "            loss = criterion(outputs, targets)\n",
    "            \n",
    "            val_loss += loss.item()\n",
    "    train_loss /= len(train_loader)\n",
    "    val_loss /= len(val_loader)\n",
    "    train_hist.append(train_loss)\n",
    "    val_hist.append(val_loss)\n",
    "    print(f'에포크 {epoch+1}/{epochs}, 훈련손실: {train_loss:.4f}, 검증손실: {val_loss:.4f}')\n",
    "    if best_loss < 0 or val_loss < best_loss:\n",
    "        best_loss = val_loss\n",
    "        erly_stopping_count = 0\n",
    "    else:\n",
    "        erly_stopping_count += 1\n",
    "        if erly_stopping_count >= patience:\n",
    "            print('조기종료')\n",
    "            break"
   ]
  },
  {
   "cell_type": "code",
   "execution_count": 42,
   "id": "f8bf102b",
   "metadata": {},
   "outputs": [],
   "source": [
    "torch.save(model.state_dict(), 'best_cnn_model.pt')"
   ]
  },
  {
   "cell_type": "code",
   "execution_count": 53,
   "id": "24a89478",
   "metadata": {},
   "outputs": [
    {
     "data": {
      "image/png": "[encoded data removed]",
      "text/plain": [
       "<Figure size 640x480 with 1 Axes>"
      ]
     },
     "metadata": {},
     "output_type": "display_data"
    }
   ],
   "source": [
    "import matplotlib.pyplot as plt\n",
    "        \n",
    "plt.plot(train_hist, label='train')\n",
    "plt.plot(val_hist, label='val')\n",
    "plt.xlabel('epoch')\n",
    "plt.ylabel('loss')\n",
    "plt.legend()\n",
    "plt.show()"
   ]
  },
  {
   "cell_type": "code",
   "execution_count": 43,
   "id": "9770be46",
   "metadata": {},
   "outputs": [
    {
     "data": {
      "text/plain": [
       "<All keys matched successfully>"
      ]
     },
     "execution_count": 43,
     "metadata": {},
     "output_type": "execute_result"
    }
   ],
   "source": [
    "model.load_state_dict(torch.load('best_cnn_model.pt', weights_only=True))"
   ]
  },
  {
   "cell_type": "code",
   "execution_count": 55,
   "id": "badd1d16",
   "metadata": {},
   "outputs": [
    {
     "name": "stdout",
     "output_type": "stream",
     "text": [
      "검증 정확도: 0.9141\n",
      "검증 로스: 0.2476 \n"
     ]
    }
   ],
   "source": [
    "model.eval()\n",
    "corrects = 0\n",
    "val_loss = 0\n",
    "with torch.no_grad():\n",
    "    for inputs, targets in val_loader:\n",
    "        inputs, targets = inputs.to(device), targets.to(device)\n",
    "        outputs = model(inputs)\n",
    "        predicts = torch.argmax(outputs, 1)\n",
    "        corrects += (predicts == targets).sum().item()\n",
    "        loss = criterion(outputs,targets)\n",
    "        val_loss += loss.item()\n",
    "acciracy = corrects / len(val_dataset)        \n",
    "val_loss /= len(val_loader)\n",
    "print(f'검증 정확도: {acciracy:.4f}\\n검증 로스: {val_loss:.4f} ')"
   ]
  }
 ],
 "metadata": {
  "kernelspec": {
   "display_name": ".venv",
   "language": "python",
   "name": "python3"
  },
  "language_info": {
   "codemirror_mode": {
    "name": "ipython",
    "version": 3
   },
   "file_extension": ".py",
   "mimetype": "text/x-python",
   "name": "python",
   "nbconvert_exporter": "python",
   "pygments_lexer": "ipython3",
   "version": "3.12.10"
  }
 },
 "nbformat": 4,
 "nbformat_minor": 5
}
