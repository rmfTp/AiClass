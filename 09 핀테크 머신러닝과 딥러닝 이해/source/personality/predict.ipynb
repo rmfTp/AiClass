{
 "cells": [
  {
   "cell_type": "code",
   "execution_count": 5,
   "id": "91d1e151",
   "metadata": {},
   "outputs": [],
   "source": [
    "import pickle\n",
    "from sklearn.ensemble import HistGradientBoostingClassifier"
   ]
  },
  {
   "cell_type": "code",
   "execution_count": 6,
   "id": "28cec07a",
   "metadata": {},
   "outputs": [],
   "source": [
    "import pickle\n",
    "with open('model.pkl','rb') as f:\n",
    "    model = pickle.load(f)"
   ]
  },
  {
   "cell_type": "code",
   "execution_count": 7,
   "id": "77719ad6",
   "metadata": {},
   "outputs": [],
   "source": [
    "import numpy as np\n",
    "test_date = np.array([[10.0, 1.0, 3.0, 3.0, 1.0, 5.0, 3.0], [4.505816002819881, 0.0, 3.963354474982382, 5.0, 0.0, 14.0, 5.0], [5.0, 1.0, 0.0, 0.0, 1.0, 0.0, 2.0], [10.0, 1.0, 2.0, 2.0, 1.0, 2.0, 1.0], [7.0, 1.0, 0.0, 0.0, 1.0, 2.0, 1.0]\n",
    "])"
   ]
  },
  {
   "cell_type": "code",
   "execution_count": 8,
   "id": "8cbee026",
   "metadata": {},
   "outputs": [
    {
     "data": {
      "text/plain": [
       "array([0., 1., 0., 0., 0.])"
      ]
     },
     "execution_count": 8,
     "metadata": {},
     "output_type": "execute_result"
    }
   ],
   "source": [
    "model.predict(test_date)"
   ]
  },
  {
   "cell_type": "code",
   "execution_count": null,
   "id": "3f4c5840",
   "metadata": {},
   "outputs": [],
   "source": []
  }
 ],
 "metadata": {
  "kernelspec": {
   "display_name": ".venv",
   "language": "python",
   "name": "python3"
  },
  "language_info": {
   "codemirror_mode": {
    "name": "ipython",
    "version": 3
   },
   "file_extension": ".py",
   "mimetype": "text/x-python",
   "name": "python",
   "nbconvert_exporter": "python",
   "pygments_lexer": "ipython3",
   "version": "3.12.10"
  }
 },
 "nbformat": 4,
 "nbformat_minor": 5
}
