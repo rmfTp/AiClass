{
 "cells": [
  {
   "cell_type": "code",
   "execution_count": 22,
   "id": "6e7bc788",
   "metadata": {},
   "outputs": [],
   "source": [
    "# !pip install pymysql\n"
   ]
  },
  {
   "cell_type": "code",
   "execution_count": 23,
   "id": "9bf91fac",
   "metadata": {},
   "outputs": [],
   "source": [
    "import pymysql\n",
    "db = pymysql.connect(\n",
    "    host='localhost',\n",
    "    port=3307,\n",
    "    user='SECONDHAND',\n",
    "    passwd='1234',\n",
    "    db='SECONDHAND',\n",
    "    charset='utf8'\n",
    ")"
   ]
  },
  {
   "cell_type": "code",
   "execution_count": 24,
   "id": "6713630a",
   "metadata": {},
   "outputs": [],
   "source": [
    "gender = {'Female':0,'Male':1, 'Other':2}\n",
    "SH={'No Info':0, 'current':5, 'ever':4, 'former':3, 'never':1, 'not current':2}"
   ]
  },
  {
   "cell_type": "code",
   "execution_count": 25,
   "id": "c10555fb",
   "metadata": {},
   "outputs": [],
   "source": [
    "cursor = db.cursor()\n",
    "sql = 'SELECT * FROM SURVEY_DIABETES WHERE trainDone IS NULL OR trainDone = 0'\n",
    "cursor.execute(sql)\n",
    "\n",
    "items = []\n",
    "rows = cursor.fetchall()\n",
    "for row in rows:\n",
    "    item = list(row[2:-4])\n",
    "    item[0] = gender.get(item[0])\n",
    "    item[4] = SH.get(item[4])\n",
    "    items.append(item)"
   ]
  },
  {
   "cell_type": "code",
   "execution_count": 26,
   "id": "e781d340",
   "metadata": {},
   "outputs": [
    {
     "data": {
      "text/plain": [
       "array([[None, 41, 0, 0, None, 178.5, 120.0, 37.66, 8.2, 126.0, 1]],\n",
       "      dtype=object)"
      ]
     },
     "execution_count": 26,
     "metadata": {},
     "output_type": "execute_result"
    }
   ],
   "source": [
    "import numpy as np\n",
    "items = np.array(items)\n",
    "items"
   ]
  },
  {
   "cell_type": "code",
   "execution_count": 27,
   "id": "6941a04a",
   "metadata": {},
   "outputs": [],
   "source": [
    "db.close()"
   ]
  }
 ],
 "metadata": {
  "kernelspec": {
   "display_name": ".venv",
   "language": "python",
   "name": "python3"
  },
  "language_info": {
   "codemirror_mode": {
    "name": "ipython",
    "version": 3
   },
   "file_extension": ".py",
   "mimetype": "text/x-python",
   "name": "python",
   "nbconvert_exporter": "python",
   "pygments_lexer": "ipython3",
   "version": "3.12.10"
  }
 },
 "nbformat": 4,
 "nbformat_minor": 5
}
