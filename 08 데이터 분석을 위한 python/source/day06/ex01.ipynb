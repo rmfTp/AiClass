{
 "cells": [
  {
   "cell_type": "markdown",
   "id": "28e0e01a",
   "metadata": {},
   "source": [
    "## time 모듈 "
   ]
  },
  {
   "cell_type": "code",
   "execution_count": 75,
   "id": "a2dbd29a",
   "metadata": {},
   "outputs": [],
   "source": [
    "import time"
   ]
  },
  {
   "cell_type": "code",
   "execution_count": 76,
   "id": "1d0f058b",
   "metadata": {},
   "outputs": [
    {
     "data": {
      "text/plain": [
       "1748575963.9836044"
      ]
     },
     "execution_count": 76,
     "metadata": {},
     "output_type": "execute_result"
    }
   ],
   "source": [
    "time.time()"
   ]
  },
  {
   "cell_type": "code",
   "execution_count": 77,
   "id": "cfb99b71",
   "metadata": {},
   "outputs": [
    {
     "data": {
      "text/plain": [
       "time.struct_time(tm_year=2025, tm_mon=5, tm_mday=30, tm_hour=12, tm_min=32, tm_sec=43, tm_wday=4, tm_yday=150, tm_isdst=0)"
      ]
     },
     "execution_count": 77,
     "metadata": {},
     "output_type": "execute_result"
    }
   ],
   "source": [
    "lt = time.localtime(time.time())\n",
    "lt"
   ]
  },
  {
   "cell_type": "code",
   "execution_count": 78,
   "id": "8b578553",
   "metadata": {},
   "outputs": [
    {
     "name": "stdout",
     "output_type": "stream",
     "text": [
      "2025 5 30\n"
     ]
    }
   ],
   "source": [
    "print(lt.tm_year, lt.tm_mon, lt.tm_mday)"
   ]
  },
  {
   "cell_type": "code",
   "execution_count": 79,
   "id": "4ad2cb2a",
   "metadata": {},
   "outputs": [
    {
     "data": {
      "text/plain": [
       "'Fri May 30 12:32:43 2025'"
      ]
     },
     "execution_count": 79,
     "metadata": {},
     "output_type": "execute_result"
    }
   ],
   "source": [
    "time.asctime(lt)"
   ]
  },
  {
   "cell_type": "code",
   "execution_count": 80,
   "id": "102770d7",
   "metadata": {},
   "outputs": [
    {
     "data": {
      "text/plain": [
       "'Fri May 30 12:32:44 2025'"
      ]
     },
     "execution_count": 80,
     "metadata": {},
     "output_type": "execute_result"
    }
   ],
   "source": [
    "time.ctime()"
   ]
  },
  {
   "cell_type": "code",
   "execution_count": 81,
   "id": "38962011",
   "metadata": {},
   "outputs": [
    {
     "data": {
      "text/plain": [
       "'2025.05.30 12:32'"
      ]
     },
     "execution_count": 81,
     "metadata": {},
     "output_type": "execute_result"
    }
   ],
   "source": [
    "strdate = time.strftime('%Y.%m.%d %H:%M', lt)\n",
    "strdate"
   ]
  },
  {
   "cell_type": "code",
   "execution_count": 82,
   "id": "7b4844e0",
   "metadata": {},
   "outputs": [
    {
     "data": {
      "text/plain": [
       "'2025.05.30 12:32'"
      ]
     },
     "execution_count": 82,
     "metadata": {},
     "output_type": "execute_result"
    }
   ],
   "source": [
    "time.strftime('%Y.%m.%d %H:%M') # 현재 날짜 시간 기준"
   ]
  },
  {
   "cell_type": "code",
   "execution_count": 83,
   "id": "e0629493",
   "metadata": {},
   "outputs": [
    {
     "name": "stdout",
     "output_type": "stream",
     "text": [
      "5\n",
      "4\n",
      "3\n",
      "2\n",
      "1\n",
      "공격이 시작됩니다. \n",
      "화물을 옮기십시오.\n"
     ]
    }
   ],
   "source": [
    "for i in range(1, 11):\n",
    "    if i == 6:\n",
    "        print('''공격이 시작됩니다. \n",
    "화물을 옮기십시오.''')\n",
    "        break\n",
    "    print(6-i)\n",
    "    time.sleep(1) # 1초 지연 "
   ]
  },
  {
   "cell_type": "code",
   "execution_count": 84,
   "id": "8c7b79e5",
   "metadata": {},
   "outputs": [],
   "source": [
    "# 사탕 60, 초콜릿 100, 젤리 80개 있는데, 똑같은 묶음으로 최대 몇 묶음 나눌 수 있는지 구하시오.\n",
    "import math"
   ]
  },
  {
   "cell_type": "code",
   "execution_count": 85,
   "id": "c13dbfaa",
   "metadata": {},
   "outputs": [
    {
     "data": {
      "text/plain": [
       "20"
      ]
     },
     "execution_count": 85,
     "metadata": {},
     "output_type": "execute_result"
    }
   ],
   "source": [
    "math.gcd(60, 100, 80)"
   ]
  },
  {
   "cell_type": "code",
   "execution_count": 86,
   "id": "f8565ca1",
   "metadata": {},
   "outputs": [
    {
     "data": {
      "text/plain": [
       "75"
      ]
     },
     "execution_count": 86,
     "metadata": {},
     "output_type": "execute_result"
    }
   ],
   "source": [
    "# 시내버스가 15분마다 도착, 마을 버스는 25분마다 도착, 서로 만나는 빠른 시간?\n",
    "math.lcm(15, 25)"
   ]
  },
  {
   "cell_type": "code",
   "execution_count": 87,
   "id": "abbc93fb",
   "metadata": {},
   "outputs": [],
   "source": [
    "import random"
   ]
  },
  {
   "cell_type": "code",
   "execution_count": 88,
   "id": "080c5222",
   "metadata": {},
   "outputs": [
    {
     "data": {
      "text/plain": [
       "1.9692066078455357"
      ]
     },
     "execution_count": 88,
     "metadata": {},
     "output_type": "execute_result"
    }
   ],
   "source": [
    "random.random() * 3 # 규칙 곱하는 수보다 작은 수가 정수부에서 반복 0~2"
   ]
  },
  {
   "cell_type": "code",
   "execution_count": 89,
   "id": "080c6517",
   "metadata": {},
   "outputs": [
    {
     "data": {
      "text/plain": [
       "0"
      ]
     },
     "execution_count": 89,
     "metadata": {},
     "output_type": "execute_result"
    }
   ],
   "source": [
    "int(random.random() * 3)"
   ]
  },
  {
   "cell_type": "code",
   "execution_count": 90,
   "id": "f42c189f",
   "metadata": {},
   "outputs": [
    {
     "data": {
      "text/plain": [
       "7"
      ]
     },
     "execution_count": 90,
     "metadata": {},
     "output_type": "execute_result"
    }
   ],
   "source": [
    "random.randint(1, 10)"
   ]
  },
  {
   "cell_type": "code",
   "execution_count": 91,
   "id": "2fc49d38",
   "metadata": {},
   "outputs": [],
   "source": [
    "fruits = ['Apple', 'Melon', 'Pear', 'Banana', 'Mango']"
   ]
  },
  {
   "cell_type": "code",
   "execution_count": 92,
   "id": "14d78227",
   "metadata": {},
   "outputs": [
    {
     "data": {
      "text/plain": [
       "'Banana'"
      ]
     },
     "execution_count": 92,
     "metadata": {},
     "output_type": "execute_result"
    }
   ],
   "source": [
    "random.choice(fruits)"
   ]
  },
  {
   "cell_type": "code",
   "execution_count": 93,
   "id": "66d95aa9",
   "metadata": {},
   "outputs": [
    {
     "data": {
      "text/plain": [
       "['Mango', 'Banana', 'Apple']"
      ]
     },
     "execution_count": 93,
     "metadata": {},
     "output_type": "execute_result"
    }
   ],
   "source": [
    "random.sample(fruits, 3)"
   ]
  },
  {
   "cell_type": "code",
   "execution_count": 94,
   "id": "8258eede",
   "metadata": {},
   "outputs": [],
   "source": [
    "students = ['주용현', '안슬기', '김용준', '오다은', '최상준', '오경석', '송근호', '주예성', '정호찬', '이소민', '김송미', '김문수']"
   ]
  },
  {
   "cell_type": "code",
   "execution_count": 95,
   "id": "b9041400",
   "metadata": {},
   "outputs": [
    {
     "data": {
      "text/plain": [
       "[('주예성', 'rtx5090ti'),\n",
       " ('김용준', '맥북pro'),\n",
       " ('안슬기', '오키나와 2박 3일 여행'),\n",
       " ('김문수', '사탕'),\n",
       " ('오경석', '사탕'),\n",
       " ('주용현', '사탕'),\n",
       " ('김송미', '사탕'),\n",
       " ('오다은', '사탕'),\n",
       " ('최상준', '사탕'),\n",
       " ('정호찬', '사탕'),\n",
       " ('송근호', '사탕'),\n",
       " ('이소민', '사탕')]"
      ]
     },
     "execution_count": 95,
     "metadata": {},
     "output_type": "execute_result"
    }
   ],
   "source": [
    "import itertools\n",
    "students2 = random.sample(students, len(students))\n",
    "# random.shuffle(students)  # 원본 데이터가 변경\n",
    "gifts = ['rtx5090ti', '맥북pro', '오키나와 2박 3일 여행']\n",
    "data = list(itertools.zip_longest(students2, gifts, fillvalue='사탕'))\n",
    "data"
   ]
  },
  {
   "cell_type": "code",
   "execution_count": 96,
   "id": "c430ffbd",
   "metadata": {},
   "outputs": [],
   "source": [
    "nums = [1, 2, 3, 4]"
   ]
  },
  {
   "cell_type": "code",
   "execution_count": 97,
   "id": "a37a5e10",
   "metadata": {},
   "outputs": [],
   "source": [
    "import itertools"
   ]
  },
  {
   "cell_type": "code",
   "execution_count": 98,
   "id": "d816a342",
   "metadata": {},
   "outputs": [
    {
     "data": {
      "text/plain": [
       "[(1, 2),\n",
       " (1, 3),\n",
       " (1, 4),\n",
       " (2, 1),\n",
       " (2, 3),\n",
       " (2, 4),\n",
       " (3, 1),\n",
       " (3, 2),\n",
       " (3, 4),\n",
       " (4, 1),\n",
       " (4, 2),\n",
       " (4, 3)]"
      ]
     },
     "execution_count": 98,
     "metadata": {},
     "output_type": "execute_result"
    }
   ],
   "source": [
    "a = list(itertools.permutations(nums, 2))\n",
    "a"
   ]
  },
  {
   "cell_type": "code",
   "execution_count": 99,
   "id": "7a73e1cb",
   "metadata": {},
   "outputs": [
    {
     "data": {
      "text/plain": [
       "[(1, 2), (1, 3), (1, 4), (2, 3), (2, 4), (3, 4)]"
      ]
     },
     "execution_count": 99,
     "metadata": {},
     "output_type": "execute_result"
    }
   ],
   "source": [
    "b = list(itertools.combinations(nums, 2))\n",
    "b"
   ]
  },
  {
   "cell_type": "code",
   "execution_count": 100,
   "id": "e9b0ae93",
   "metadata": {},
   "outputs": [
    {
     "data": {
      "text/plain": [
       "[(1, 1, 1),\n",
       " (1, 1, 2),\n",
       " (1, 1, 3),\n",
       " (1, 1, 4),\n",
       " (1, 2, 2),\n",
       " (1, 2, 3),\n",
       " (1, 2, 4),\n",
       " (1, 3, 3),\n",
       " (1, 3, 4),\n",
       " (1, 4, 4),\n",
       " (2, 2, 2),\n",
       " (2, 2, 3),\n",
       " (2, 2, 4),\n",
       " (2, 3, 3),\n",
       " (2, 3, 4),\n",
       " (2, 4, 4),\n",
       " (3, 3, 3),\n",
       " (3, 3, 4),\n",
       " (3, 4, 4),\n",
       " (4, 4, 4)]"
      ]
     },
     "execution_count": 100,
     "metadata": {},
     "output_type": "execute_result"
    }
   ],
   "source": [
    "c = list(itertools.combinations_with_replacement(nums, 3))\n",
    "c"
   ]
  },
  {
   "cell_type": "code",
   "execution_count": 101,
   "id": "8fb7d517",
   "metadata": {},
   "outputs": [],
   "source": [
    "import functools"
   ]
  },
  {
   "cell_type": "code",
   "execution_count": 102,
   "id": "2bcb68b1",
   "metadata": {},
   "outputs": [],
   "source": [
    "nums = list(range(1, 101))"
   ]
  },
  {
   "cell_type": "code",
   "execution_count": 103,
   "id": "e6337de6",
   "metadata": {},
   "outputs": [],
   "source": [
    "def acc_sum(acc, num):\n",
    "    print(f\"acc: {acc}, num: {num}\")\n",
    "    acc += num\n",
    "    return acc"
   ]
  },
  {
   "cell_type": "code",
   "execution_count": 104,
   "id": "c28264d3",
   "metadata": {},
   "outputs": [
    {
     "name": "stdout",
     "output_type": "stream",
     "text": [
      "acc: 1, num: 2\n",
      "acc: 3, num: 3\n",
      "acc: 6, num: 4\n",
      "acc: 10, num: 5\n",
      "acc: 15, num: 6\n",
      "acc: 21, num: 7\n",
      "acc: 28, num: 8\n",
      "acc: 36, num: 9\n",
      "acc: 45, num: 10\n",
      "acc: 55, num: 11\n",
      "acc: 66, num: 12\n",
      "acc: 78, num: 13\n",
      "acc: 91, num: 14\n",
      "acc: 105, num: 15\n",
      "acc: 120, num: 16\n",
      "acc: 136, num: 17\n",
      "acc: 153, num: 18\n",
      "acc: 171, num: 19\n",
      "acc: 190, num: 20\n",
      "acc: 210, num: 21\n",
      "acc: 231, num: 22\n",
      "acc: 253, num: 23\n",
      "acc: 276, num: 24\n",
      "acc: 300, num: 25\n",
      "acc: 325, num: 26\n",
      "acc: 351, num: 27\n",
      "acc: 378, num: 28\n",
      "acc: 406, num: 29\n",
      "acc: 435, num: 30\n",
      "acc: 465, num: 31\n",
      "acc: 496, num: 32\n",
      "acc: 528, num: 33\n",
      "acc: 561, num: 34\n",
      "acc: 595, num: 35\n",
      "acc: 630, num: 36\n",
      "acc: 666, num: 37\n",
      "acc: 703, num: 38\n",
      "acc: 741, num: 39\n",
      "acc: 780, num: 40\n",
      "acc: 820, num: 41\n",
      "acc: 861, num: 42\n",
      "acc: 903, num: 43\n",
      "acc: 946, num: 44\n",
      "acc: 990, num: 45\n",
      "acc: 1035, num: 46\n",
      "acc: 1081, num: 47\n",
      "acc: 1128, num: 48\n",
      "acc: 1176, num: 49\n",
      "acc: 1225, num: 50\n",
      "acc: 1275, num: 51\n",
      "acc: 1326, num: 52\n",
      "acc: 1378, num: 53\n",
      "acc: 1431, num: 54\n",
      "acc: 1485, num: 55\n",
      "acc: 1540, num: 56\n",
      "acc: 1596, num: 57\n",
      "acc: 1653, num: 58\n",
      "acc: 1711, num: 59\n",
      "acc: 1770, num: 60\n",
      "acc: 1830, num: 61\n",
      "acc: 1891, num: 62\n",
      "acc: 1953, num: 63\n",
      "acc: 2016, num: 64\n",
      "acc: 2080, num: 65\n",
      "acc: 2145, num: 66\n",
      "acc: 2211, num: 67\n",
      "acc: 2278, num: 68\n",
      "acc: 2346, num: 69\n",
      "acc: 2415, num: 70\n",
      "acc: 2485, num: 71\n",
      "acc: 2556, num: 72\n",
      "acc: 2628, num: 73\n",
      "acc: 2701, num: 74\n",
      "acc: 2775, num: 75\n",
      "acc: 2850, num: 76\n",
      "acc: 2926, num: 77\n",
      "acc: 3003, num: 78\n",
      "acc: 3081, num: 79\n",
      "acc: 3160, num: 80\n",
      "acc: 3240, num: 81\n",
      "acc: 3321, num: 82\n",
      "acc: 3403, num: 83\n",
      "acc: 3486, num: 84\n",
      "acc: 3570, num: 85\n",
      "acc: 3655, num: 86\n",
      "acc: 3741, num: 87\n",
      "acc: 3828, num: 88\n",
      "acc: 3916, num: 89\n",
      "acc: 4005, num: 90\n",
      "acc: 4095, num: 91\n",
      "acc: 4186, num: 92\n",
      "acc: 4278, num: 93\n",
      "acc: 4371, num: 94\n",
      "acc: 4465, num: 95\n",
      "acc: 4560, num: 96\n",
      "acc: 4656, num: 97\n",
      "acc: 4753, num: 98\n",
      "acc: 4851, num: 99\n",
      "acc: 4950, num: 100\n"
     ]
    },
    {
     "data": {
      "text/plain": [
       "5050"
      ]
     },
     "execution_count": 104,
     "metadata": {},
     "output_type": "execute_result"
    }
   ],
   "source": [
    "nums2 = functools.reduce(acc_sum, nums)\n",
    "nums2"
   ]
  },
  {
   "cell_type": "code",
   "execution_count": 105,
   "id": "ebab89a0",
   "metadata": {},
   "outputs": [
    {
     "data": {
      "text/plain": [
       "[61, 67, 66, 73, 60, 98, 69, 77, 92, 96]"
      ]
     },
     "execution_count": 105,
     "metadata": {},
     "output_type": "execute_result"
    }
   ],
   "source": [
    "scores = [random.randint(60, 100) for _ in range(10)]\n",
    "scores"
   ]
  },
  {
   "cell_type": "code",
   "execution_count": 106,
   "id": "b38f0e9d",
   "metadata": {},
   "outputs": [
    {
     "name": "stdout",
     "output_type": "stream",
     "text": [
      "a: 61, b: 67\n",
      "a: 61, b: 66\n",
      "a: 61, b: 73\n",
      "a: 61, b: 60\n",
      "a: 60, b: 98\n",
      "a: 60, b: 69\n",
      "a: 60, b: 77\n",
      "a: 60, b: 92\n",
      "a: 60, b: 96\n"
     ]
    },
    {
     "data": {
      "text/plain": [
       "60"
      ]
     },
     "execution_count": 106,
     "metadata": {},
     "output_type": "execute_result"
    }
   ],
   "source": [
    "def min_score(a, b):\n",
    "    print(f\"a: {a}, b: {b}\")\n",
    "    return a if a < b else b\n",
    "    score = a if a < b else b\n",
    "    return score\n",
    "min = functools.reduce(min_score, scores)\n",
    "min"
   ]
  },
  {
   "cell_type": "code",
   "execution_count": 107,
   "id": "9a947ecc",
   "metadata": {},
   "outputs": [
    {
     "data": {
      "text/plain": [
       "98"
      ]
     },
     "execution_count": 107,
     "metadata": {},
     "output_type": "execute_result"
    }
   ],
   "source": [
    "max = functools.reduce(lambda a,b:a if a > b else b,scores)\n",
    "max"
   ]
  },
  {
   "cell_type": "code",
   "execution_count": 108,
   "id": "555ac64b",
   "metadata": {},
   "outputs": [],
   "source": [
    "students = [\n",
    "    ('이이름', 40, '컴퓨터과학'),\n",
    "    ('김이름', 20, '영어영문학'),\n",
    "    ('박이름', 24, '독어독문학')\n",
    "]"
   ]
  },
  {
   "cell_type": "code",
   "execution_count": 109,
   "id": "333dbc74",
   "metadata": {},
   "outputs": [],
   "source": [
    "import operator"
   ]
  },
  {
   "cell_type": "code",
   "execution_count": 110,
   "id": "f4225c33",
   "metadata": {},
   "outputs": [
    {
     "data": {
      "text/plain": [
       "[('박이름', 24, '독어독문학'), ('김이름', 20, '영어영문학'), ('이이름', 40, '컴퓨터과학')]"
      ]
     },
     "execution_count": 110,
     "metadata": {},
     "output_type": "execute_result"
    }
   ],
   "source": [
    "students2 = sorted(students, key=operator.itemgetter(2))\n",
    "students2"
   ]
  },
  {
   "cell_type": "code",
   "execution_count": 111,
   "id": "9fc63873",
   "metadata": {},
   "outputs": [],
   "source": [
    "students = [\n",
    "    {\"name\": \"이이름\", \"age\": 40, \"major\": \"컴퓨터과학\"},\n",
    "    {\"name\": '김이름', \"age\": 20, \"major\": '영어영문학'},\n",
    "    {\"name\": '박이름', \"age\": 24, \"major\": '독어독문학'}\n",
    "]"
   ]
  },
  {
   "cell_type": "code",
   "execution_count": 112,
   "id": "a0f11c36",
   "metadata": {},
   "outputs": [
    {
     "data": {
      "text/plain": [
       "[{'name': '김이름', 'age': 20, 'major': '영어영문학'},\n",
       " {'name': '박이름', 'age': 24, 'major': '독어독문학'},\n",
       " {'name': '이이름', 'age': 40, 'major': '컴퓨터과학'}]"
      ]
     },
     "execution_count": 112,
     "metadata": {},
     "output_type": "execute_result"
    }
   ],
   "source": [
    "students2 = sorted(students, key=operator.itemgetter(\"name\"))\n",
    "students2"
   ]
  },
  {
   "cell_type": "code",
   "execution_count": 113,
   "id": "c81e3fd2",
   "metadata": {},
   "outputs": [],
   "source": [
    "class Student:\n",
    "    def __init__(self, name, age, major):\n",
    "        self.name = name\n",
    "        self.age = age\n",
    "        self.major = major\n",
    "\n",
    "    def __str__(self):\n",
    "        return f\"{self.name}({self.age}, {self.major})\""
   ]
  },
  {
   "cell_type": "code",
   "execution_count": 114,
   "id": "9bd55b51",
   "metadata": {},
   "outputs": [],
   "source": [
    "students = [\n",
    "    Student('이이름', 40, '컴퓨터과학'),\n",
    "    Student('김이름', 20, '영어영문학'),\n",
    "    Student('박이름', 24, '독어독문학')\n",
    "]"
   ]
  },
  {
   "cell_type": "code",
   "execution_count": 115,
   "id": "f294d3fa",
   "metadata": {},
   "outputs": [
    {
     "name": "stdout",
     "output_type": "stream",
     "text": [
      "박이름(24, 독어독문학)\n",
      "김이름(20, 영어영문학)\n",
      "이이름(40, 컴퓨터과학)\n"
     ]
    }
   ],
   "source": [
    "students2 = sorted(students, key=operator.attrgetter('major'))\n",
    "for item in students2:\n",
    "    print(item)"
   ]
  },
  {
   "cell_type": "code",
   "execution_count": 116,
   "id": "a257ce77",
   "metadata": {},
   "outputs": [],
   "source": [
    "from glob import glob"
   ]
  },
  {
   "cell_type": "code",
   "execution_count": 117,
   "id": "e2940662",
   "metadata": {},
   "outputs": [
    {
     "name": "stdout",
     "output_type": "stream",
     "text": [
      "C:/Program Files\n",
      "C:/Program Files (x86)\n",
      "C:/ProgramData\n"
     ]
    }
   ],
   "source": [
    "files = glob('C:/program*')\n",
    "for file in files:\n",
    "    print(file)"
   ]
  },
  {
   "cell_type": "code",
   "execution_count": 119,
   "id": "e109d2fa",
   "metadata": {},
   "outputs": [],
   "source": [
    "import pickle"
   ]
  },
  {
   "cell_type": "code",
   "execution_count": 121,
   "id": "98e5b94a",
   "metadata": {},
   "outputs": [],
   "source": [
    "with open('C:/python_data/student.txt', 'wb') as f:\n",
    "    pickle.dump(students2, f)"
   ]
  },
  {
   "cell_type": "code",
   "execution_count": 122,
   "id": "d9b8bab5",
   "metadata": {},
   "outputs": [
    {
     "name": "stdout",
     "output_type": "stream",
     "text": [
      "박이름(24, 독어독문학)\n",
      "김이름(20, 영어영문학)\n",
      "이이름(40, 컴퓨터과학)\n"
     ]
    }
   ],
   "source": [
    "with open('C:/python_data/student.txt', 'rb') as f:\n",
    "    students3 = pickle.load(f)\n",
    "    for item in students3:\n",
    "        print(item)"
   ]
  },
  {
   "cell_type": "code",
   "execution_count": 126,
   "id": "87efb754",
   "metadata": {},
   "outputs": [],
   "source": [
    "import os"
   ]
  },
  {
   "cell_type": "code",
   "execution_count": 127,
   "id": "18cd9c5b",
   "metadata": {},
   "outputs": [
    {
     "data": {
      "text/plain": [
       "0"
      ]
     },
     "execution_count": 127,
     "metadata": {},
     "output_type": "execute_result"
    }
   ],
   "source": [
    "os.system('dir')"
   ]
  },
  {
   "cell_type": "code",
   "execution_count": 130,
   "id": "20b69a47",
   "metadata": {},
   "outputs": [],
   "source": [
    "import json\n",
    "students =[{'name': '김이름', 'age': 20, 'major': '영어영문학'},\n",
    " {'name': '박이름', 'age': 24, 'major': '독어독문학'},\n",
    " {'name': '이이름', 'age': 40, 'major': '컴퓨터과학'}]\n",
    "with open('C:/python_data/students.json', 'w') as f:\n",
    "    json.dump(students, f, ensure_ascii=False)"
   ]
  },
  {
   "cell_type": "code",
   "execution_count": 131,
   "id": "e8582a28",
   "metadata": {},
   "outputs": [
    {
     "name": "stdout",
     "output_type": "stream",
     "text": [
      "[{'name': '김이름', 'age': 20, 'major': '영어영문학'}, {'name': '박이름', 'age': 24, 'major': '독어독문학'}, {'name': '이이름', 'age': 40, 'major': '컴퓨터과학'}]\n"
     ]
    }
   ],
   "source": [
    "with open(\"C:/python_data/students.json\", 'r') as f:\n",
    "    students2 = json.load(f)\n",
    "    print(students2)"
   ]
  },
  {
   "cell_type": "code",
   "execution_count": null,
   "id": "df02aa20",
   "metadata": {},
   "outputs": [],
   "source": []
  }
 ],
 "metadata": {
  "kernelspec": {
   "display_name": "basic",
   "language": "python",
   "name": "python3"
  },
  "language_info": {
   "codemirror_mode": {
    "name": "ipython",
    "version": 3
   },
   "file_extension": ".py",
   "mimetype": "text/x-python",
   "name": "python",
   "nbconvert_exporter": "python",
   "pygments_lexer": "ipython3",
   "version": "3.12.10"
  }
 },
 "nbformat": 4,
 "nbformat_minor": 5
}
