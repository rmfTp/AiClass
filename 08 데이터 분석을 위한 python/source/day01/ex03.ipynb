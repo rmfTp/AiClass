{
 "cells": [
  {
   "cell_type": "markdown",
   "id": "d928410b",
   "metadata": {},
   "source": [
    "## 문자형 \n",
    "- \", '로 감싼 값 \n",
    "- \\+ 연산자로 문자열 결합\n",
    "- \"\"\" 또는 ''' 로 문자열을 감싸면 자유롭게 줄개행을 통해서 작성 가능\n",
    "- \"\"\", '''로 여러줄 주석을 대체"
   ]
  },
  {
   "cell_type": "code",
   "execution_count": null,
   "id": "a33610e0",
   "metadata": {},
   "outputs": [
    {
     "name": "stdout",
     "output_type": "stream",
     "text": [
      "5.293955920339377e-21\n"
     ]
    }
   ],
   "source": [
    "a = '안녕하세요,'\n",
    "type(a)"
   ]
  },
  {
   "cell_type": "code",
   "execution_count": null,
   "id": "d7fb337b",
   "metadata": {},
   "outputs": [],
   "source": [
    "b = \"반갑습니다.\"\n",
    "type(b)"
   ]
  },
  {
   "cell_type": "code",
   "execution_count": null,
   "id": "8be3e48a",
   "metadata": {},
   "outputs": [],
   "source": [
    "c = a + b\n",
    "print(c)"
   ]
  },
  {
   "cell_type": "markdown",
   "id": "74750e5f",
   "metadata": {},
   "source": [
    "d = \"안녕하세요.\\n반갑습니다.\"\n",
    "print(d)"
   ]
  },
  {
   "cell_type": "code",
   "execution_count": null,
   "id": "a76bfddf",
   "metadata": {},
   "outputs": [],
   "source": [
    "'''\n",
    "설명1\n",
    "설명2\n",
    "...\n",
    "'''\n",
    "\n",
    "e = \"\"\"안녕하세요,\n",
    "반갑습니다. \n",
    "오늘 점심은 뭘 먹을까요?\n",
    "\"\"\"\n",
    "print(e)"
   ]
  },
  {
   "cell_type": "code",
   "execution_count": null,
   "id": "4313c0e7",
   "metadata": {},
   "outputs": [],
   "source": [
    "a = \"I love \\\"Python\\\" and \\\"Java\\\"\"\n",
    "print(a)"
   ]
  },
  {
   "cell_type": "code",
   "execution_count": null,
   "id": "7a8ca0c2",
   "metadata": {},
   "outputs": [],
   "source": [
    "\"ABC\" * 3"
   ]
  },
  {
   "cell_type": "code",
   "execution_count": null,
   "id": "cad1bd21",
   "metadata": {},
   "outputs": [],
   "source": [
    "print('-' * 30) \n",
    "print('메뉴 선택:')\n",
    "print('-' * 30)"
   ]
  },
  {
   "cell_type": "code",
   "execution_count": null,
   "id": "6c79d27c",
   "metadata": {},
   "outputs": [],
   "source": [
    "len(a)"
   ]
  },
  {
   "cell_type": "markdown",
   "id": "b2a55e51",
   "metadata": {},
   "source": [
    "## 문자열 인덱싱\n",
    "- 각 문자 접근은 인덱스 연산자 \\[\\]를 통해서 접근\n",
    "\n",
    "### 문자열 슬라이싱 \n",
    "- a\\[시작번호:종료번호\\] -> 시작번호 \\<=  a \\< 종료 번호\n",
    "- a\\[시작번호:] -> 시작번호  부터 끝까지\n",
    "- a\\[:종료번호] -> 종료번호 미만 문자열을 모두 추출 \n",
    "- 인덱스 번호가 음수, 오른쪽 부터 위치를 계산 \n",
    "    - \\-1 오른쪽 첫번째 문자\n",
    "- a\\[:] -> 전체 문자열 복사\n",
    "\n",
    "> id\\(..\\) : 자원의 주소값을 확인"
   ]
  },
  {
   "cell_type": "code",
   "execution_count": null,
   "id": "e33cfccb",
   "metadata": {},
   "outputs": [],
   "source": [
    "a = \"One Little, Two Little, Three Little Indians\""
   ]
  },
  {
   "cell_type": "code",
   "execution_count": null,
   "id": "0d81aa35",
   "metadata": {},
   "outputs": [],
   "source": [
    "a[0] + a[1] + a[2]"
   ]
  },
  {
   "cell_type": "code",
   "execution_count": null,
   "id": "99f845eb",
   "metadata": {},
   "outputs": [],
   "source": [
    "a[0:3] # 0, 1, 2"
   ]
  },
  {
   "cell_type": "code",
   "execution_count": null,
   "id": "e9e8cbd5",
   "metadata": {},
   "outputs": [],
   "source": [
    "a[4:]"
   ]
  },
  {
   "cell_type": "code",
   "execution_count": null,
   "id": "c80b28e8",
   "metadata": {},
   "outputs": [],
   "source": []
  },
  {
   "cell_type": "code",
   "execution_count": null,
   "id": "aa57e288",
   "metadata": {},
   "outputs": [],
   "source": [
    "a[37:]"
   ]
  },
  {
   "cell_type": "code",
   "execution_count": null,
   "id": "8e7ffea2",
   "metadata": {},
   "outputs": [],
   "source": [
    "a[-7:]"
   ]
  },
  {
   "cell_type": "code",
   "execution_count": null,
   "id": "144328b0",
   "metadata": {},
   "outputs": [],
   "source": [
    "b = a[:-8]\n",
    "print(\"a의 주소:\", id(a))\n",
    "print(\"b의 주소:\", id(b))"
   ]
  },
  {
   "cell_type": "code",
   "execution_count": null,
   "id": "00cacd14",
   "metadata": {},
   "outputs": [],
   "source": [
    "b = \"ABC\"\n",
    "print(\"주소:\", id(b))\n",
    "\n",
    "b += \"DEF\"\n",
    "print(\"주소:\", id(b))"
   ]
  },
  {
   "cell_type": "code",
   "execution_count": null,
   "id": "2b3803a6",
   "metadata": {},
   "outputs": [],
   "source": [
    "a[0] = 'b'  # 문자열은 불변하기 때문에 변경 불가"
   ]
  },
  {
   "cell_type": "code",
   "execution_count": null,
   "id": "81d76550",
   "metadata": {},
   "outputs": [],
   "source": [
    "b = a[:] # b에 a의 문자열을 복사\n",
    "c = a # c에 a의 문자열 객체의 주소 복사\n",
    "\n",
    "print(a, \"a의 주소:\", id(a))\n",
    "print(b, \"b의 주소:\", id(b))\n",
    "print(c, \"c의 주소:\", id(c))"
   ]
  },
  {
   "cell_type": "markdown",
   "id": "1469044f",
   "metadata": {},
   "source": [
    "## 문자열 형식화\n",
    "- %d : 정수 \n",
    "- %f : 실수\n",
    "    - %10.4f -> 전체 자리수는 10자(정수 부분 + 소수점자리)에서 소수점은 4자까지만 출력 \n",
    "    - %.4f  -> 소수점 자리수만 4자리로 한정(자바 X)\n",
    "    - %0.4f (자바 O)\n",
    "- %s : 문자\n",
    "    - %10s -> 왼쪽부터 최소 10자, 10자가 안되는 경우 왼쪽부터 공백으로 채워준다.\n",
    "    - %-10s -> 오른쪽 부터 최소 10자, 10자가 안되는 경우 오른쪽부터 공백으로 채워준다.\n",
    "\n",
    "### 적용방법 \n",
    "- \"형식화된 문자열\" % 대체될 값\n",
    "- \"형식화된 문자열(대체될 부분이 여러개 인경우)\" % (값1, 값2, ...)\n",
    "- 형식화 할때 %를 문자열로 사용하는 경우 %%로 대체\n",
    "- 문자열 객체의 함수 중에서 format 함수 사용\n",
    "    - 형식화할때 치환될 부분을 {0}, {1}로 순서 번호 형태로 지정 \n",
    "    - 형식화할때 치환될 부분을 직접 이름형태로 지정할 수도 있음 {number}, {day}\n",
    "    - 숫자와 이름을 혼용해서 형식화 문자열을 작성\n",
    "    - {0:\\<10} : 최소 10자리, 남는 자리수를 오른쪽 부터 공백\n",
    "        - {0:\\_<10>} : 최소 10자리, 남는 자리수를 오른쪽 부터 _로 채워 넣는다.\n",
    "\n",
    "    - {0:\\>10} : 최소 10자리, 남는 자리수를 왼쪽 부터 공백 \n",
    "        - {0:\\!>10} : 최소 10자리, 남는 자리수를 왼쪽 부터 !로 채워 넣는다.\n",
    "\n",
    "    - {0:^10} : 최소 10자리, 남는 자리수는 좌우 균등하게 공백 \n",
    "        - {0:\\0^10} : 최소 10자리, 남는 자리수는 좌우 균등하게 0으로 채워 넣는다. \n",
    "\n",
    "    - {0:10.4f} : 최소 10자리(정수부 + 소수점)를 유지, 소수점은 4자리로 한정 \n",
    "        - {0:.4f} : 소수점만 4자리로 한정\n",
    "        \n",
    "- 문자열 앞에 \"f\", 파이썬 3.6부터 추가, 변수 그 차체를 문자열에 추가"
   ]
  },
  {
   "cell_type": "code",
   "execution_count": null,
   "id": "0061fa8b",
   "metadata": {},
   "outputs": [],
   "source": [
    "\"I drink %d cup of coffee and %d piece of cake\" % (10, 3)"
   ]
  },
  {
   "cell_type": "code",
   "execution_count": null,
   "id": "05282493",
   "metadata": {},
   "outputs": [],
   "source": [
    "\"I drink %s cup of coffee and %s piece of cake\" % ('ten', 'three')"
   ]
  },
  {
   "cell_type": "code",
   "execution_count": null,
   "id": "40d9ceb2",
   "metadata": {},
   "outputs": [],
   "source": [
    "\"%10s,\" % \"Apple\""
   ]
  },
  {
   "cell_type": "code",
   "execution_count": null,
   "id": "fdfb293f",
   "metadata": {},
   "outputs": [],
   "source": [
    "\"%-10s,\" % \"Apple\""
   ]
  },
  {
   "cell_type": "code",
   "execution_count": null,
   "id": "e56b2d10",
   "metadata": {},
   "outputs": [],
   "source": [
    "a = 100.12345678\n",
    "print(\"숫자: %f\" % a)\n",
    "print(\"숫자: %10.4f\" % a)\n",
    "print(\"숫자: %.4f\" % a)"
   ]
  },
  {
   "cell_type": "code",
   "execution_count": null,
   "id": "fee0295d",
   "metadata": {},
   "outputs": [],
   "source": [
    "\"완료까지 %d%% 입니다.\" % 85"
   ]
  },
  {
   "cell_type": "code",
   "execution_count": null,
   "id": "24636b91",
   "metadata": {},
   "outputs": [],
   "source": [
    "\"I drink {0} cup of coffee and {1} piece of cake\".format(5, 3)"
   ]
  },
  {
   "cell_type": "code",
   "execution_count": null,
   "id": "b781b73f",
   "metadata": {},
   "outputs": [],
   "source": [
    "\"I drink {number1} cup of coffee and {number2} piece of cake\".format(number1=10, number2=3)\n",
    "\"I drink {number1} cup of coffee and {number2} piece of cake\".format(number2=3, number1=10)"
   ]
  },
  {
   "cell_type": "code",
   "execution_count": null,
   "id": "26ae5088",
   "metadata": {},
   "outputs": [],
   "source": [
    "\"I drink {0} cup of coffee and {number} piece of cake\".format(5, number=3)"
   ]
  },
  {
   "cell_type": "code",
   "execution_count": null,
   "id": "9f82736c",
   "metadata": {},
   "outputs": [],
   "source": [
    "coffee = 5\n",
    "cake = 3\n",
    "f\"I drink {coffee} cup of coffee and {cake} piece of cake\""
   ]
  },
  {
   "cell_type": "code",
   "execution_count": null,
   "id": "9b70c5bb",
   "metadata": {},
   "outputs": [],
   "source": [
    "\"***{0:<10}, {1:>10}, {2:^10}***\".format(\"Apple\", \"Apple\", \"Apple\")"
   ]
  },
  {
   "cell_type": "code",
   "execution_count": null,
   "id": "d1e7957b",
   "metadata": {},
   "outputs": [],
   "source": [
    "\"***{0:_<10}, {1:*>10}, {2:0^10}***\".format(\"Apple\", \"Apple\", \"Apple\")"
   ]
  },
  {
   "cell_type": "code",
   "execution_count": null,
   "id": "6c5afb2d",
   "metadata": {},
   "outputs": [],
   "source": [
    "print(\"{0:10.4f}\".format(100.12345678))\n",
    "print(\"{0:.4f}\".format(100.12345678))"
   ]
  },
  {
   "cell_type": "markdown",
   "id": "efa92c1f",
   "metadata": {},
   "source": [
    "### f 형식화\n",
    "- 문자열 앞에 f를 붙이면 된다.\n",
    "- 변수를 직접 형식화 문자열에 출력 \n",
    "- 간단한 연산, 함수 호출도 가능"
   ]
  },
  {
   "cell_type": "code",
   "execution_count": null,
   "id": "f308c007",
   "metadata": {},
   "outputs": [],
   "source": []
  }
 ],
 "metadata": {
  "kernelspec": {
   "display_name": "basic",
   "language": "python",
   "name": "python3"
  },
  "language_info": {
   "codemirror_mode": {
    "name": "ipython",
    "version": 3
   },
   "file_extension": ".py",
   "mimetype": "text/x-python",
   "name": "python",
   "nbconvert_exporter": "python",
   "pygments_lexer": "ipython3",
   "version": "3.12.10"
  }
 },
 "nbformat": 4,
 "nbformat_minor": 5
}
