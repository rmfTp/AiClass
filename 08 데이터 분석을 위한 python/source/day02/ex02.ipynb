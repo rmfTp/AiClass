{
 "cells": [
  {
   "cell_type": "markdown",
   "id": "d6fedd43",
   "metadata": {},
   "source": [
    "## 튜플 자료형\n",
    "### 특징 \n",
    "- 순차 자료구조\n",
    "- 수정 불가 리스트 \n",
    "- 추가, 수정, 삭제가 불가 \n",
    "\t\n",
    "> 자바의 unmodifiable List와 비슷 "
   ]
  },
  {
   "cell_type": "code",
   "execution_count": 1,
   "id": "a8b2e05b",
   "metadata": {},
   "outputs": [],
   "source": [
    "fruits = ('사과', '오렌지', '바나나', '멜론')"
   ]
  },
  {
   "cell_type": "code",
   "execution_count": 2,
   "id": "f71953fd",
   "metadata": {},
   "outputs": [
    {
     "data": {
      "text/plain": [
       "'사과'"
      ]
     },
     "execution_count": 2,
     "metadata": {},
     "output_type": "execute_result"
    }
   ],
   "source": [
    "fruits[0]"
   ]
  },
  {
   "cell_type": "code",
   "execution_count": 3,
   "id": "84c163ef",
   "metadata": {},
   "outputs": [
    {
     "data": {
      "text/plain": [
       "['사과', '오렌지', '바나나', '멜론']"
      ]
     },
     "execution_count": 3,
     "metadata": {},
     "output_type": "execute_result"
    }
   ],
   "source": [
    "fruits2 =  list(fruits)\n",
    "fruits2"
   ]
  },
  {
   "cell_type": "code",
   "execution_count": 4,
   "id": "617ecd12",
   "metadata": {},
   "outputs": [
    {
     "data": {
      "text/plain": [
       "['사과', '(수정)오렌지', '바나나', '멜론']"
      ]
     },
     "execution_count": 4,
     "metadata": {},
     "output_type": "execute_result"
    }
   ],
   "source": [
    "fruits2[1] = '(수정)오렌지'\n",
    "fruits2"
   ]
  },
  {
   "cell_type": "code",
   "execution_count": 6,
   "id": "3b5428f5",
   "metadata": {},
   "outputs": [
    {
     "data": {
      "text/plain": [
       "int"
      ]
     },
     "execution_count": 6,
     "metadata": {},
     "output_type": "execute_result"
    }
   ],
   "source": [
    "a= (10)\n",
    "type(a)"
   ]
  },
  {
   "cell_type": "code",
   "execution_count": 7,
   "id": "22927e4d",
   "metadata": {},
   "outputs": [
    {
     "data": {
      "text/plain": [
       "tuple"
      ]
     },
     "execution_count": 7,
     "metadata": {},
     "output_type": "execute_result"
    }
   ],
   "source": [
    "a = (10,)\n",
    "type(a)"
   ]
  },
  {
   "cell_type": "markdown",
   "id": "873c9ca1",
   "metadata": {},
   "source": [
    "### 기타\n",
    "- 튜플에서 \\( \\)는 생략 가능\n",
    "- 변수에 튜플 값을 순서대로 할당 "
   ]
  },
  {
   "cell_type": "code",
   "execution_count": 8,
   "id": "da534472",
   "metadata": {},
   "outputs": [
    {
     "name": "stdout",
     "output_type": "stream",
     "text": [
      "<class 'tuple'> (10, 20, 30)\n",
      "<class 'tuple'> (10, 20, 30)\n"
     ]
    }
   ],
   "source": [
    "a = (10, 20, 30)\n",
    "print(type(a),a)\n",
    "b = 10,20,30\n",
    "print(type(b), b)"
   ]
  },
  {
   "cell_type": "code",
   "execution_count": 9,
   "id": "6983793b",
   "metadata": {},
   "outputs": [
    {
     "name": "stdout",
     "output_type": "stream",
     "text": [
      "10 20 30 40\n"
     ]
    }
   ],
   "source": [
    "(c, d) = (10, 20)\n",
    "e, f = 30, 40\n",
    "print(c, d, e, f)"
   ]
  },
  {
   "cell_type": "code",
   "execution_count": 10,
   "id": "a1d640aa",
   "metadata": {},
   "outputs": [
    {
     "name": "stdout",
     "output_type": "stream",
     "text": [
      "20 10\n"
     ]
    }
   ],
   "source": [
    "a = 10\n",
    "b = 20\n",
    "temp = a\n",
    "a = b\n",
    "b = temp\n",
    "print(a, b)"
   ]
  },
  {
   "cell_type": "code",
   "execution_count": 11,
   "id": "c4b2fe44",
   "metadata": {},
   "outputs": [
    {
     "name": "stdout",
     "output_type": "stream",
     "text": [
      "10 20\n"
     ]
    }
   ],
   "source": [
    "b, a = a, b\n",
    "print(a, b)"
   ]
  },
  {
   "cell_type": "code",
   "execution_count": null,
   "id": "0b5d2ea7",
   "metadata": {},
   "outputs": [],
   "source": []
  }
 ],
 "metadata": {
  "kernelspec": {
   "display_name": "basic",
   "language": "python",
   "name": "python3"
  },
  "language_info": {
   "codemirror_mode": {
    "name": "ipython",
    "version": 3
   },
   "file_extension": ".py",
   "mimetype": "text/x-python",
   "name": "python",
   "nbconvert_exporter": "python",
   "pygments_lexer": "ipython3",
   "version": "3.12.10"
  }
 },
 "nbformat": 4,
 "nbformat_minor": 5
}
