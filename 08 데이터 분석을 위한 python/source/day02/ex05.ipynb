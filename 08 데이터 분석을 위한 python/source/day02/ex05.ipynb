{
 "cells": [
  {
   "cell_type": "markdown",
   "id": "dbcdce5d",
   "metadata": {},
   "source": [
    "## 자료형의 참과 거짓\n",
    "\t값을 가지고도 참 거짓 판별 가능 \n",
    "\t\n",
    "\t거짓으로 판별하는 값(False) \n",
    "\t1) \"\" : 빈 문자열 \n",
    "\t2) 0 \n",
    "\t3) None \n",
    "\t4) [] : 비어있는 리스트 \n",
    "\t5) () : 비어있는 튜플 \n",
    "\t\n",
    "\t->  이외의 모든 값은 참으로 판별(True) "
   ]
  },
  {
   "cell_type": "code",
   "execution_count": 9,
   "id": "6a030773",
   "metadata": {},
   "outputs": [],
   "source": [
    "#result = True\n",
    "#result = None \n",
    "result = []"
   ]
  },
  {
   "cell_type": "code",
   "execution_count": 10,
   "id": "aaec57f0",
   "metadata": {},
   "outputs": [
    {
     "name": "stdout",
     "output_type": "stream",
     "text": [
      "The result is False or None\n"
     ]
    }
   ],
   "source": [
    "if result:\n",
    "    print(\"The result is True\")\n",
    "else:\n",
    "    print(\"The result is False or None\")"
   ]
  },
  {
   "cell_type": "code",
   "execution_count": 12,
   "id": "bf541878",
   "metadata": {},
   "outputs": [
    {
     "name": "stdout",
     "output_type": "stream",
     "text": [
      "<class 'list'>\n",
      "False <class 'bool'>\n"
     ]
    }
   ],
   "source": [
    "print(type(result))\n",
    "\n",
    "result2 =bool(result)\n",
    "print(result2, type(result2))"
   ]
  },
  {
   "cell_type": "code",
   "execution_count": null,
   "id": "f9aca72c",
   "metadata": {},
   "outputs": [],
   "source": []
  }
 ],
 "metadata": {
  "kernelspec": {
   "display_name": "basic",
   "language": "python",
   "name": "python3"
  },
  "language_info": {
   "codemirror_mode": {
    "name": "ipython",
    "version": 3
   },
   "file_extension": ".py",
   "mimetype": "text/x-python",
   "name": "python",
   "nbconvert_exporter": "python",
   "pygments_lexer": "ipython3",
   "version": "3.12.10"
  }
 },
 "nbformat": 4,
 "nbformat_minor": 5
}
