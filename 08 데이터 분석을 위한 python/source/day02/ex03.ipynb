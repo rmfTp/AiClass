{
 "cells": [
  {
   "cell_type": "markdown",
   "id": "bb902d34",
   "metadata": {},
   "source": []
  },
  {
   "cell_type": "markdown",
   "id": "9aa1b9e6",
   "metadata": {},
   "source": [
    "## 딕셔너리 자료형\n",
    "- 딕셔너리란? 키, 값의 쌍 \n",
    "\t\n",
    "- 딕셔너리는 어떻게 만들까?\n",
    "```python\n",
    "\t변수 = { 키: 값, 키: 값, ... }\n",
    "\t변수 = dict({키: 값, 키: 값, ...})\n",
    "\t변수['키']\n",
    "``` "
   ]
  },
  {
   "cell_type": "code",
   "execution_count": 8,
   "id": "a1db9bf6",
   "metadata": {},
   "outputs": [],
   "source": [
    "#person = {'name': '이름', 'age': 40}\n",
    "person = dict({'name': '이름', 'age': 40})"
   ]
  },
  {
   "cell_type": "code",
   "execution_count": 9,
   "id": "8c5f1be1",
   "metadata": {},
   "outputs": [
    {
     "name": "stdout",
     "output_type": "stream",
     "text": [
      "이름 40\n"
     ]
    }
   ],
   "source": [
    "print(person['name'], person['age'])"
   ]
  },
  {
   "cell_type": "markdown",
   "id": "ad4723f1",
   "metadata": {},
   "source": [
    "## 추가, 수정, 삭제 \n",
    "- 추가 : 없는 키 값에 추가하면 추가 \n",
    "- 수정 : 동일한 키 값에 추가하면 수정 \n",
    "- 삭제 : del 연산자"
   ]
  },
  {
   "cell_type": "code",
   "execution_count": 10,
   "id": "287f445d",
   "metadata": {},
   "outputs": [],
   "source": [
    "person['address'] = '서울시 강남구'"
   ]
  },
  {
   "cell_type": "code",
   "execution_count": 11,
   "id": "4f344f4b",
   "metadata": {},
   "outputs": [
    {
     "name": "stdout",
     "output_type": "stream",
     "text": [
      "{'name': '이름', 'age': 40, 'address': '(수정)서울'}\n"
     ]
    }
   ],
   "source": [
    "person['address'] = '(수정)서울'\n",
    "print(person)"
   ]
  },
  {
   "cell_type": "code",
   "execution_count": 12,
   "id": "150d1126",
   "metadata": {},
   "outputs": [
    {
     "data": {
      "text/plain": [
       "{'name': '이름', 'age': 40}"
      ]
     },
     "execution_count": 12,
     "metadata": {},
     "output_type": "execute_result"
    }
   ],
   "source": [
    "del person['address']\n",
    "person"
   ]
  },
  {
   "cell_type": "markdown",
   "id": "560f736b",
   "metadata": {},
   "source": [
    "### 조회\n",
    "    - 변수명\\['키'\\]\n",
    "        - '키' 조회한 값이 존재하지 않으면 KeyError 발생\n",
    "    - 변수명.get('키')\n",
    "        - '키' 조회한 값이 없으면 None\n",
    "        - 값이 없을때 대체할 수 있는 기본값 설정 \n",
    "            - 변수명.get('키', '기본값')\n",
    "            \n",
    "> 참고 : None은 자바와 비교하면 null과 비슷"
   ]
  },
  {
   "cell_type": "code",
   "execution_count": null,
   "id": "3220b313",
   "metadata": {},
   "outputs": [],
   "source": [
    "person['address']"
   ]
  },
  {
   "cell_type": "code",
   "execution_count": null,
   "id": "5f70d228",
   "metadata": {},
   "outputs": [],
   "source": [
    "value = person.get('address')\n",
    "value # None "
   ]
  },
  {
   "cell_type": "code",
   "execution_count": null,
   "id": "dcda7974",
   "metadata": {},
   "outputs": [],
   "source": [
    "value = person.get('address', '기본주소')\n",
    "value"
   ]
  },
  {
   "cell_type": "markdown",
   "id": "10e32b6a",
   "metadata": {},
   "source": [
    "### 딕셔너리 관련 함수\n",
    "1) Key 리스트 만들기 - keys\n",
    "\t- 딕셔너리의 키값목록 \n",
    "\t\n",
    "\tdict_keys 자료형\n",
    "\t\n",
    "\t참고) 자바의 Map: keySet()과 유사\n",
    "2) Value 리스트 만들기 - values\n",
    "\t- 딕셔너리의 값의 목록\n",
    "\t- dict_values 자료형 \n",
    "\t\n",
    "\t참고) 자바의 Map: values()\n",
    "3) Key, Value 쌍 얻기 - items\n",
    "\t- 키, 값의 쌍의 목록 \n",
    "\t- dict_items 자료형\n",
    "\t\n",
    "\t참고) 자바의 Map: entrySet() \n",
    "4) Key: Value 쌍 모두 지우기 - clear\n",
    "\t- 딕셔너리 비우기\n",
    "\n",
    "> dict_keys, dict_values, dict_items -> 보통은 리스트 자료형으로 변환 후 사용하는 경우가 많다.\n",
    "> list(...) 감싸면 된다!\n",
    "> 튜플로 사용할면 tuple(...)로 감싼다."
   ]
  },
  {
   "cell_type": "code",
   "execution_count": 19,
   "id": "b270cab9",
   "metadata": {},
   "outputs": [
    {
     "data": {
      "text/plain": [
       "dict_keys(['name', 'age'])"
      ]
     },
     "execution_count": 19,
     "metadata": {},
     "output_type": "execute_result"
    }
   ],
   "source": [
    "person.keys()"
   ]
  },
  {
   "cell_type": "code",
   "execution_count": 20,
   "id": "2cbeb306",
   "metadata": {},
   "outputs": [
    {
     "name": "stdout",
     "output_type": "stream",
     "text": [
      "['name', 'age']\n"
     ]
    }
   ],
   "source": [
    "keys = list(person.keys())\n",
    "print(keys)"
   ]
  },
  {
   "cell_type": "code",
   "execution_count": 21,
   "id": "0f08e385",
   "metadata": {},
   "outputs": [
    {
     "data": {
      "text/plain": [
       "dict_values(['이름', 40])"
      ]
     },
     "execution_count": 21,
     "metadata": {},
     "output_type": "execute_result"
    }
   ],
   "source": [
    "person.values()"
   ]
  },
  {
   "cell_type": "code",
   "execution_count": 22,
   "id": "ba93f9bd",
   "metadata": {},
   "outputs": [
    {
     "name": "stdout",
     "output_type": "stream",
     "text": [
      "('이름', 40)\n"
     ]
    }
   ],
   "source": [
    "values = tuple(person.values())\n",
    "print(values)"
   ]
  },
  {
   "cell_type": "code",
   "execution_count": 23,
   "id": "0c269260",
   "metadata": {},
   "outputs": [
    {
     "data": {
      "text/plain": [
       "dict_items([('name', '이름'), ('age', 40)])"
      ]
     },
     "execution_count": 23,
     "metadata": {},
     "output_type": "execute_result"
    }
   ],
   "source": [
    "person.items()  # [('name', '이름'), ('age', 40), ('address', '(수정)서울')]"
   ]
  },
  {
   "cell_type": "code",
   "execution_count": 24,
   "id": "f7a87d8e",
   "metadata": {},
   "outputs": [
    {
     "name": "stdout",
     "output_type": "stream",
     "text": [
      "('name', '이름') <class 'tuple'>\n",
      "('age', 40) <class 'tuple'>\n"
     ]
    }
   ],
   "source": [
    "for item in person.items():\n",
    "    print(item, type(item))"
   ]
  },
  {
   "cell_type": "code",
   "execution_count": null,
   "id": "7f597750",
   "metadata": {},
   "outputs": [
    {
     "name": "stdout",
     "output_type": "stream",
     "text": [
      "name : 이름\n",
      "age : 40\n"
     ]
    }
   ],
   "source": [
    "#for (key, value) in person.items():\n",
    "for key, value in person.items():\n",
    "    print(f'{key} : {value}')"
   ]
  },
  {
   "cell_type": "code",
   "execution_count": null,
   "id": "c4a061ca",
   "metadata": {},
   "outputs": [],
   "source": []
  }
 ],
 "metadata": {
  "kernelspec": {
   "display_name": "basic",
   "language": "python",
   "name": "python3"
  },
  "language_info": {
   "codemirror_mode": {
    "name": "ipython",
    "version": 3
   },
   "file_extension": ".py",
   "mimetype": "text/x-python",
   "name": "python",
   "nbconvert_exporter": "python",
   "pygments_lexer": "ipython3",
   "version": "3.12.10"
  }
 },
 "nbformat": 4,
 "nbformat_minor": 5
}
