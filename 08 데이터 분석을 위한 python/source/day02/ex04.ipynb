{
 "cells": [
  {
   "cell_type": "markdown",
   "id": "60f7ede5",
   "metadata": {},
   "source": [
    "## 집합 자료형\n",
    "- 집합 자료형은 어떻게 만들까?\n",
    "```python \n",
    "\tset(리스트, 튜플, dict_keys ..., 문자열 ) \n",
    "```\t\n",
    "\n",
    "- 집합 자료형의 특징\n",
    "\t- 중복 허용하지 않음  \n",
    "\t- 순서를 결정하지 못한다.\n",
    "\t"
   ]
  },
  {
   "cell_type": "code",
   "execution_count": 16,
   "id": "8be51b01",
   "metadata": {},
   "outputs": [
    {
     "data": {
      "text/plain": [
       "{'H', 'e', 'l', 'o'}"
      ]
     },
     "execution_count": 16,
     "metadata": {},
     "output_type": "execute_result"
    }
   ],
   "source": [
    "a = set(\"Hello\")\n",
    "a"
   ]
  },
  {
   "cell_type": "code",
   "execution_count": 17,
   "id": "a102e507",
   "metadata": {},
   "outputs": [
    {
     "data": {
      "text/plain": [
       "[1, 2, 3, 1, 2, 3, 1, 2, 3]"
      ]
     },
     "execution_count": 17,
     "metadata": {},
     "output_type": "execute_result"
    }
   ],
   "source": [
    "temp = (1, 2, 3)\n",
    "a = list(temp * 3)\n",
    "a"
   ]
  },
  {
   "cell_type": "code",
   "execution_count": 18,
   "id": "21347504",
   "metadata": {},
   "outputs": [
    {
     "data": {
      "text/plain": [
       "{1, 2, 3}"
      ]
     },
     "execution_count": 18,
     "metadata": {},
     "output_type": "execute_result"
    }
   ],
   "source": [
    "b = set(a)\n",
    "b"
   ]
  },
  {
   "cell_type": "markdown",
   "id": "e60ef34d",
   "metadata": {},
   "source": [
    "### 교집합, 합집합, 차집합 구하기\n",
    "- 교집합 구하기\n",
    "```python \n",
    "\ta & b \n",
    "\ta.insersection(b)\n",
    "```\n",
    "\n",
    "- 합집합 구하기\n",
    "```python\n",
    "    a | b\n",
    "    a.union(b)\n",
    "```\n",
    "- 차집합 구하기\n",
    "```python \n",
    "    a - b\n",
    "    a.difference(b)\n",
    "```"
   ]
  },
  {
   "cell_type": "code",
   "execution_count": 19,
   "id": "5db2b76c",
   "metadata": {},
   "outputs": [],
   "source": [
    "a = set([1, 2, 3, 4, 5])\n",
    "b = set([4, 5, 6, 7, 8])"
   ]
  },
  {
   "cell_type": "code",
   "execution_count": 24,
   "id": "d4ef6d2c",
   "metadata": {},
   "outputs": [
    {
     "name": "stdout",
     "output_type": "stream",
     "text": [
      "{1, 2, 3, 4, 5, 6, 7, 8, 9}\n",
      "{8, 4, 5, 6}\n",
      "{1, 2, 3, 9}\n",
      "{1, 2, 3, 7, 9}\n"
     ]
    }
   ],
   "source": [
    "print(a | b)  # 합집합\n",
    "print(a & b)  # 교집합   \n",
    "print(a - b)  # 차집합\n",
    "print(a ^ b)  # 차집합의 합집합"
   ]
  },
  {
   "cell_type": "code",
   "execution_count": 21,
   "id": "3cf739cf",
   "metadata": {},
   "outputs": [],
   "source": [
    "a.add(6)  # 원소 추가"
   ]
  },
  {
   "cell_type": "code",
   "execution_count": 22,
   "id": "82930fd3",
   "metadata": {},
   "outputs": [],
   "source": [
    "a.update([7, 8, 9])  # 여러 원소 추가"
   ]
  },
  {
   "cell_type": "code",
   "execution_count": 23,
   "id": "d30582a6",
   "metadata": {},
   "outputs": [
    {
     "data": {
      "text/plain": [
       "{1, 2, 3, 4, 5, 6, 8, 9}"
      ]
     },
     "execution_count": 23,
     "metadata": {},
     "output_type": "execute_result"
    }
   ],
   "source": [
    "a.remove(7)\n",
    "a  # 원소 제거"
   ]
  },
  {
   "cell_type": "code",
   "execution_count": null,
   "id": "a7acd8da",
   "metadata": {},
   "outputs": [],
   "source": []
  }
 ],
 "metadata": {
  "kernelspec": {
   "display_name": "basic",
   "language": "python",
   "name": "python3"
  },
  "language_info": {
   "codemirror_mode": {
    "name": "ipython",
    "version": 3
   },
   "file_extension": ".py",
   "mimetype": "text/x-python",
   "name": "python",
   "nbconvert_exporter": "python",
   "pygments_lexer": "ipython3",
   "version": "3.12.10"
  }
 },
 "nbformat": 4,
 "nbformat_minor": 5
}
