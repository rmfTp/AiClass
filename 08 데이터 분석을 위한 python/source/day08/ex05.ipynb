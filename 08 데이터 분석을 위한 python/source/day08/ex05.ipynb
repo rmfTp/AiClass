{
 "cells": [
  {
   "cell_type": "code",
   "execution_count": 43,
   "id": "9ff331cd",
   "metadata": {},
   "outputs": [
    {
     "name": "stdout",
     "output_type": "stream",
     "text": [
      "Requirement already satisfied: beautifulsoup4 in c:\\김용준\\08 데이터 분석을 위한 python\\source\\basic\\lib\\site-packages (4.13.4)\n",
      "Requirement already satisfied: soupsieve>1.2 in c:\\김용준\\08 데이터 분석을 위한 python\\source\\basic\\lib\\site-packages (from beautifulsoup4) (2.7)\n",
      "Requirement already satisfied: typing-extensions>=4.0.0 in c:\\김용준\\08 데이터 분석을 위한 python\\source\\basic\\lib\\site-packages (from beautifulsoup4) (4.13.2)\n"
     ]
    },
    {
     "name": "stderr",
     "output_type": "stream",
     "text": [
      "\n",
      "[notice] A new release of pip is available: 25.0.1 -> 25.1.1\n",
      "[notice] To update, run: python.exe -m pip install --upgrade pip\n"
     ]
    }
   ],
   "source": [
    "!pip install beautifulsoup4"
   ]
  },
  {
   "cell_type": "code",
   "execution_count": 44,
   "id": "c1874be3",
   "metadata": {},
   "outputs": [],
   "source": [
    "import requests\n",
    "from bs4 import BeautifulSoup as bs"
   ]
  },
  {
   "cell_type": "code",
   "execution_count": 45,
   "id": "78775083",
   "metadata": {},
   "outputs": [],
   "source": [
    "response = requests.get(\"https://news.naver.com/section/105\")\n",
    "html = bs(response.text, \"html.parser\")"
   ]
  },
  {
   "cell_type": "code",
   "execution_count": 46,
   "id": "9a084b72",
   "metadata": {},
   "outputs": [
    {
     "data": {
      "text/plain": [
       "[<strong class=\"sa_text_strong\">카카오-KISA, 중소사업자 대상 개인정보 보호 온라인 교육</strong>,\n",
       " <strong class=\"sa_text_strong\">오픈AI \"이재명 대통령 AI 비전에 깊은 인상…여정 함께하겠다\"</strong>,\n",
       " <strong class=\"sa_text_strong\">넷마블문화재단, ‘2025 전국 장애학생 e페스티벌’ 예선 돌입</strong>,\n",
       " <strong class=\"sa_text_strong\">에픽게임즈, ‘언리얼 엔진5.6’ 출시</strong>,\n",
       " <strong class=\"sa_text_strong\">SK텔레콤 해킹 사태에 ‘깜짝’…KT·LG유플러스 1차 보안 점검 ‘이상 無’</strong>,\n",
       " <strong class=\"sa_text_strong\">크래프톤, 인도 주요 광고 시상식서 총 64개 부문 수상</strong>,\n",
       " <strong class=\"sa_text_strong\">6G 포럼, `6G and AI : Co-Creating the Future Intelligence` 워크숍 개최</strong>,\n",
       " <strong class=\"sa_text_strong\">“울트라급 경험”삼성전자, AI 기능 강화 ‘갤럭시 Z폴드7’ 출시 예고</strong>,\n",
       " <strong class=\"sa_text_strong\">MSD-할로자임 특허무효심판 본심리 돌입…알테오젠 “기술 독자성 확인 계기”</strong>,\n",
       " <strong class=\"sa_text_strong\">디앤디파마텍 “MASH 치료제 美 임상 2상 순항…이달 중순 1차 평가지표 발표”</strong>,\n",
       " <strong class=\"sa_text_strong\">의협, 이재명 대통령에 \"의대생‧전공의 복귀 해결해달라”</strong>,\n",
       " <strong class=\"sa_text_strong\">삼성전자 `갤럭시 Z 폴드`, 더 크고 더 얇게 돌아온다</strong>,\n",
       " <strong class=\"sa_text_strong\">대선 다음날…선방위, 이준석 토론발언에 논의 끝에 '문제없음'</strong>,\n",
       " <strong class=\"sa_text_strong\">이재명 정부 첫 국무총리에 김민석…국정원장 이종석·비서실장 강훈식</strong>,\n",
       " <strong class=\"sa_text_strong\">슬림 디자인에 울트라급 성능? 삼성전자 '갤럭시Z폴드7' 티저 공개</strong>,\n",
       " <strong class=\"sa_text_strong\">AI 반도체 강국 외친 李, 업계선 ‘긍정평가’… 현실성엔 ‘물음표’ [이재명 시대]</strong>,\n",
       " <strong class=\"sa_text_strong\">국내 서버 시장 5조 원 돌파…GPU 서버가 성장 이끌어</strong>,\n",
       " <strong class=\"sa_text_strong\">폭증하는 반도체 제조 데이터…'CPU→GPU' 전환 시도</strong>,\n",
       " <strong class=\"sa_text_strong\">KT·LGU+, 1차 서버 보안점검 종료…\"현재까지 특이점 없어\"</strong>,\n",
       " <strong class=\"sa_text_strong\">일본 기업, 세계 2번째 민간 달 착륙 성공할까…모레 ‘고 투 더 문’</strong>,\n",
       " <strong class=\"sa_text_strong\">‘민원 사주’ 의혹 류희림 방심위원장 사직서 40일 만에 재가</strong>,\n",
       " <strong class=\"sa_text_strong\">“SW 新강국 도약” 내세운 이재명 정부,  공공IT 불합리 관행 사라질까?</strong>,\n",
       " <strong class=\"sa_text_strong\">[현장] 車·원전·방산 SW 검증 강자 슈어소프트테크, AI 시장 겨냥한 新무기 꺼냈다</strong>,\n",
       " <strong class=\"sa_text_strong\">한의협 \"이재명 대통령, 한의약으로 국민건강 돌보게 해달라”</strong>,\n",
       " <strong class=\"sa_text_strong\">이훈기 의원, SK 최태원 회장에 ‘위약금 면제’ 확답 받는다</strong>,\n",
       " <strong class=\"sa_text_strong\">'중국 탓'에 줄었던 엔비디아 시총, '중국 덕'에 세계 1위 탈환</strong>,\n",
       " <strong class=\"sa_text_strong\">새 정부, “세계 최강 AI 인프라 구축”…첨단GPU 탑재 ‘AIDC’ 정책 기대감</strong>,\n",
       " <strong class=\"sa_text_strong\">사람 뇌 닮은 시각 센서 등장… 로봇 사물 인식 정확도 87%로 끌어올려</strong>,\n",
       " <strong class=\"sa_text_strong\">\"나 교체하면 불륜 폭로\" 사람 협박한 AI [Global]</strong>,\n",
       " <strong class=\"sa_text_strong\">불길 잡혔던 '플랫폼법'...새 정부서 불씨 살까</strong>,\n",
       " <strong class=\"sa_text_strong\">'스텔라 블레이드' PC 데모 흥행... 출시 전부터 기대감 급상승</strong>,\n",
       " <strong class=\"sa_text_strong\">'이재명 시대' 맞이한 이진숙…방통위 어디로</strong>,\n",
       " <strong class=\"sa_text_strong\">'개인정보 보호' 강조한 이재명…SKT, '역대급 과징금' 파장은?</strong>,\n",
       " <strong class=\"sa_text_strong\">서울아산병원, '중국 명문' 칭화대 SOS에 中 건너가 생체 간이식</strong>,\n",
       " <strong class=\"sa_text_strong\">“로봇팔이 물건 줍고 미스트 뿜어 목욕” 5년내 돌봄로봇 상용화… “쉰다는 개념”의 육아휴직 명칭 바꾼다 [AI 프리즘*신입 직장인 뉴스]</strong>,\n",
       " <strong class=\"sa_text_strong\">이재명 정부 ‘디지털 브레인’ 전면 부상… AI·콘텐츠 정책 주도권 잡는다</strong>,\n",
       " <strong class=\"sa_text_strong\">소아청소년 병원들 \"지금부터 진짜 K-소아의료 만들어 달라\"</strong>,\n",
       " <strong class=\"sa_text_strong\">이재명 정부, 통신비 세액공제-전국민 안심데이터 도입 탄력 기대</strong>,\n",
       " <strong class=\"sa_text_strong\">순식간에 ‘상전벽해’…우주서 본 알프스 빙하 붕괴로 초토화된 마을 [지구를 보다]</strong>,\n",
       " <strong class=\"sa_text_strong\">SKT 유심교체 600만 돌파…KT·LGU+로 이동 50만 육박</strong>,\n",
       " <strong class=\"sa_text_strong\">李, 총리 김민석 의원·국정원장 이종석 전 장관 지명</strong>,\n",
       " <strong class=\"sa_text_strong\">[닻올린 이재명 정부] '5000만원 풀뿌리 연구'부터 살려야…출연연 기관장 임기 일치될까</strong>,\n",
       " <strong class=\"sa_text_strong\">'셀프민원 의혹' 류희림 방심위원장, 대선 당일 사직서 수리</strong>,\n",
       " <strong class=\"sa_text_strong\">마이크론 “모바일용 6세대 D램 샘플 업계 첫 출하”</strong>]"
      ]
     },
     "execution_count": 46,
     "metadata": {},
     "output_type": "execute_result"
    }
   ],
   "source": [
    "# titles = html.find_all('strong')\n",
    "titles = html.find_all(class_='sa_text_strong')\n",
    "titles"
   ]
  },
  {
   "cell_type": "code",
   "execution_count": 47,
   "id": "d02f5a20",
   "metadata": {},
   "outputs": [
    {
     "ename": "SelectorSyntaxError",
     "evalue": "Malformed attribute selector at position 15\n  line 1:\ndiv.as_headline[data-template-id:'SECTION_HEADLINE]\n               ^",
     "output_type": "error",
     "traceback": [
      "\u001b[31m---------------------------------------------------------------------------\u001b[39m",
      "\u001b[31mSelectorSyntaxError\u001b[39m                       Traceback (most recent call last)",
      "\u001b[36mCell\u001b[39m\u001b[36m \u001b[39m\u001b[32mIn[47]\u001b[39m\u001b[32m, line 3\u001b[39m\n\u001b[32m      1\u001b[39m \u001b[38;5;66;03m# headline = html.find(class_ = 'as_section_headline')\u001b[39;00m\n\u001b[32m      2\u001b[39m \u001b[38;5;66;03m# headline = html.find(attrs = {'data-template-id':'SECTION_HEADLINE',class_='as_headline'})\u001b[39;00m\n\u001b[32m----> \u001b[39m\u001b[32m3\u001b[39m headline = \u001b[43mhtml\u001b[49m\u001b[43m.\u001b[49m\u001b[43mselect_one\u001b[49m\u001b[43m(\u001b[49m\u001b[33;43m\"\u001b[39;49m\u001b[33;43mdiv.as_headline[data-template-id:\u001b[39;49m\u001b[33;43m'\u001b[39;49m\u001b[33;43mSECTION_HEADLINE]\u001b[39;49m\u001b[33;43m\"\u001b[39;49m\u001b[43m)\u001b[49m\n\u001b[32m      4\u001b[39m titles = headline.find_all(class_=\u001b[33m'\u001b[39m\u001b[33msa_text_strong\u001b[39m\u001b[33m'\u001b[39m)\n\u001b[32m      5\u001b[39m \u001b[38;5;28;01mfor\u001b[39;00m title \u001b[38;5;129;01min\u001b[39;00m titles:\n",
      "\u001b[36mFile \u001b[39m\u001b[32mc:\\김용준\\08 데이터 분석을 위한 python\\source\\basic\\Lib\\site-packages\\bs4\\element.py:2805\u001b[39m, in \u001b[36mTag.select_one\u001b[39m\u001b[34m(self, selector, namespaces, **kwargs)\u001b[39m\n\u001b[32m   2790\u001b[39m \u001b[38;5;28;01mdef\u001b[39;00m\u001b[38;5;250m \u001b[39m\u001b[34mselect_one\u001b[39m(\n\u001b[32m   2791\u001b[39m     \u001b[38;5;28mself\u001b[39m, selector: \u001b[38;5;28mstr\u001b[39m, namespaces: Optional[Dict[\u001b[38;5;28mstr\u001b[39m, \u001b[38;5;28mstr\u001b[39m]] = \u001b[38;5;28;01mNone\u001b[39;00m, **kwargs: Any\n\u001b[32m   2792\u001b[39m ) -> Optional[Tag]:\n\u001b[32m   2793\u001b[39m \u001b[38;5;250m    \u001b[39m\u001b[33;03m\"\"\"Perform a CSS selection operation on the current element.\u001b[39;00m\n\u001b[32m   2794\u001b[39m \n\u001b[32m   2795\u001b[39m \u001b[33;03m    :param selector: A CSS selector.\u001b[39;00m\n\u001b[32m   (...)\u001b[39m\u001b[32m   2803\u001b[39m \u001b[33;03m       soupsieve.select() method.\u001b[39;00m\n\u001b[32m   2804\u001b[39m \u001b[33;03m    \"\"\"\u001b[39;00m\n\u001b[32m-> \u001b[39m\u001b[32m2805\u001b[39m     \u001b[38;5;28;01mreturn\u001b[39;00m \u001b[38;5;28;43mself\u001b[39;49m\u001b[43m.\u001b[49m\u001b[43mcss\u001b[49m\u001b[43m.\u001b[49m\u001b[43mselect_one\u001b[49m\u001b[43m(\u001b[49m\u001b[43mselector\u001b[49m\u001b[43m,\u001b[49m\u001b[43m \u001b[49m\u001b[43mnamespaces\u001b[49m\u001b[43m,\u001b[49m\u001b[43m \u001b[49m\u001b[43m*\u001b[49m\u001b[43m*\u001b[49m\u001b[43mkwargs\u001b[49m\u001b[43m)\u001b[49m\n",
      "\u001b[36mFile \u001b[39m\u001b[32mc:\\김용준\\08 데이터 분석을 위한 python\\source\\basic\\Lib\\site-packages\\bs4\\css.py:157\u001b[39m, in \u001b[36mCSS.select_one\u001b[39m\u001b[34m(self, select, namespaces, flags, **kwargs)\u001b[39m\n\u001b[32m    131\u001b[39m \u001b[38;5;28;01mdef\u001b[39;00m\u001b[38;5;250m \u001b[39m\u001b[34mselect_one\u001b[39m(\n\u001b[32m    132\u001b[39m     \u001b[38;5;28mself\u001b[39m,\n\u001b[32m    133\u001b[39m     select: \u001b[38;5;28mstr\u001b[39m,\n\u001b[32m   (...)\u001b[39m\u001b[32m    136\u001b[39m     **kwargs: Any,\n\u001b[32m    137\u001b[39m ) -> element.Tag | \u001b[38;5;28;01mNone\u001b[39;00m:\n\u001b[32m    138\u001b[39m \u001b[38;5;250m    \u001b[39m\u001b[33;03m\"\"\"Perform a CSS selection operation on the current Tag and return the\u001b[39;00m\n\u001b[32m    139\u001b[39m \u001b[33;03m    first result, if any.\u001b[39;00m\n\u001b[32m    140\u001b[39m \n\u001b[32m   (...)\u001b[39m\u001b[32m    155\u001b[39m \u001b[33;03m       `soupsieve.select_one() <https://facelessuser.github.io/soupsieve/api/#soupsieveselect_one>`_ method.\u001b[39;00m\n\u001b[32m    156\u001b[39m \u001b[33;03m    \"\"\"\u001b[39;00m\n\u001b[32m--> \u001b[39m\u001b[32m157\u001b[39m     \u001b[38;5;28;01mreturn\u001b[39;00m \u001b[38;5;28;43mself\u001b[39;49m\u001b[43m.\u001b[49m\u001b[43mapi\u001b[49m\u001b[43m.\u001b[49m\u001b[43mselect_one\u001b[49m\u001b[43m(\u001b[49m\n\u001b[32m    158\u001b[39m \u001b[43m        \u001b[49m\u001b[43mselect\u001b[49m\u001b[43m,\u001b[49m\u001b[43m \u001b[49m\u001b[38;5;28;43mself\u001b[39;49m\u001b[43m.\u001b[49m\u001b[43mtag\u001b[49m\u001b[43m,\u001b[49m\u001b[43m \u001b[49m\u001b[38;5;28;43mself\u001b[39;49m\u001b[43m.\u001b[49m\u001b[43m_ns\u001b[49m\u001b[43m(\u001b[49m\u001b[43mnamespaces\u001b[49m\u001b[43m,\u001b[49m\u001b[43m \u001b[49m\u001b[43mselect\u001b[49m\u001b[43m)\u001b[49m\u001b[43m,\u001b[49m\u001b[43m \u001b[49m\u001b[43mflags\u001b[49m\u001b[43m,\u001b[49m\u001b[43m \u001b[49m\u001b[43m*\u001b[49m\u001b[43m*\u001b[49m\u001b[43mkwargs\u001b[49m\n\u001b[32m    159\u001b[39m \u001b[43m    \u001b[49m\u001b[43m)\u001b[49m\n",
      "\u001b[36mFile \u001b[39m\u001b[32mc:\\김용준\\08 데이터 분석을 위한 python\\source\\basic\\Lib\\site-packages\\soupsieve\\__init__.py:132\u001b[39m, in \u001b[36mselect_one\u001b[39m\u001b[34m(select, tag, namespaces, flags, custom, **kwargs)\u001b[39m\n\u001b[32m    121\u001b[39m \u001b[38;5;28;01mdef\u001b[39;00m\u001b[38;5;250m \u001b[39m\u001b[34mselect_one\u001b[39m(\n\u001b[32m    122\u001b[39m     select: \u001b[38;5;28mstr\u001b[39m,\n\u001b[32m    123\u001b[39m     tag: bs4.Tag,\n\u001b[32m   (...)\u001b[39m\u001b[32m    128\u001b[39m     **kwargs: Any\n\u001b[32m    129\u001b[39m ) -> bs4.Tag | \u001b[38;5;28;01mNone\u001b[39;00m:\n\u001b[32m    130\u001b[39m \u001b[38;5;250m    \u001b[39m\u001b[33;03m\"\"\"Select a single tag.\"\"\"\u001b[39;00m\n\u001b[32m--> \u001b[39m\u001b[32m132\u001b[39m     \u001b[38;5;28;01mreturn\u001b[39;00m \u001b[38;5;28;43mcompile\u001b[39;49m\u001b[43m(\u001b[49m\u001b[43mselect\u001b[49m\u001b[43m,\u001b[49m\u001b[43m \u001b[49m\u001b[43mnamespaces\u001b[49m\u001b[43m,\u001b[49m\u001b[43m \u001b[49m\u001b[43mflags\u001b[49m\u001b[43m,\u001b[49m\u001b[43m \u001b[49m\u001b[43m*\u001b[49m\u001b[43m*\u001b[49m\u001b[43mkwargs\u001b[49m\u001b[43m)\u001b[49m.select_one(tag)\n",
      "\u001b[36mFile \u001b[39m\u001b[32mc:\\김용준\\08 데이터 분석을 위한 python\\source\\basic\\Lib\\site-packages\\soupsieve\\__init__.py:65\u001b[39m, in \u001b[36mcompile\u001b[39m\u001b[34m(pattern, namespaces, flags, custom, **kwargs)\u001b[39m\n\u001b[32m     62\u001b[39m         \u001b[38;5;28;01mraise\u001b[39;00m \u001b[38;5;167;01mValueError\u001b[39;00m(\u001b[33m\"\u001b[39m\u001b[33mCannot process \u001b[39m\u001b[33m'\u001b[39m\u001b[33mcustom\u001b[39m\u001b[33m'\u001b[39m\u001b[33m argument on a compiled selector list\u001b[39m\u001b[33m\"\u001b[39m)\n\u001b[32m     63\u001b[39m     \u001b[38;5;28;01mreturn\u001b[39;00m pattern\n\u001b[32m---> \u001b[39m\u001b[32m65\u001b[39m \u001b[38;5;28;01mreturn\u001b[39;00m \u001b[43mcp\u001b[49m\u001b[43m.\u001b[49m\u001b[43m_cached_css_compile\u001b[49m\u001b[43m(\u001b[49m\n\u001b[32m     66\u001b[39m \u001b[43m    \u001b[49m\u001b[43mpattern\u001b[49m\u001b[43m,\u001b[49m\n\u001b[32m     67\u001b[39m \u001b[43m    \u001b[49m\u001b[43mct\u001b[49m\u001b[43m.\u001b[49m\u001b[43mNamespaces\u001b[49m\u001b[43m(\u001b[49m\u001b[43mnamespaces\u001b[49m\u001b[43m)\u001b[49m\u001b[43m \u001b[49m\u001b[38;5;28;43;01mif\u001b[39;49;00m\u001b[43m \u001b[49m\u001b[43mnamespaces\u001b[49m\u001b[43m \u001b[49m\u001b[38;5;129;43;01mis\u001b[39;49;00m\u001b[43m \u001b[49m\u001b[38;5;129;43;01mnot\u001b[39;49;00m\u001b[43m \u001b[49m\u001b[38;5;28;43;01mNone\u001b[39;49;00m\u001b[43m \u001b[49m\u001b[38;5;28;43;01melse\u001b[39;49;00m\u001b[43m \u001b[49m\u001b[43mnamespaces\u001b[49m\u001b[43m,\u001b[49m\n\u001b[32m     68\u001b[39m \u001b[43m    \u001b[49m\u001b[43mct\u001b[49m\u001b[43m.\u001b[49m\u001b[43mCustomSelectors\u001b[49m\u001b[43m(\u001b[49m\u001b[43mcustom\u001b[49m\u001b[43m)\u001b[49m\u001b[43m \u001b[49m\u001b[38;5;28;43;01mif\u001b[39;49;00m\u001b[43m \u001b[49m\u001b[43mcustom\u001b[49m\u001b[43m \u001b[49m\u001b[38;5;129;43;01mis\u001b[39;49;00m\u001b[43m \u001b[49m\u001b[38;5;129;43;01mnot\u001b[39;49;00m\u001b[43m \u001b[49m\u001b[38;5;28;43;01mNone\u001b[39;49;00m\u001b[43m \u001b[49m\u001b[38;5;28;43;01melse\u001b[39;49;00m\u001b[43m \u001b[49m\u001b[43mcustom\u001b[49m\u001b[43m,\u001b[49m\n\u001b[32m     69\u001b[39m \u001b[43m    \u001b[49m\u001b[43mflags\u001b[49m\n\u001b[32m     70\u001b[39m \u001b[43m\u001b[49m\u001b[43m)\u001b[49m\n",
      "\u001b[36mFile \u001b[39m\u001b[32mc:\\김용준\\08 데이터 분석을 위한 python\\source\\basic\\Lib\\site-packages\\soupsieve\\css_parser.py:220\u001b[39m, in \u001b[36m_cached_css_compile\u001b[39m\u001b[34m(pattern, namespaces, custom, flags)\u001b[39m\n\u001b[32m    211\u001b[39m \u001b[38;5;250m\u001b[39m\u001b[33;03m\"\"\"Cached CSS compile.\"\"\"\u001b[39;00m\n\u001b[32m    213\u001b[39m custom_selectors = process_custom(custom)\n\u001b[32m    214\u001b[39m \u001b[38;5;28;01mreturn\u001b[39;00m cm.SoupSieve(\n\u001b[32m    215\u001b[39m     pattern,\n\u001b[32m    216\u001b[39m     \u001b[43mCSSParser\u001b[49m\u001b[43m(\u001b[49m\n\u001b[32m    217\u001b[39m \u001b[43m        \u001b[49m\u001b[43mpattern\u001b[49m\u001b[43m,\u001b[49m\n\u001b[32m    218\u001b[39m \u001b[43m        \u001b[49m\u001b[43mcustom\u001b[49m\u001b[43m=\u001b[49m\u001b[43mcustom_selectors\u001b[49m\u001b[43m,\u001b[49m\n\u001b[32m    219\u001b[39m \u001b[43m        \u001b[49m\u001b[43mflags\u001b[49m\u001b[43m=\u001b[49m\u001b[43mflags\u001b[49m\n\u001b[32m--> \u001b[39m\u001b[32m220\u001b[39m \u001b[43m    \u001b[49m\u001b[43m)\u001b[49m\u001b[43m.\u001b[49m\u001b[43mprocess_selectors\u001b[49m\u001b[43m(\u001b[49m\u001b[43m)\u001b[49m,\n\u001b[32m    221\u001b[39m     namespaces,\n\u001b[32m    222\u001b[39m     custom,\n\u001b[32m    223\u001b[39m     flags\n\u001b[32m    224\u001b[39m )\n",
      "\u001b[36mFile \u001b[39m\u001b[32mc:\\김용준\\08 데이터 분석을 위한 python\\source\\basic\\Lib\\site-packages\\soupsieve\\css_parser.py:1152\u001b[39m, in \u001b[36mCSSParser.process_selectors\u001b[39m\u001b[34m(self, index, flags)\u001b[39m\n\u001b[32m   1149\u001b[39m \u001b[38;5;28;01mdef\u001b[39;00m\u001b[38;5;250m \u001b[39m\u001b[34mprocess_selectors\u001b[39m(\u001b[38;5;28mself\u001b[39m, index: \u001b[38;5;28mint\u001b[39m = \u001b[32m0\u001b[39m, flags: \u001b[38;5;28mint\u001b[39m = \u001b[32m0\u001b[39m) -> ct.SelectorList:\n\u001b[32m   1150\u001b[39m \u001b[38;5;250m    \u001b[39m\u001b[33;03m\"\"\"Process selectors.\"\"\"\u001b[39;00m\n\u001b[32m-> \u001b[39m\u001b[32m1152\u001b[39m     \u001b[38;5;28;01mreturn\u001b[39;00m \u001b[38;5;28;43mself\u001b[39;49m\u001b[43m.\u001b[49m\u001b[43mparse_selectors\u001b[49m\u001b[43m(\u001b[49m\u001b[38;5;28;43mself\u001b[39;49m\u001b[43m.\u001b[49m\u001b[43mselector_iter\u001b[49m\u001b[43m(\u001b[49m\u001b[38;5;28;43mself\u001b[39;49m\u001b[43m.\u001b[49m\u001b[43mpattern\u001b[49m\u001b[43m)\u001b[49m\u001b[43m,\u001b[49m\u001b[43m \u001b[49m\u001b[43mindex\u001b[49m\u001b[43m,\u001b[49m\u001b[43m \u001b[49m\u001b[43mflags\u001b[49m\u001b[43m)\u001b[49m\n",
      "\u001b[36mFile \u001b[39m\u001b[32mc:\\김용준\\08 데이터 분석을 위한 python\\source\\basic\\Lib\\site-packages\\soupsieve\\css_parser.py:985\u001b[39m, in \u001b[36mCSSParser.parse_selectors\u001b[39m\u001b[34m(self, iselector, index, flags)\u001b[39m\n\u001b[32m    983\u001b[39m \u001b[38;5;28;01mtry\u001b[39;00m:\n\u001b[32m    984\u001b[39m     \u001b[38;5;28;01mwhile\u001b[39;00m \u001b[38;5;28;01mTrue\u001b[39;00m:\n\u001b[32m--> \u001b[39m\u001b[32m985\u001b[39m         key, m = \u001b[38;5;28;43mnext\u001b[39;49m\u001b[43m(\u001b[49m\u001b[43miselector\u001b[49m\u001b[43m)\u001b[49m\n\u001b[32m    987\u001b[39m         \u001b[38;5;66;03m# Handle parts\u001b[39;00m\n\u001b[32m    988\u001b[39m         \u001b[38;5;28;01mif\u001b[39;00m key == \u001b[33m\"\u001b[39m\u001b[33mat_rule\u001b[39m\u001b[33m\"\u001b[39m:\n",
      "\u001b[36mFile \u001b[39m\u001b[32mc:\\김용준\\08 데이터 분석을 위한 python\\source\\basic\\Lib\\site-packages\\soupsieve\\css_parser.py:1145\u001b[39m, in \u001b[36mCSSParser.selector_iter\u001b[39m\u001b[34m(self, pattern)\u001b[39m\n\u001b[32m   1143\u001b[39m         \u001b[38;5;28;01melse\u001b[39;00m:\n\u001b[32m   1144\u001b[39m             msg = \u001b[33mf\u001b[39m\u001b[33m\"\u001b[39m\u001b[33mInvalid character \u001b[39m\u001b[38;5;132;01m{\u001b[39;00mc\u001b[38;5;132;01m!r}\u001b[39;00m\u001b[33m position \u001b[39m\u001b[38;5;132;01m{\u001b[39;00mindex\u001b[38;5;132;01m}\u001b[39;00m\u001b[33m\"\u001b[39m\n\u001b[32m-> \u001b[39m\u001b[32m1145\u001b[39m         \u001b[38;5;28;01mraise\u001b[39;00m SelectorSyntaxError(msg, \u001b[38;5;28mself\u001b[39m.pattern, index)\n\u001b[32m   1146\u001b[39m \u001b[38;5;28;01mif\u001b[39;00m \u001b[38;5;28mself\u001b[39m.debug:  \u001b[38;5;66;03m# pragma: no cover\u001b[39;00m\n\u001b[32m   1147\u001b[39m     \u001b[38;5;28mprint\u001b[39m(\u001b[33m'\u001b[39m\u001b[33m## END PARSING\u001b[39m\u001b[33m'\u001b[39m)\n",
      "\u001b[31mSelectorSyntaxError\u001b[39m: Malformed attribute selector at position 15\n  line 1:\ndiv.as_headline[data-template-id:'SECTION_HEADLINE]\n               ^"
     ]
    }
   ],
   "source": [
    "# headline = html.find(class_ = 'as_section_headline')\n",
    "# headline = html.find(attrs = {'data-template-id':'SECTION_HEADLINE',class_='as_headline'})\n",
    "headline = html.select_one(\"div.as_headline[data-template-id:'SECTION_HEADLINE]\")\n",
    "titles = headline.find_all(class_='sa_text_strong')\n",
    "for title in titles:\n",
    "    print(bs.get_text(title))"
   ]
  },
  {
   "cell_type": "code",
   "execution_count": null,
   "id": "e076a6bf",
   "metadata": {},
   "outputs": [
    {
     "name": "stdout",
     "output_type": "stream",
     "text": [
      "src: https://mimgnews.pstatic.net/image/origin/014/2025/06/04/5358902.jpg?type=nf220_150\n",
      "src: https://mimgnews.pstatic.net/image/origin/018/2025/06/04/6030765.jpg?type=nf220_150\n",
      "src: https://mimgnews.pstatic.net/image/origin/008/2025/06/04/5203156.jpg?type=nf220_150\n",
      "src: https://mimgnews.pstatic.net/image/origin/011/2025/06/04/4493316.jpg?type=nf220_150\n",
      "src: https://mimgnews.pstatic.net/image/origin/030/2025/06/04/3318658.jpg?type=nf220_150\n",
      "src: https://mimgnews.pstatic.net/image/origin/029/2025/06/04/2959303.jpg?type=nf220_150\n",
      "src: https://mimgnews.pstatic.net/image/origin/421/2025/06/04/8295236.jpg?type=nf220_150\n",
      "src: https://mimgnews.pstatic.net/image/origin/366/2025/06/04/1082611.jpg?type=nf220_150\n"
     ]
    }
   ],
   "source": [
    "images = headline.find_all('img')\n",
    "for image in images:\n",
    "    print('src:', image.attrs['data-src'])"
   ]
  },
  {
   "cell_type": "code",
   "execution_count": null,
   "id": "3aac4629",
   "metadata": {},
   "outputs": [
    {
     "name": "stdout",
     "output_type": "stream",
     "text": [
      "href: https://n.news.naver.com/mnews/article/014/0005358902\n",
      "href: https://n.news.naver.com/mnews/article/018/0006030765\n",
      "href: https://n.news.naver.com/mnews/article/008/0005203156\n",
      "href: https://n.news.naver.com/mnews/article/011/0004493316\n",
      "href: https://n.news.naver.com/mnews/article/030/0003318658\n",
      "href: https://n.news.naver.com/mnews/article/029/0002959303\n",
      "href: https://n.news.naver.com/mnews/article/421/0008295236\n",
      "href: https://n.news.naver.com/mnews/article/366/0001082611\n"
     ]
    }
   ],
   "source": [
    "hyperlinks = headline.find_all(class_='sa_text_title')\n",
    "for hyperlink in hyperlinks:\n",
    "    print('href:',hyperlink.attrs['href'])"
   ]
  },
  {
   "cell_type": "code",
   "execution_count": null,
   "id": "09bde224",
   "metadata": {},
   "outputs": [],
   "source": []
  }
 ],
 "metadata": {
  "kernelspec": {
   "display_name": "basic",
   "language": "python",
   "name": "python3"
  },
  "language_info": {
   "codemirror_mode": {
    "name": "ipython",
    "version": 3
   },
   "file_extension": ".py",
   "mimetype": "text/x-python",
   "name": "python",
   "nbconvert_exporter": "python",
   "pygments_lexer": "ipython3",
   "version": "3.12.10"
  }
 },
 "nbformat": 4,
 "nbformat_minor": 5
}
