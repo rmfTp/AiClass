{
 "cells": [
  {
   "cell_type": "markdown",
   "id": "46ceb4ea",
   "metadata": {},
   "source": []
  },
  {
   "cell_type": "code",
   "execution_count": 18,
   "id": "a4a6203f",
   "metadata": {},
   "outputs": [],
   "source": [
    "import re"
   ]
  },
  {
   "cell_type": "code",
   "execution_count": 19,
   "id": "978d95dc",
   "metadata": {},
   "outputs": [],
   "source": [
    "str = '''I like an apple\n",
    "I like an orange\n",
    "I like an pear\n",
    "'''"
   ]
  },
  {
   "cell_type": "code",
   "execution_count": 20,
   "id": "8fa0b6f7",
   "metadata": {},
   "outputs": [
    {
     "data": {
      "text/plain": [
       "['apple', 'orange', 'pear']"
      ]
     },
     "execution_count": 20,
     "metadata": {},
     "output_type": "execute_result"
    }
   ],
   "source": [
    "p = re.compile(r\"apple|orange|pear\", re.M)\n",
    "items = p.findall(str)\n",
    "items"
   ]
  },
  {
   "cell_type": "code",
   "execution_count": 21,
   "id": "cb0885b8",
   "metadata": {},
   "outputs": [],
   "source": [
    "str = \"our class is over at 6:30pm\"\n",
    "str1 = \"class is over at 6:30pm\"\n",
    "str2 = \"our class\"\n",
    "str3 = \"our class and subclass\""
   ]
  },
  {
   "cell_type": "code",
   "execution_count": 22,
   "id": "b461fa75",
   "metadata": {},
   "outputs": [],
   "source": [
    "p = re.compile(r\"\\bclass\\b\")\n",
    "p1 = re.compile(r\"\\Bclass\\b\")"
   ]
  },
  {
   "cell_type": "code",
   "execution_count": null,
   "id": "f288212e",
   "metadata": {},
   "outputs": [
    {
     "name": "stdout",
     "output_type": "stream",
     "text": [
      "<re.Match object; span=(4, 9), match='class'>\n",
      "<re.Match object; span=(0, 5), match='class'>\n",
      "<re.Match object; span=(4, 9), match='class'>\n",
      "<re.Match object; span=(4, 9), match='class'>\n",
      "<re.Match object; span=(17, 22), match='class'>\n"
     ]
    }
   ],
   "source": [
    "m = p.search(str)\n",
    "print(m)\n",
    "m1 = p.search(str1)\n",
    "print(m1)\n",
    "m2 = p.search(str2)\n",
    "print(m2)\n",
    "m3 = p.search(str3)\n",
    "print(m3)\n",
    "m3 = p1.search(str3)\n",
    "print(m3) # \\B는 단어가 끊어지지 않은경우 찾아줌"
   ]
  },
  {
   "cell_type": "code",
   "execution_count": null,
   "id": "664f86e0",
   "metadata": {},
   "outputs": [],
   "source": []
  }
 ],
 "metadata": {
  "kernelspec": {
   "display_name": "basic",
   "language": "python",
   "name": "python3"
  },
  "language_info": {
   "codemirror_mode": {
    "name": "ipython",
    "version": 3
   },
   "file_extension": ".py",
   "mimetype": "text/x-python",
   "name": "python",
   "nbconvert_exporter": "python",
   "pygments_lexer": "ipython3",
   "version": "3.12.10"
  }
 },
 "nbformat": 4,
 "nbformat_minor": 5
}
