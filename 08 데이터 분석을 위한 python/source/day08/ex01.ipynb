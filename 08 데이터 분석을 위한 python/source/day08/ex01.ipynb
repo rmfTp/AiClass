{
 "cells": [
  {
   "cell_type": "markdown",
   "id": "1c7603ef",
   "metadata": {},
   "source": []
  },
  {
   "cell_type": "code",
   "execution_count": 17,
   "id": "3b61aca4",
   "metadata": {},
   "outputs": [],
   "source": [
    "import re\n",
    "words = [\"a12345b\", \"a     b\",\"a!b\",\"a\\nb\"]"
   ]
  },
  {
   "cell_type": "code",
   "execution_count": 18,
   "id": "ca5a779f",
   "metadata": {},
   "outputs": [
    {
     "name": "stdout",
     "output_type": "stream",
     "text": [
      "<re.Match object; span=(0, 7), match='a12345b'>\n",
      "<re.Match object; span=(0, 7), match='a     b'>\n",
      "<re.Match object; span=(0, 3), match='a!b'>\n",
      "<re.Match object; span=(0, 3), match='a\\nb'>\n",
      "None\n",
      "None\n",
      "<re.Match object; span=(0, 3), match='a!b'>\n",
      "<re.Match object; span=(0, 3), match='a\\nb'>\n"
     ]
    }
   ],
   "source": [
    "# p = re.compile(\"a.*b\")\n",
    "p = re.compile(\"a.*b\", re.DOTALL)\n",
    "p1 = re.compile(\"a.?b\", re.DOTALL)\n",
    "for word in words:\n",
    "    m = p.match(word)\n",
    "    print(m)\n",
    "for word in words:\n",
    "    m1 = p1.match(word)\n",
    "    print(m1)"
   ]
  },
  {
   "cell_type": "code",
   "execution_count": 19,
   "id": "25e68dc0",
   "metadata": {},
   "outputs": [],
   "source": [
    "p = re.compile(\"python\")"
   ]
  },
  {
   "cell_type": "code",
   "execution_count": 20,
   "id": "7a0bb519",
   "metadata": {},
   "outputs": [],
   "source": [
    "str = \"I love python, you love Python too\""
   ]
  },
  {
   "cell_type": "code",
   "execution_count": 21,
   "id": "04a5a3bd",
   "metadata": {},
   "outputs": [
    {
     "name": "stdout",
     "output_type": "stream",
     "text": [
      "['python']\n",
      "['python', 'Python']\n"
     ]
    }
   ],
   "source": [
    "search = p.findall(str)\n",
    "print(search)\n",
    "p = re.compile(\"python\", re.I) #re.IGNORECASE\n",
    "search1 = p.findall(str)\n",
    "print(search1)"
   ]
  },
  {
   "cell_type": "code",
   "execution_count": 27,
   "id": "dc1e4ed8",
   "metadata": {},
   "outputs": [],
   "source": [
    "str = '''python one\n",
    "123\n",
    "python two\n",
    "456\n",
    "python three\n",
    "789'''"
   ]
  },
  {
   "cell_type": "code",
   "execution_count": 28,
   "id": "274690ef",
   "metadata": {},
   "outputs": [],
   "source": [
    "p = re.compile(r\"^python\\s\\w+\")"
   ]
  },
  {
   "cell_type": "code",
   "execution_count": 32,
   "id": "0295076d",
   "metadata": {},
   "outputs": [
    {
     "name": "stdout",
     "output_type": "stream",
     "text": [
      "['python one']\n",
      "['python one', 'python two', 'python three']\n"
     ]
    }
   ],
   "source": [
    "items = p.findall(str)\n",
    "print(items)\n",
    "p = re.compile(r\"^python\\s\\w+\", re.M)\n",
    "items1 = p.findall(str)\n",
    "print(items1)"
   ]
  },
  {
   "cell_type": "code",
   "execution_count": 38,
   "id": "1c5b4a36",
   "metadata": {},
   "outputs": [
    {
     "name": "stdout",
     "output_type": "stream",
     "text": [
      "[]\n"
     ]
    }
   ],
   "source": [
    "p = re.compile(r\"\\Apython.+\\d\\Z\",re.M)\n",
    "items = p.findall(str)\n",
    "print(items)\n"
   ]
  }
 ],
 "metadata": {
  "kernelspec": {
   "display_name": "basic",
   "language": "python",
   "name": "python3"
  },
  "language_info": {
   "codemirror_mode": {
    "name": "ipython",
    "version": 3
   },
   "file_extension": ".py",
   "mimetype": "text/x-python",
   "name": "python",
   "nbconvert_exporter": "python",
   "pygments_lexer": "ipython3",
   "version": "3.12.10"
  }
 },
 "nbformat": 4,
 "nbformat_minor": 5
}
