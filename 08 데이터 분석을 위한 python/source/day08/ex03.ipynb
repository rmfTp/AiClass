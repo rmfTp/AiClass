{
 "cells": [
  {
   "cell_type": "markdown",
   "id": "fed32d4c",
   "metadata": {},
   "source": []
  },
  {
   "cell_type": "code",
   "execution_count": 49,
   "id": "e58759f1",
   "metadata": {},
   "outputs": [],
   "source": [
    "str = \"ABCABCABC\""
   ]
  },
  {
   "cell_type": "code",
   "execution_count": 50,
   "id": "e899ce40",
   "metadata": {},
   "outputs": [],
   "source": [
    "import re"
   ]
  },
  {
   "cell_type": "code",
   "execution_count": 51,
   "id": "de4d3a05",
   "metadata": {},
   "outputs": [
    {
     "data": {
      "text/plain": [
       "<re.Match object; span=(0, 9), match='ABCABCABC'>"
      ]
     },
     "execution_count": 51,
     "metadata": {},
     "output_type": "execute_result"
    }
   ],
   "source": [
    "p = re.compile(r\"(ABC){1,3}\")\n",
    "m = p.search(str)\n",
    "m"
   ]
  },
  {
   "cell_type": "code",
   "execution_count": 52,
   "id": "d80fb88c",
   "metadata": {},
   "outputs": [],
   "source": [
    "str = '''이이름 010-1000-1000\n",
    "김이름 010-2000-2000\n",
    "Rachel 010-3000-3000'''"
   ]
  },
  {
   "cell_type": "code",
   "execution_count": 53,
   "id": "44f4d239",
   "metadata": {},
   "outputs": [
    {
     "data": {
      "text/plain": [
       "[('이이름', '010-1000-1000'),\n",
       " ('김이름', '010-2000-2000'),\n",
       " ('Rachel', '010-3000-3000')]"
      ]
     },
     "execution_count": 53,
     "metadata": {},
     "output_type": "execute_result"
    }
   ],
   "source": [
    "# p = re.compile(r\"^\\D+\\s+010.*\\d{4}.*\\d{4}$\", re.M|re.I)\n",
    "p = re.compile(r\"^(\\D+)\\s+(010.*\\d{4}.*\\d{4})$\", re.M|re.I)\n",
    "m = p.findall(str)\n",
    "m"
   ]
  },
  {
   "cell_type": "code",
   "execution_count": 54,
   "id": "d881b361",
   "metadata": {},
   "outputs": [
    {
     "name": "stdout",
     "output_type": "stream",
     "text": [
      "m.group():이이름 010-1000-1000\n",
      "m.group(1):이이름\n",
      "m.group(2):010-1000-1000\n",
      "m.group():김이름 010-2000-2000\n",
      "m.group(1):김이름\n",
      "m.group(2):010-2000-2000\n",
      "m.group():Rachel 010-3000-3000\n",
      "m.group(1):Rachel\n",
      "m.group(2):010-3000-3000\n"
     ]
    }
   ],
   "source": [
    "for m in p.finditer(str):\n",
    "    print(f'm.group():{m.group()}')\n",
    "    print(f'm.group(1):{m.group(1)}')\n",
    "    print(f'm.group(2):{m.group(2)}')"
   ]
  },
  {
   "cell_type": "code",
   "execution_count": 55,
   "id": "e3919471",
   "metadata": {},
   "outputs": [],
   "source": [
    "str = '''이이름 010-1000-1000\n",
    "김이름 010-2000-2000\n",
    "Rachel 010-3000-3000'''\n",
    "p = re.compile(r\"^(\\D+)\\s+(010.*\\d{4}.*\\d{4})$\", re.M|re.I)"
   ]
  },
  {
   "cell_type": "code",
   "execution_count": 56,
   "id": "ee9148bb",
   "metadata": {},
   "outputs": [
    {
     "name": "stdout",
     "output_type": "stream",
     "text": [
      "010-1000-1000 이이름\n",
      "010-2000-2000 김이름\n",
      "010-3000-3000 Rachel\n"
     ]
    }
   ],
   "source": [
    "str2 = p.sub(r\"\\g<2> \\g<1>\", str)\n",
    "print(str2)"
   ]
  },
  {
   "cell_type": "markdown",
   "id": "7920cd19",
   "metadata": {},
   "source": []
  },
  {
   "cell_type": "code",
   "execution_count": 57,
   "id": "88b4f901",
   "metadata": {},
   "outputs": [
    {
     "name": "stdout",
     "output_type": "stream",
     "text": [
      "010-1000-1000 이이름\n",
      "010-2000-2000 김이름\n",
      "010-3000-3000 Rachel\n"
     ]
    }
   ],
   "source": [
    "p = re.compile(r\"^(?P<name>\\D+)\\s+(?P<mobile>010.*\\d{4}.*\\d{4})$\", re.M|re.I)\n",
    "str2 = p.sub(r\"\\g<mobile> \\g<name>\", str)\n",
    "print(str2)"
   ]
  },
  {
   "cell_type": "code",
   "execution_count": 58,
   "id": "b541dda8",
   "metadata": {},
   "outputs": [],
   "source": [
    "str = \"Paris in the the spring\""
   ]
  },
  {
   "cell_type": "code",
   "execution_count": 59,
   "id": "5c0c6f8b",
   "metadata": {},
   "outputs": [
    {
     "data": {
      "text/plain": [
       "<re.Match object; span=(9, 16), match='the the'>"
      ]
     },
     "execution_count": 59,
     "metadata": {},
     "output_type": "execute_result"
    }
   ],
   "source": [
    "p = re.compile(r\"(\\w+)\\s\\1\")\n",
    "m = p.search(str)\n",
    "m"
   ]
  },
  {
   "cell_type": "code",
   "execution_count": 60,
   "id": "08756baf",
   "metadata": {},
   "outputs": [],
   "source": [
    "str = \"one little, two little, three little indians\""
   ]
  },
  {
   "cell_type": "code",
   "execution_count": 61,
   "id": "d079434a",
   "metadata": {},
   "outputs": [
    {
     "data": {
      "text/plain": [
       "'one big, two big, three big indians'"
      ]
     },
     "execution_count": 61,
     "metadata": {},
     "output_type": "execute_result"
    }
   ],
   "source": [
    "p = re.compile(\"little\")\n",
    "str2 = p.sub(\"big\",str)\n",
    "str2"
   ]
  },
  {
   "cell_type": "code",
   "execution_count": 62,
   "id": "fa2326bd",
   "metadata": {},
   "outputs": [
    {
     "data": {
      "text/plain": [
       "'one big, two big, three little indians'"
      ]
     },
     "execution_count": 62,
     "metadata": {},
     "output_type": "execute_result"
    }
   ],
   "source": [
    "str2 = p.sub(\"big\",str,2)\n",
    "str2"
   ]
  },
  {
   "cell_type": "code",
   "execution_count": 63,
   "id": "76b7b9c8",
   "metadata": {},
   "outputs": [
    {
     "data": {
      "text/plain": [
       "'one LITTLE, two LITTLE, three LITTLE indians'"
      ]
     },
     "execution_count": 63,
     "metadata": {},
     "output_type": "execute_result"
    }
   ],
   "source": [
    "str2 = p.sub(lambda m:m.group().upper(),str)\n",
    "str2"
   ]
  },
  {
   "cell_type": "markdown",
   "id": "1f0035c5",
   "metadata": {},
   "source": []
  },
  {
   "cell_type": "code",
   "execution_count": null,
   "id": "cb74b735",
   "metadata": {},
   "outputs": [],
   "source": [
    "str = '''https://www.naver.com\n",
    "https://www.daum.net\n",
    "http://www.webnmobile.net'''"
   ]
  },
  {
   "cell_type": "code",
   "execution_count": 65,
   "id": "712385a4",
   "metadata": {},
   "outputs": [
    {
     "name": "stdout",
     "output_type": "stream",
     "text": [
      "['https://www.naver.com', 'https://www.daum.net', 'http://www.webnmobile.net']\n"
     ]
    }
   ],
   "source": [
    "# p = re.compile(r'^http[s]?://[\\w+.]+[com/net]$',re.M)\n",
    "p = re.compile(r'^http[s]?(?=://).+[\\w+\\.]+[com/net]$',re.M)\n",
    "m = p.findall(str)\n",
    "print(m)"
   ]
  },
  {
   "cell_type": "code",
   "execution_count": 67,
   "id": "8dba567d",
   "metadata": {},
   "outputs": [
    {
     "name": "stdout",
     "output_type": "stream",
     "text": [
      "daum\n",
      "webnmobile\n"
     ]
    }
   ],
   "source": [
    "p = re.compile(r'^http[s]?://(www\\.)?([^.]+(?=\\.net$))',re.M)\n",
    "for item in p.finditer(str):\n",
    "    print(item.group(2))"
   ]
  },
  {
   "cell_type": "code",
   "execution_count": null,
   "id": "5ae09f92",
   "metadata": {},
   "outputs": [
    {
     "name": "stdout",
     "output_type": "stream",
     "text": [
      "naver\n",
      "www\n",
      "www\n"
     ]
    }
   ],
   "source": [
    "p = re.compile(r'^http[s]?://(www\\.)?([^.]+(?=\\.)(?!\\.net$))',re.M)\n",
    "for item in p.finditer(str):\n",
    "    print(item.group(2))\n"
   ]
  },
  {
   "cell_type": "code",
   "execution_count": null,
   "id": "27912429",
   "metadata": {},
   "outputs": [],
   "source": []
  }
 ],
 "metadata": {
  "kernelspec": {
   "display_name": "basic",
   "language": "python",
   "name": "python3"
  },
  "language_info": {
   "codemirror_mode": {
    "name": "ipython",
    "version": 3
   },
   "file_extension": ".py",
   "mimetype": "text/x-python",
   "name": "python",
   "nbconvert_exporter": "python",
   "pygments_lexer": "ipython3",
   "version": "3.12.10"
  }
 },
 "nbformat": 4,
 "nbformat_minor": 5
}
