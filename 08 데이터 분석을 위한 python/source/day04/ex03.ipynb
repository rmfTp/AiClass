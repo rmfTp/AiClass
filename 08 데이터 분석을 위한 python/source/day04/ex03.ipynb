{
 "cells": [
  {
   "cell_type": "markdown",
   "id": "f4d2ce8b",
   "metadata": {},
   "source": [
    "## 클래스 \n",
    "- 객체 생성시 new 연산자는 사용 X\n",
    "- 클래스명\\(\\) 호출하면 객체가 생성 \n",
    "- 메서드의 첫번째 매개변수 : 생성된 객체의 주소값을 가지는 지역변수\n",
    "    - 자바의 this와 동일한 역할 "
   ]
  },
  {
   "cell_type": "code",
   "execution_count": 9,
   "id": "8bd8f4d7",
   "metadata": {},
   "outputs": [],
   "source": [
    "class Calculator:\n",
    "    def add(self):\n",
    "        return self.a + self.b"
   ]
  },
  {
   "cell_type": "code",
   "execution_count": 11,
   "id": "c21735a3",
   "metadata": {},
   "outputs": [],
   "source": [
    "cal1 = Calculator()"
   ]
  },
  {
   "cell_type": "code",
   "execution_count": 12,
   "id": "d999127c",
   "metadata": {},
   "outputs": [
    {
     "data": {
      "text/plain": [
       "300"
      ]
     },
     "execution_count": 12,
     "metadata": {},
     "output_type": "execute_result"
    }
   ],
   "source": [
    "cal1.a = 100\n",
    "cal1.b = 200\n",
    "\n",
    "cal1.add()"
   ]
  },
  {
   "cell_type": "code",
   "execution_count": null,
   "id": "de7c012e",
   "metadata": {},
   "outputs": [],
   "source": []
  },
  {
   "cell_type": "code",
   "execution_count": 2,
   "id": "d86053bf",
   "metadata": {},
   "outputs": [],
   "source": [
    "cal1 = Calculator() # 객체 생성 "
   ]
  },
  {
   "cell_type": "code",
   "execution_count": 3,
   "id": "ae85e800",
   "metadata": {},
   "outputs": [],
   "source": [
    "cal2 = Calculator()"
   ]
  },
  {
   "cell_type": "code",
   "execution_count": 5,
   "id": "d6b031f0",
   "metadata": {},
   "outputs": [
    {
     "name": "stdout",
     "output_type": "stream",
     "text": [
      "cal1: 2949209830224 cal2: 2949209818128\n"
     ]
    }
   ],
   "source": [
    "cal1 is cal2\n",
    "print(\"cal1:\", id(cal1), \"cal2:\", id(cal2))"
   ]
  },
  {
   "cell_type": "code",
   "execution_count": 8,
   "id": "cae116f1",
   "metadata": {},
   "outputs": [],
   "source": [
    "class Calculator:\n",
    "    def __init__(self, a=0, b=0):\n",
    "        self.a = a\n",
    "        self.b = b\n",
    "    def add(self):\n",
    "        return self.a + self.b"
   ]
  },
  {
   "cell_type": "code",
   "execution_count": 11,
   "id": "9103daa5",
   "metadata": {},
   "outputs": [],
   "source": [
    "cal1 = Calculator(100,200)"
   ]
  },
  {
   "cell_type": "code",
   "execution_count": 13,
   "id": "444048a7",
   "metadata": {},
   "outputs": [
    {
     "data": {
      "text/plain": [
       "300"
      ]
     },
     "execution_count": 13,
     "metadata": {},
     "output_type": "execute_result"
    }
   ],
   "source": [
    "cal1.add()"
   ]
  },
  {
   "cell_type": "code",
   "execution_count": 14,
   "id": "28f39fca",
   "metadata": {},
   "outputs": [
    {
     "data": {
      "text/plain": [
       "300"
      ]
     },
     "execution_count": 14,
     "metadata": {},
     "output_type": "execute_result"
    }
   ],
   "source": [
    "Calculator.add(cal1)"
   ]
  },
  {
   "cell_type": "code",
   "execution_count": 15,
   "id": "f7912a57",
   "metadata": {},
   "outputs": [],
   "source": [
    "class person:\n",
    "    first_name = \"이름\"\n",
    "    last_name = \"김\""
   ]
  },
  {
   "cell_type": "code",
   "execution_count": 24,
   "id": "49342096",
   "metadata": {},
   "outputs": [],
   "source": [
    "p1 = person()\n",
    "p2 = person()"
   ]
  },
  {
   "cell_type": "code",
   "execution_count": 25,
   "id": "11ce8c50",
   "metadata": {},
   "outputs": [],
   "source": [
    "p1.first_name = \"나메\""
   ]
  },
  {
   "cell_type": "code",
   "execution_count": 26,
   "id": "ab963239",
   "metadata": {},
   "outputs": [
    {
     "name": "stdout",
     "output_type": "stream",
     "text": [
      "나메 김\n",
      "이름 김\n"
     ]
    }
   ],
   "source": [
    "print(p1.first_name, p1.last_name)\n",
    "print(p2.first_name, p2.last_name)"
   ]
  },
  {
   "cell_type": "code",
   "execution_count": 27,
   "id": "7794efca",
   "metadata": {},
   "outputs": [
    {
     "name": "stdout",
     "output_type": "stream",
     "text": [
      "이름\n"
     ]
    }
   ],
   "source": [
    "print(person.first_name)"
   ]
  },
  {
   "cell_type": "code",
   "execution_count": 28,
   "id": "446f2bdf",
   "metadata": {},
   "outputs": [],
   "source": [
    "person.address = \"주소\" # static 변수 추가"
   ]
  },
  {
   "cell_type": "code",
   "execution_count": 29,
   "id": "947f1ce4",
   "metadata": {},
   "outputs": [
    {
     "data": {
      "text/plain": [
       "'주소'"
      ]
     },
     "execution_count": 29,
     "metadata": {},
     "output_type": "execute_result"
    }
   ],
   "source": [
    "p1.address"
   ]
  }
 ],
 "metadata": {
  "kernelspec": {
   "display_name": "basic",
   "language": "python",
   "name": "python3"
  },
  "language_info": {
   "codemirror_mode": {
    "name": "ipython",
    "version": 3
   },
   "file_extension": ".py",
   "mimetype": "text/x-python",
   "name": "python",
   "nbconvert_exporter": "python",
   "pygments_lexer": "ipython3",
   "version": "3.12.10"
  }
 },
 "nbformat": 4,
 "nbformat_minor": 5
}
