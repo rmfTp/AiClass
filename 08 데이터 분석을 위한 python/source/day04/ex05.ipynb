{
 "cells": [
  {
   "cell_type": "code",
   "execution_count": null,
   "id": "0eed9f95",
   "metadata": {},
   "outputs": [],
   "source": [
    "class Caculator:\n",
    "    def __init__(self, a, b):\n",
    "        self.a = a\n",
    "        self.b = b\n",
    "    def add(self):\n",
    "        return self.a + self.b\n",
    "    def sub(self):\n",
    "        return self.a - self.b\n",
    "    def mul(self):\n",
    "        return self.a * self.b\n",
    "    def div(self):\n",
    "        return self.a / self.b\n",
    "    def __str__(self):\n",
    "        return f\"a = {self.a}, b = {self.b}\\n\""
   ]
  },
  {
   "cell_type": "code",
   "execution_count": 9,
   "id": "6759896e",
   "metadata": {},
   "outputs": [],
   "source": [
    "cal1 = Caculator(200, 10)"
   ]
  },
  {
   "cell_type": "code",
   "execution_count": 10,
   "id": "5892fb28",
   "metadata": {},
   "outputs": [
    {
     "name": "stdout",
     "output_type": "stream",
     "text": [
      "a = 200, b = 10\n",
      "\n"
     ]
    }
   ],
   "source": [
    "print(cal1)\n"
   ]
  },
  {
   "cell_type": "code",
   "execution_count": 11,
   "id": "91dae60a",
   "metadata": {},
   "outputs": [
    {
     "name": "stdout",
     "output_type": "stream",
     "text": [
      "20\n"
     ]
    }
   ],
   "source": [
    "print(int(cal1.div()))"
   ]
  },
  {
   "cell_type": "code",
   "execution_count": 32,
   "id": "ef7d2e8d",
   "metadata": {},
   "outputs": [],
   "source": [
    "class MoreCaculator(Caculator):\n",
    "    def div(self):\n",
    "        if self.b == 0:\n",
    "            return float('inf')\n",
    "        return self.a // self.b"
   ]
  },
  {
   "cell_type": "code",
   "execution_count": 33,
   "id": "bac4e43b",
   "metadata": {},
   "outputs": [],
   "source": [
    "cal2 = MoreCaculator(100, 0)"
   ]
  },
  {
   "cell_type": "code",
   "execution_count": 34,
   "id": "8ecdd20d",
   "metadata": {},
   "outputs": [
    {
     "data": {
      "text/plain": [
       "inf"
      ]
     },
     "execution_count": 34,
     "metadata": {},
     "output_type": "execute_result"
    }
   ],
   "source": [
    "cal2.div()"
   ]
  },
  {
   "cell_type": "code",
   "execution_count": null,
   "id": "16a24e53",
   "metadata": {},
   "outputs": [],
   "source": []
  }
 ],
 "metadata": {
  "kernelspec": {
   "display_name": "basic",
   "language": "python",
   "name": "python3"
  },
  "language_info": {
   "codemirror_mode": {
    "name": "ipython",
    "version": 3
   },
   "file_extension": ".py",
   "mimetype": "text/x-python",
   "name": "python",
   "nbconvert_exporter": "python",
   "pygments_lexer": "ipython3",
   "version": "3.12.10"
  }
 },
 "nbformat": 4,
 "nbformat_minor": 5
}
