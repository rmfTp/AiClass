{
 "cells": [
  {
   "cell_type": "code",
   "execution_count": 2,
   "id": "f95e21c8",
   "metadata": {},
   "outputs": [],
   "source": [
    "class UserIdError(Exception):\n",
    "    pass\n",
    "class UserPwError(Exception):\n",
    "    pass"
   ]
  },
  {
   "cell_type": "code",
   "execution_count": null,
   "id": "32b5612e",
   "metadata": {},
   "outputs": [],
   "source": [
    "def login(user_id, user_pw):\n",
    "    if user_id != \"user01\":\n",
    "        raise UserIdError(\"아이디 불일치\")\n",
    "    if user_pw != \"123456\":\n",
    "        raise UserPwError(\"비밀번호 불일치\")\n",
    "    return \"로그인 성공\""
   ]
  },
  {
   "cell_type": "code",
   "execution_count": 6,
   "id": "fb733cf6",
   "metadata": {},
   "outputs": [
    {
     "ename": "UserIdError",
     "evalue": "아이디 불일치",
     "output_type": "error",
     "traceback": [
      "\u001b[31m---------------------------------------------------------------------------\u001b[39m",
      "\u001b[31mUserIdError\u001b[39m                               Traceback (most recent call last)",
      "\u001b[36mCell\u001b[39m\u001b[36m \u001b[39m\u001b[32mIn[6]\u001b[39m\u001b[32m, line 1\u001b[39m\n\u001b[32m----> \u001b[39m\u001b[32m1\u001b[39m \u001b[43mlogin\u001b[49m\u001b[43m(\u001b[49m\u001b[33;43m\"\u001b[39;49m\u001b[33;43muser02\u001b[39;49m\u001b[33;43m\"\u001b[39;49m\u001b[43m,\u001b[49m\u001b[43m \u001b[49m\u001b[33;43m\"\u001b[39;49m\u001b[33;43m123452\u001b[39;49m\u001b[33;43m\"\u001b[39;49m\u001b[43m)\u001b[49m\n",
      "\u001b[36mCell\u001b[39m\u001b[36m \u001b[39m\u001b[32mIn[3]\u001b[39m\u001b[32m, line 3\u001b[39m, in \u001b[36mlogin\u001b[39m\u001b[34m(user_id, user_pw)\u001b[39m\n\u001b[32m      1\u001b[39m \u001b[38;5;28;01mdef\u001b[39;00m\u001b[38;5;250m \u001b[39m\u001b[34mlogin\u001b[39m(user_id, user_pw):\n\u001b[32m      2\u001b[39m     \u001b[38;5;28;01mif\u001b[39;00m user_id != \u001b[33m\"\u001b[39m\u001b[33muser01\u001b[39m\u001b[33m\"\u001b[39m:\n\u001b[32m----> \u001b[39m\u001b[32m3\u001b[39m         \u001b[38;5;28;01mraise\u001b[39;00m UserIdError(\u001b[33m\"\u001b[39m\u001b[33m아이디 불일치\u001b[39m\u001b[33m\"\u001b[39m)\n\u001b[32m      4\u001b[39m     \u001b[38;5;28;01mif\u001b[39;00m user_pw != \u001b[33m\"\u001b[39m\u001b[33m123456\u001b[39m\u001b[33m\"\u001b[39m:\n\u001b[32m      5\u001b[39m         \u001b[38;5;28;01mraise\u001b[39;00m UserPwError(\u001b[33m\"\u001b[39m\u001b[33m비밀번호 불일치\u001b[39m\u001b[33m\"\u001b[39m)\n",
      "\u001b[31mUserIdError\u001b[39m: 아이디 불일치"
     ]
    }
   ],
   "source": [
    "login(\"user02\", \"123452\")"
   ]
  },
  {
   "cell_type": "code",
   "execution_count": 5,
   "id": "0188c269",
   "metadata": {},
   "outputs": [],
   "source": [
    "class UserIdError(Exception):\n",
    "    def __str__(self):\n",
    "        return \"아이디 불일치\"\n",
    "class UserPwError(Exception):\n",
    "    def __str__(self):\n",
    "        return \"비밀번호 불일치\""
   ]
  },
  {
   "cell_type": "code",
   "execution_count": 7,
   "id": "8565b33d",
   "metadata": {},
   "outputs": [
    {
     "name": "stdout",
     "output_type": "stream",
     "text": [
      "아이디 불일치\n"
     ]
    }
   ],
   "source": [
    "try:\n",
    "    login(\"user02\", \"123452\")\n",
    "except (UserIdError,UserPwError) as e:\n",
    "    print(e)"
   ]
  },
  {
   "cell_type": "code",
   "execution_count": null,
   "id": "edeb16a4",
   "metadata": {},
   "outputs": [],
   "source": []
  }
 ],
 "metadata": {
  "kernelspec": {
   "display_name": "basic",
   "language": "python",
   "name": "python3"
  },
  "language_info": {
   "codemirror_mode": {
    "name": "ipython",
    "version": 3
   },
   "file_extension": ".py",
   "mimetype": "text/x-python",
   "name": "python",
   "nbconvert_exporter": "python",
   "pygments_lexer": "ipython3",
   "version": "3.12.10"
  }
 },
 "nbformat": 4,
 "nbformat_minor": 5
}
