{
 "cells": [
  {
   "cell_type": "code",
   "execution_count": null,
   "id": "a2dbd29a",
   "metadata": {},
   "outputs": [],
   "source": [
    "import time\n",
    "import threading"
   ]
  },
  {
   "cell_type": "code",
   "execution_count": null,
   "id": "20b17d7e",
   "metadata": {},
   "outputs": [],
   "source": [
    "def some_work():\n",
    "    for i in range(1,11):\n",
    "        print(\"작업 %d\"% i)\n",
    "        time.sleep(1)\n",
    "def some_work2():\n",
    "    for i in range(1,11):\n",
    "        print(\"작업2 %d\"% i)\n",
    "        time.sleep(1)"
   ]
  },
  {
   "cell_type": "code",
   "execution_count": null,
   "id": "280360ab",
   "metadata": {},
   "outputs": [],
   "source": [
    "th = threading.Thread(target=some_work)\n",
    "th.start()\n",
    "th2 = threading.Thread(target=some_work2)\n",
    "th2.start()\n",
    "th1.join()\n",
    "for i in range(1, 6):\n",
    "    print(\"작업 %d\" % i)\n",
    "    time.sleep(1)\n",
    "print(\"작업 완료\")"
   ]
  },
  {
   "cell_type": "code",
   "execution_count": null,
   "id": "c68e0d65",
   "metadata": {},
   "outputs": [],
   "source": []
  }
 ],
 "metadata": {
  "kernelspec": {
   "display_name": "basic",
   "language": "python",
   "name": "python3"
  },
  "language_info": {
   "codemirror_mode": {
    "name": "ipython",
    "version": 3
   },
   "file_extension": ".py",
   "mimetype": "text/x-python",
   "name": "python",
   "nbconvert_exporter": "python",
   "pygments_lexer": "ipython3",
   "version": "3.12.10"
  }
 },
 "nbformat": 4,
 "nbformat_minor": 5
}
