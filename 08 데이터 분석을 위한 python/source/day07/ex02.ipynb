{
 "cells": [
  {
   "cell_type": "code",
   "execution_count": 3,
   "id": "c1e9272c",
   "metadata": {},
   "outputs": [],
   "source": [
    "from faker import Faker"
   ]
  },
  {
   "cell_type": "code",
   "execution_count": 5,
   "id": "ee1c1d14",
   "metadata": {},
   "outputs": [],
   "source": [
    "faker = Faker(\"ko-KR\")"
   ]
  },
  {
   "cell_type": "code",
   "execution_count": 6,
   "id": "ceaf99d7",
   "metadata": {},
   "outputs": [
    {
     "data": {
      "text/plain": [
       "'김주원'"
      ]
     },
     "execution_count": 6,
     "metadata": {},
     "output_type": "execute_result"
    }
   ],
   "source": [
    "faker.name()"
   ]
  },
  {
   "cell_type": "code",
   "execution_count": 8,
   "id": "fd2b9155",
   "metadata": {},
   "outputs": [
    {
     "data": {
      "text/plain": [
       "[('이순자', '전라남도 충주시 오금30로 875'),\n",
       " ('권서윤', '충청북도 영동군 테헤란12가 52-99 (경자이리)'),\n",
       " ('김재현', '대전광역시 남구 서초중앙로 643-54 (성민이한동)'),\n",
       " ('김수빈', '경상북도 충주시 도산대거리 지하554'),\n",
       " ('김상현', '부산광역시 강서구 역삼0거리 364-27 (지후류동)'),\n",
       " ('김정수', '경상남도 안산시 상록구 백제고분길 795-95 (영환류리)'),\n",
       " ('문정순', '제주특별자치도 홍성군 학동467가 93'),\n",
       " ('하순자', '울산광역시 중랑구 서초중앙로 72-72 (경희김읍)'),\n",
       " ('박승현', '울산광역시 강남구 봉은사길 814-44'),\n",
       " ('김미영', '경상남도 고양시 덕양구 개포8가 지하794')]"
      ]
     },
     "execution_count": 8,
     "metadata": {},
     "output_type": "execute_result"
    }
   ],
   "source": [
    "members = [(faker.name(), faker.address()) for _ in range(10)]\n",
    "members"
   ]
  },
  {
   "cell_type": "code",
   "execution_count": null,
   "id": "7493d392",
   "metadata": {},
   "outputs": [],
   "source": []
  }
 ],
 "metadata": {
  "kernelspec": {
   "display_name": "basic",
   "language": "python",
   "name": "python3"
  },
  "language_info": {
   "codemirror_mode": {
    "name": "ipython",
    "version": 3
   },
   "file_extension": ".py",
   "mimetype": "text/x-python",
   "name": "python",
   "nbconvert_exporter": "python",
   "pygments_lexer": "ipython3",
   "version": "3.12.10"
  }
 },
 "nbformat": 4,
 "nbformat_minor": 5
}
