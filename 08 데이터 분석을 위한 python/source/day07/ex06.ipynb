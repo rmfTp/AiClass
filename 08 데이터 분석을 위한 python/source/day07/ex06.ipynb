{
 "cells": [
  {
   "cell_type": "code",
   "execution_count": 21,
   "id": "71df71d0",
   "metadata": {},
   "outputs": [],
   "source": [
    "import requests"
   ]
  },
  {
   "cell_type": "code",
   "execution_count": 22,
   "id": "b0d89c93",
   "metadata": {},
   "outputs": [],
   "source": [
    "response = requests.get('https://news.naver.com/section/105')"
   ]
  },
  {
   "cell_type": "code",
   "execution_count": 23,
   "id": "0033690c",
   "metadata": {},
   "outputs": [
    {
     "data": {
      "text/plain": [
       "'\\n\\t<div class=\"sa_head\">\\n\\t\\t<span class=\"sa_head_inner\">\\n\\t\\t\\t<a href=\"#\" class=\"sa_head_link _TOGGLE\" data-classValue=\"is_hidden\" data-target=\"_SECTION_HEADLINE_INFO_79bo4\" data-clk=\"guide\">헤드라인 뉴스 <i class=\"sa_head_icon\">안내</i></a>\\n\\t\\t</span>\\n\\t\\t<div id=\"_SECTION_HEADLINE_INFO_79bo4\" class=\"sa_head_layer is_hidden\">\\n\\t\\t\\t<p class=\"sa_head_layer_p\">각 헤드라인의 기사와 배열 순서는 개인화를 반영해 추천되며, 기사묶음의 대표 기사는 구독 언론사 중심으로 제공됩니다. 기사 수량이 표기된 기사 우측 하단의 파란색 아이콘을 클릭하면 기사묶음을 확인할 수 있고 기사묶음과 기사묶음 타이틀도 기사 내용을 기반으로 자동 추출됩니다.</p>\\n\\t\\t\\t<a href=\"https://media.naver.com/algorithm\" class=\"sa_head_layer_go\">알고리즘 자세히 보기</a>\\n\\t\\t\\t<div class=\"sa_head_layer_close\">\\n\\t\\t\\t\\t<button type=\"button\" class=\"_TOGGLE\" data-classValue=\"is_hidden\" data-target=\"_SECTION_HEADLINE_INFO_79bo4\">닫기</button>\\n\\t\\t\\t</div>\\n\\t\\t</div>\\n\\t</div>\\n\\t<ul id=\"_SECTION_HEADLINE_LIST_79bo4\" class=\"sa_list\">\\n\\t\\t<li class=\"sa_item _'"
      ]
     },
     "execution_count": 23,
     "metadata": {},
     "output_type": "execute_result"
    }
   ],
   "source": [
    "data = response.text.split('SECTION_HEADLINE\">')[1]\n",
    "# data = data.split('_SECTION_HEADLINE_MORE_BUTTON_WRAP')[0]\n",
    "data"
   ]
  },
  {
   "cell_type": "code",
   "execution_count": 24,
   "id": "fe6710f3",
   "metadata": {},
   "outputs": [
    {
     "data": {
      "text/plain": [
       "'\\n\\t\\t<li class=\"sa_item _'"
      ]
     },
     "execution_count": 24,
     "metadata": {},
     "output_type": "execute_result"
    }
   ],
   "source": [
    "data = data.split('sa_list\">')[1]\n",
    "data = data.split(r'</ul>')[0]\n",
    "data"
   ]
  },
  {
   "cell_type": "code",
   "execution_count": null,
   "id": "a538085f",
   "metadata": {},
   "outputs": [],
   "source": []
  }
 ],
 "metadata": {
  "kernelspec": {
   "display_name": "basic",
   "language": "python",
   "name": "python3"
  },
  "language_info": {
   "codemirror_mode": {
    "name": "ipython",
    "version": 3
   },
   "file_extension": ".py",
   "mimetype": "text/x-python",
   "name": "python",
   "nbconvert_exporter": "python",
   "pygments_lexer": "ipython3",
   "version": "3.12.10"
  }
 },
 "nbformat": 4,
 "nbformat_minor": 5
}
