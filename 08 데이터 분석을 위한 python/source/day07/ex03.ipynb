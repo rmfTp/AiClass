{
 "cells": [
  {
   "cell_type": "code",
   "execution_count": 60,
   "id": "8adfde49",
   "metadata": {},
   "outputs": [],
   "source": [
    "fruits =    [\"apple\", \"banana\", \"cherry\", \"date\", \"elderberry\"]"
   ]
  },
  {
   "cell_type": "code",
   "execution_count": 51,
   "id": "86d7d045",
   "metadata": {},
   "outputs": [],
   "source": [
    "itr = iter(fruits)"
   ]
  },
  {
   "cell_type": "code",
   "execution_count": 52,
   "id": "8f67340d",
   "metadata": {},
   "outputs": [
    {
     "data": {
      "text/plain": [
       "'apple'"
      ]
     },
     "execution_count": 52,
     "metadata": {},
     "output_type": "execute_result"
    }
   ],
   "source": [
    "next(itr)  # \"apple\""
   ]
  },
  {
   "cell_type": "code",
   "execution_count": 53,
   "id": "203f5dac",
   "metadata": {},
   "outputs": [
    {
     "name": "stdout",
     "output_type": "stream",
     "text": [
      "apple\n",
      "banana\n",
      "cherry\n",
      "date\n",
      "elderberry\n"
     ]
    }
   ],
   "source": [
    "itr = iter(fruits)\n",
    "while True:\n",
    "    try:\n",
    "        fruit = next(itr)\n",
    "        print   (fruit)\n",
    "    except StopIteration:\n",
    "        break"
   ]
  },
  {
   "cell_type": "code",
   "execution_count": 54,
   "id": "a1ad5640",
   "metadata": {},
   "outputs": [
    {
     "name": "stdout",
     "output_type": "stream",
     "text": [
      "apple\n",
      "banana\n",
      "cherry\n",
      "date\n",
      "elderberry\n"
     ]
    }
   ],
   "source": [
    "itr = iter(fruits)\n",
    "for fruit in itr:\n",
    "    print(fruit)"
   ]
  },
  {
   "cell_type": "code",
   "execution_count": 92,
   "id": "17154f4c",
   "metadata": {},
   "outputs": [],
   "source": [
    "class MyIterator:\n",
    "    def __init__(self,items,position = 0):\n",
    "        self.items = items\n",
    "        self.position = position\n",
    "    def __iter__(self):\n",
    "        return self\n",
    "    def __next__(self):\n",
    "        if self.position >= len(self.items):\n",
    "            raise StopIteration\n",
    "        item = self.items[self.position]\n",
    "        self.position += 1\n",
    "        return item"
   ]
  },
  {
   "cell_type": "code",
   "execution_count": 93,
   "id": "3577d76b",
   "metadata": {},
   "outputs": [],
   "source": [
    "itr = MyIterator(fruits)"
   ]
  },
  {
   "cell_type": "code",
   "execution_count": 104,
   "id": "a07e27d8",
   "metadata": {},
   "outputs": [],
   "source": [
    "for item in itr:\n",
    "    print(item)"
   ]
  },
  {
   "cell_type": "code",
   "execution_count": 105,
   "id": "31bcfb40",
   "metadata": {},
   "outputs": [],
   "source": [
    "def mygen():\n",
    "    yield \"apple\"\n",
    "    yield \"banana\"\n",
    "    yield \"cherry\""
   ]
  },
  {
   "cell_type": "code",
   "execution_count": 106,
   "id": "be68ca4a",
   "metadata": {},
   "outputs": [
    {
     "data": {
      "text/plain": [
       "generator"
      ]
     },
     "execution_count": 106,
     "metadata": {},
     "output_type": "execute_result"
    }
   ],
   "source": [
    "gen = mygen()\n",
    "type(gen)  # <class 'generator'>"
   ]
  },
  {
   "cell_type": "code",
   "execution_count": 110,
   "id": "3f4ca197",
   "metadata": {},
   "outputs": [
    {
     "ename": "StopIteration",
     "evalue": "",
     "output_type": "error",
     "traceback": [
      "\u001b[31m---------------------------------------------------------------------------\u001b[39m",
      "\u001b[31mStopIteration\u001b[39m                             Traceback (most recent call last)",
      "\u001b[36mCell\u001b[39m\u001b[36m \u001b[39m\u001b[32mIn[110]\u001b[39m\u001b[32m, line 1\u001b[39m\n\u001b[32m----> \u001b[39m\u001b[32m1\u001b[39m \u001b[38;5;28;43mnext\u001b[39;49m\u001b[43m(\u001b[49m\u001b[43mgen\u001b[49m\u001b[43m)\u001b[49m  \u001b[38;5;66;03m# \"apple\"\u001b[39;00m\n",
      "\u001b[31mStopIteration\u001b[39m: "
     ]
    }
   ],
   "source": [
    "next(gen)  # \"apple\""
   ]
  },
  {
   "cell_type": "code",
   "execution_count": 54,
   "id": "2e6afec2",
   "metadata": {},
   "outputs": [],
   "source": [
    "gen = (i*i for i in range(10000))"
   ]
  },
  {
   "cell_type": "code",
   "execution_count": 55,
   "id": "186ccc81",
   "metadata": {},
   "outputs": [
    {
     "data": {
      "text/plain": [
       "0"
      ]
     },
     "execution_count": 55,
     "metadata": {},
     "output_type": "execute_result"
    }
   ],
   "source": [
    "next(gen)  # \"apple\""
   ]
  },
  {
   "cell_type": "code",
   "execution_count": 274,
   "id": "ab0af815",
   "metadata": {},
   "outputs": [],
   "source": [
    "def add(x, y):\n",
    "    return x + y"
   ]
  },
  {
   "cell_type": "code",
   "execution_count": 275,
   "id": "4f7bd76c",
   "metadata": {},
   "outputs": [
    {
     "data": {
      "text/plain": [
       "20.122999999999998"
      ]
     },
     "execution_count": 275,
     "metadata": {},
     "output_type": "execute_result"
    }
   ],
   "source": [
    "add(10, 10.123)"
   ]
  },
  {
   "cell_type": "code",
   "execution_count": null,
   "id": "d7ba11bf",
   "metadata": {},
   "outputs": [],
   "source": []
  }
 ],
 "metadata": {
  "kernelspec": {
   "display_name": "basic",
   "language": "python",
   "name": "python3"
  },
  "language_info": {
   "codemirror_mode": {
    "name": "ipython",
    "version": 3
   },
   "file_extension": ".py",
   "mimetype": "text/x-python",
   "name": "python",
   "nbconvert_exporter": "python",
   "pygments_lexer": "ipython3",
   "version": "3.12.10"
  }
 },
 "nbformat": 4,
 "nbformat_minor": 5
}
