{
 "cells": [
  {
   "cell_type": "code",
   "execution_count": 1,
   "id": "18621365",
   "metadata": {},
   "outputs": [],
   "source": [
    "import re"
   ]
  },
  {
   "cell_type": "code",
   "execution_count": 4,
   "id": "7f4d936f",
   "metadata": {},
   "outputs": [],
   "source": [
    "# p = re.compile(\"[abc]\")\n",
    "p = re.compile(\"[a-z]\")"
   ]
  },
  {
   "cell_type": "code",
   "execution_count": 5,
   "id": "84485d0f",
   "metadata": {},
   "outputs": [
    {
     "data": {
      "text/plain": [
       "<re.Match object; span=(0, 1), match='b'>"
      ]
     },
     "execution_count": 5,
     "metadata": {},
     "output_type": "execute_result"
    }
   ],
   "source": [
    "p.match(\"b01\")"
   ]
  },
  {
   "cell_type": "markdown",
   "id": "9631b112",
   "metadata": {},
   "source": [
    "# 정규표현식\n",
    "## \\[\\] 문자 클래스 : 문자 하나 하나\n",
    "```python\n",
    "[abc] : a, b, c\n",
    "```\n",
    "\n",
    "- 문자의 범위 - \n",
    "```python\n",
    "[a-z] # a ~ z\n",
    "[A-Z] # A ~ Z 알파벳 대문자\n",
    "[a-zA-z] # 대소문자 구분 없는 알파벳 문자 \n",
    "[ㄱ-ㅎ가-힣] # 한글 문자 1개\n",
    "[0-9] # 숫자 문자 1개\n",
    "[^0-9] # 0 ~ 9 숫자를 제외한 모든 문자 (^ ~를 제외한 문자)\n",
    "```"
   ]
  },
  {
   "cell_type": "code",
   "execution_count": 9,
   "id": "0cb47b87",
   "metadata": {},
   "outputs": [],
   "source": [
    "p = re.compile(\"\\\\d\")\n",
    "p1 = re.compile(\"[^\\\\d]\")"
   ]
  },
  {
   "cell_type": "code",
   "execution_count": 11,
   "id": "eb2d2a9d",
   "metadata": {},
   "outputs": [
    {
     "name": "stdout",
     "output_type": "stream",
     "text": [
      "None\n",
      "<re.Match object; span=(0, 1), match='a'>\n"
     ]
    }
   ],
   "source": [
    "print(p.match(\"a\"))\n",
    "print(p1.match(\"a\"))"
   ]
  },
  {
   "cell_type": "code",
   "execution_count": 29,
   "id": "94d643ee",
   "metadata": {},
   "outputs": [
    {
     "name": "stdout",
     "output_type": "stream",
     "text": [
      "a000b <re.Match object; span=(0, 5), match='a000b'>\n",
      "a111b <re.Match object; span=(0, 5), match='a111b'>\n",
      "a22252b <re.Match object; span=(0, 7), match='a22252b'>\n",
      "a!b <re.Match object; span=(0, 3), match='a!b'>\n",
      "a\n",
      "b None\n",
      "ab <re.Match object; span=(0, 2), match='ab'>\n"
     ]
    }
   ],
   "source": [
    "words = ['a000b', 'a111b', 'a22252b', 'a!b', 'a\\nb', 'ab']\n",
    "# p = re.compile(\"a.{1,}b\") == (\"a.+b\")\n",
    "p = re.compile(\"a.{,}b\")# == (\"a.*b\")\n",
    "for word in words:\n",
    "    print(word, p1.match(word))"
   ]
  },
  {
   "cell_type": "code",
   "execution_count": null,
   "id": "b859d384",
   "metadata": {},
   "outputs": [],
   "source": [
    "p = re.compile(\".*python.*\")"
   ]
  },
  {
   "cell_type": "code",
   "execution_count": 37,
   "id": "e05a7260",
   "metadata": {},
   "outputs": [
    {
     "name": "stdout",
     "output_type": "stream",
     "text": [
      "<re.Match object; span=(0, 6), match='python'>\n",
      "<re.Match object; span=(0, 13), match='I love python'>\n",
      "<re.Match object; span=(0, 13), match='I love python'>\n"
     ]
    }
   ],
   "source": [
    "print(p.match(\"python\"))\n",
    "print(p.match(\"I love python\"))\n",
    "print(p.match(\"I love python and java\"))"
   ]
  },
  {
   "cell_type": "code",
   "execution_count": 41,
   "id": "e9fefe3c",
   "metadata": {},
   "outputs": [
    {
     "name": "stdout",
     "output_type": "stream",
     "text": [
      "<re.Match object; span=(7, 13), match='python'>\n"
     ]
    }
   ],
   "source": [
    "p = re.compile(\"python\")\n",
    "print(p.search(\"I love python and java\"))"
   ]
  },
  {
   "cell_type": "code",
   "execution_count": 52,
   "id": "6824f02a",
   "metadata": {},
   "outputs": [],
   "source": [
    "p = re.compile('010.?\\\\d{4}.?\\\\d{4}')"
   ]
  },
  {
   "cell_type": "code",
   "execution_count": 56,
   "id": "96818816",
   "metadata": {},
   "outputs": [],
   "source": [
    "m1 = '010-0101-0101'\n",
    "m2 = '01001010101'\n",
    "m3 = '010.0101.0101'\n",
    "m4 = '010010101011234'"
   ]
  },
  {
   "cell_type": "code",
   "execution_count": 57,
   "id": "1c2c233e",
   "metadata": {},
   "outputs": [
    {
     "name": "stdout",
     "output_type": "stream",
     "text": [
      "<re.Match object; span=(0, 13), match='010-0101-0101'>\n",
      "<re.Match object; span=(0, 11), match='01001010101'>\n",
      "<re.Match object; span=(0, 13), match='010.0101.0101'>\n"
     ]
    }
   ],
   "source": [
    "print(p.match(m1))\n",
    "print(p.match(m2))\n",
    "print(p.match(m3))"
   ]
  },
  {
   "cell_type": "code",
   "execution_count": null,
   "id": "dfdb08ba",
   "metadata": {},
   "outputs": [],
   "source": [
    "p = re.compile('^010\\\\D?\\\\d{4}\\\\D?\\\\d{4}$')"
   ]
  },
  {
   "cell_type": "code",
   "execution_count": 59,
   "id": "0a03514b",
   "metadata": {},
   "outputs": [
    {
     "name": "stdout",
     "output_type": "stream",
     "text": [
      "<re.Match object; span=(0, 13), match='010-0101-0101'>\n",
      "<re.Match object; span=(0, 11), match='01001010101'>\n",
      "<re.Match object; span=(0, 13), match='010.0101.0101'>\n",
      "None\n"
     ]
    }
   ],
   "source": [
    "print(p.search(m1))\n",
    "print(p.search(m2))\n",
    "print(p.search(m3))\n",
    "print(p.search(m4))"
   ]
  },
  {
   "cell_type": "code",
   "execution_count": 61,
   "id": "b9dc3e22",
   "metadata": {},
   "outputs": [
    {
     "name": "stdout",
     "output_type": "stream",
     "text": [
      "group:  01001010101 start:  0 end:  11 span:  (0, 11)\n"
     ]
    }
   ],
   "source": [
    "p = re.compile(r'010\\D?\\d{4}\\D?\\d{4}')\n",
    "m = p.search('01001010101234')\n",
    "print('group: ',m.group(), 'start: ', m.start(), 'end: ', m.end(), 'span: ', m.span())"
   ]
  },
  {
   "cell_type": "code",
   "execution_count": null,
   "id": "7730edec",
   "metadata": {},
   "outputs": [],
   "source": []
  }
 ],
 "metadata": {
  "kernelspec": {
   "display_name": "basic",
   "language": "python",
   "name": "python3"
  },
  "language_info": {
   "codemirror_mode": {
    "name": "ipython",
    "version": 3
   },
   "file_extension": ".py",
   "mimetype": "text/x-python",
   "name": "python",
   "nbconvert_exporter": "python",
   "pygments_lexer": "ipython3",
   "version": "3.12.10"
  }
 },
 "nbformat": 4,
 "nbformat_minor": 5
}
